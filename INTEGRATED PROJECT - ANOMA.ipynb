{
 "cells": [
  {
   "cell_type": "markdown",
   "metadata": {},
   "source": [
    "# PROJECT DESCRPTION \n",
    "I work for an online store Ice, that sells video games all over the world. User and expert reviews, genres, platforms (e.g. Xbox or PlayStation), and historical data on game sales are available from open sources. \n",
    "\n",
    "I need to identify patterns that determine whether a game succeeds or not. This will allow you to spot potential big winners and plan advertising campaigns. \n",
    "\n",
    "I am going to do this with access to data going back to 2016. The dataset contains the abbreviation ESRB. The Entertainment Software Rating Board evaluates a game's content and assigns an age rating suc as Teen or Mature. "
   ]
  },
  {
   "cell_type": "markdown",
   "metadata": {},
   "source": [
    "#### OPEN DATA FILE AND STUDY THE GENERAL INFORMATION"
   ]
  },
  {
   "cell_type": "code",
   "execution_count": 1,
   "metadata": {
    "scrolled": false
   },
   "outputs": [
    {
     "name": "stdout",
     "output_type": "stream",
     "text": [
      "<class 'pandas.core.frame.DataFrame'>\n",
      "RangeIndex: 16715 entries, 0 to 16714\n",
      "Data columns (total 11 columns):\n",
      "Name               16713 non-null object\n",
      "Platform           16715 non-null object\n",
      "Year_of_Release    16446 non-null float64\n",
      "Genre              16713 non-null object\n",
      "NA_sales           16715 non-null float64\n",
      "EU_sales           16715 non-null float64\n",
      "JP_sales           16715 non-null float64\n",
      "Other_sales        16715 non-null float64\n",
      "Critic_Score       8137 non-null float64\n",
      "User_Score         10014 non-null object\n",
      "Rating             9949 non-null object\n",
      "dtypes: float64(6), object(5)\n",
      "memory usage: 1.4+ MB\n"
     ]
    },
    {
     "data": {
      "text/html": [
       "<div>\n",
       "<style scoped>\n",
       "    .dataframe tbody tr th:only-of-type {\n",
       "        vertical-align: middle;\n",
       "    }\n",
       "\n",
       "    .dataframe tbody tr th {\n",
       "        vertical-align: top;\n",
       "    }\n",
       "\n",
       "    .dataframe thead th {\n",
       "        text-align: right;\n",
       "    }\n",
       "</style>\n",
       "<table border=\"1\" class=\"dataframe\">\n",
       "  <thead>\n",
       "    <tr style=\"text-align: right;\">\n",
       "      <th></th>\n",
       "      <th>Name</th>\n",
       "      <th>Platform</th>\n",
       "      <th>Year_of_Release</th>\n",
       "      <th>Genre</th>\n",
       "      <th>NA_sales</th>\n",
       "      <th>EU_sales</th>\n",
       "      <th>JP_sales</th>\n",
       "      <th>Other_sales</th>\n",
       "      <th>Critic_Score</th>\n",
       "      <th>User_Score</th>\n",
       "      <th>Rating</th>\n",
       "    </tr>\n",
       "  </thead>\n",
       "  <tbody>\n",
       "    <tr>\n",
       "      <td>0</td>\n",
       "      <td>Wii Sports</td>\n",
       "      <td>Wii</td>\n",
       "      <td>2006.0</td>\n",
       "      <td>Sports</td>\n",
       "      <td>41.36</td>\n",
       "      <td>28.96</td>\n",
       "      <td>3.77</td>\n",
       "      <td>8.45</td>\n",
       "      <td>76.0</td>\n",
       "      <td>8</td>\n",
       "      <td>E</td>\n",
       "    </tr>\n",
       "    <tr>\n",
       "      <td>1</td>\n",
       "      <td>Super Mario Bros.</td>\n",
       "      <td>NES</td>\n",
       "      <td>1985.0</td>\n",
       "      <td>Platform</td>\n",
       "      <td>29.08</td>\n",
       "      <td>3.58</td>\n",
       "      <td>6.81</td>\n",
       "      <td>0.77</td>\n",
       "      <td>NaN</td>\n",
       "      <td>NaN</td>\n",
       "      <td>NaN</td>\n",
       "    </tr>\n",
       "    <tr>\n",
       "      <td>2</td>\n",
       "      <td>Mario Kart Wii</td>\n",
       "      <td>Wii</td>\n",
       "      <td>2008.0</td>\n",
       "      <td>Racing</td>\n",
       "      <td>15.68</td>\n",
       "      <td>12.76</td>\n",
       "      <td>3.79</td>\n",
       "      <td>3.29</td>\n",
       "      <td>82.0</td>\n",
       "      <td>8.3</td>\n",
       "      <td>E</td>\n",
       "    </tr>\n",
       "    <tr>\n",
       "      <td>3</td>\n",
       "      <td>Wii Sports Resort</td>\n",
       "      <td>Wii</td>\n",
       "      <td>2009.0</td>\n",
       "      <td>Sports</td>\n",
       "      <td>15.61</td>\n",
       "      <td>10.93</td>\n",
       "      <td>3.28</td>\n",
       "      <td>2.95</td>\n",
       "      <td>80.0</td>\n",
       "      <td>8</td>\n",
       "      <td>E</td>\n",
       "    </tr>\n",
       "    <tr>\n",
       "      <td>4</td>\n",
       "      <td>Pokemon Red/Pokemon Blue</td>\n",
       "      <td>GB</td>\n",
       "      <td>1996.0</td>\n",
       "      <td>Role-Playing</td>\n",
       "      <td>11.27</td>\n",
       "      <td>8.89</td>\n",
       "      <td>10.22</td>\n",
       "      <td>1.00</td>\n",
       "      <td>NaN</td>\n",
       "      <td>NaN</td>\n",
       "      <td>NaN</td>\n",
       "    </tr>\n",
       "  </tbody>\n",
       "</table>\n",
       "</div>"
      ],
      "text/plain": [
       "                       Name Platform  Year_of_Release         Genre  NA_sales  \\\n",
       "0                Wii Sports      Wii           2006.0        Sports     41.36   \n",
       "1         Super Mario Bros.      NES           1985.0      Platform     29.08   \n",
       "2            Mario Kart Wii      Wii           2008.0        Racing     15.68   \n",
       "3         Wii Sports Resort      Wii           2009.0        Sports     15.61   \n",
       "4  Pokemon Red/Pokemon Blue       GB           1996.0  Role-Playing     11.27   \n",
       "\n",
       "   EU_sales  JP_sales  Other_sales  Critic_Score User_Score Rating  \n",
       "0     28.96      3.77         8.45          76.0          8      E  \n",
       "1      3.58      6.81         0.77           NaN        NaN    NaN  \n",
       "2     12.76      3.79         3.29          82.0        8.3      E  \n",
       "3     10.93      3.28         2.95          80.0          8      E  \n",
       "4      8.89     10.22         1.00           NaN        NaN    NaN  "
      ]
     },
     "execution_count": 1,
     "metadata": {},
     "output_type": "execute_result"
    }
   ],
   "source": [
    "import pandas as pd\n",
    "import numpy as np\n",
    "import matplotlib.pyplot as plt\n",
    "import seaborn as sns\n",
    "from scipy import stats as st\n",
    "data = pd.read_csv('/datasets/games.csv')\n",
    "data.info()\n",
    "data.head()"
   ]
  },
  {
   "cell_type": "markdown",
   "metadata": {},
   "source": [
    "#### PREPARE THE DATA"
   ]
  },
  {
   "cell_type": "code",
   "execution_count": 2,
   "metadata": {
    "scrolled": true
   },
   "outputs": [
    {
     "data": {
      "text/html": [
       "<div>\n",
       "<style scoped>\n",
       "    .dataframe tbody tr th:only-of-type {\n",
       "        vertical-align: middle;\n",
       "    }\n",
       "\n",
       "    .dataframe tbody tr th {\n",
       "        vertical-align: top;\n",
       "    }\n",
       "\n",
       "    .dataframe thead th {\n",
       "        text-align: right;\n",
       "    }\n",
       "</style>\n",
       "<table border=\"1\" class=\"dataframe\">\n",
       "  <thead>\n",
       "    <tr style=\"text-align: right;\">\n",
       "      <th></th>\n",
       "      <th>name</th>\n",
       "      <th>platform</th>\n",
       "      <th>year_of_release</th>\n",
       "      <th>genre</th>\n",
       "      <th>na_sales</th>\n",
       "      <th>eu_sales</th>\n",
       "      <th>jp_sales</th>\n",
       "      <th>other_sales</th>\n",
       "      <th>critic_score</th>\n",
       "      <th>user_score</th>\n",
       "      <th>rating</th>\n",
       "    </tr>\n",
       "  </thead>\n",
       "  <tbody>\n",
       "    <tr>\n",
       "      <td>0</td>\n",
       "      <td>Wii Sports</td>\n",
       "      <td>Wii</td>\n",
       "      <td>2006.0</td>\n",
       "      <td>Sports</td>\n",
       "      <td>41.36</td>\n",
       "      <td>28.96</td>\n",
       "      <td>3.77</td>\n",
       "      <td>8.45</td>\n",
       "      <td>76.0</td>\n",
       "      <td>8</td>\n",
       "      <td>E</td>\n",
       "    </tr>\n",
       "    <tr>\n",
       "      <td>1</td>\n",
       "      <td>Super Mario Bros.</td>\n",
       "      <td>NES</td>\n",
       "      <td>1985.0</td>\n",
       "      <td>Platform</td>\n",
       "      <td>29.08</td>\n",
       "      <td>3.58</td>\n",
       "      <td>6.81</td>\n",
       "      <td>0.77</td>\n",
       "      <td>NaN</td>\n",
       "      <td>NaN</td>\n",
       "      <td>NaN</td>\n",
       "    </tr>\n",
       "    <tr>\n",
       "      <td>2</td>\n",
       "      <td>Mario Kart Wii</td>\n",
       "      <td>Wii</td>\n",
       "      <td>2008.0</td>\n",
       "      <td>Racing</td>\n",
       "      <td>15.68</td>\n",
       "      <td>12.76</td>\n",
       "      <td>3.79</td>\n",
       "      <td>3.29</td>\n",
       "      <td>82.0</td>\n",
       "      <td>8.3</td>\n",
       "      <td>E</td>\n",
       "    </tr>\n",
       "    <tr>\n",
       "      <td>3</td>\n",
       "      <td>Wii Sports Resort</td>\n",
       "      <td>Wii</td>\n",
       "      <td>2009.0</td>\n",
       "      <td>Sports</td>\n",
       "      <td>15.61</td>\n",
       "      <td>10.93</td>\n",
       "      <td>3.28</td>\n",
       "      <td>2.95</td>\n",
       "      <td>80.0</td>\n",
       "      <td>8</td>\n",
       "      <td>E</td>\n",
       "    </tr>\n",
       "    <tr>\n",
       "      <td>4</td>\n",
       "      <td>Pokemon Red/Pokemon Blue</td>\n",
       "      <td>GB</td>\n",
       "      <td>1996.0</td>\n",
       "      <td>Role-Playing</td>\n",
       "      <td>11.27</td>\n",
       "      <td>8.89</td>\n",
       "      <td>10.22</td>\n",
       "      <td>1.00</td>\n",
       "      <td>NaN</td>\n",
       "      <td>NaN</td>\n",
       "      <td>NaN</td>\n",
       "    </tr>\n",
       "  </tbody>\n",
       "</table>\n",
       "</div>"
      ],
      "text/plain": [
       "                       name platform  year_of_release         genre  na_sales  \\\n",
       "0                Wii Sports      Wii           2006.0        Sports     41.36   \n",
       "1         Super Mario Bros.      NES           1985.0      Platform     29.08   \n",
       "2            Mario Kart Wii      Wii           2008.0        Racing     15.68   \n",
       "3         Wii Sports Resort      Wii           2009.0        Sports     15.61   \n",
       "4  Pokemon Red/Pokemon Blue       GB           1996.0  Role-Playing     11.27   \n",
       "\n",
       "   eu_sales  jp_sales  other_sales  critic_score user_score rating  \n",
       "0     28.96      3.77         8.45          76.0          8      E  \n",
       "1      3.58      6.81         0.77           NaN        NaN    NaN  \n",
       "2     12.76      3.79         3.29          82.0        8.3      E  \n",
       "3     10.93      3.28         2.95          80.0          8      E  \n",
       "4      8.89     10.22         1.00           NaN        NaN    NaN  "
      ]
     },
     "execution_count": 2,
     "metadata": {},
     "output_type": "execute_result"
    }
   ],
   "source": [
    "# Changing all column names to lower cases.\n",
    "data.columns = ['name','platform','year_of_release','genre','na_sales','eu_sales','jp_sales','other_sales','critic_score','user_score','rating']\n",
    "data.head()"
   ]
  },
  {
   "cell_type": "code",
   "execution_count": 3,
   "metadata": {
    "scrolled": true
   },
   "outputs": [
    {
     "data": {
      "text/plain": [
       "name                  2\n",
       "platform              0\n",
       "year_of_release     269\n",
       "genre                 2\n",
       "na_sales              0\n",
       "eu_sales              0\n",
       "jp_sales              0\n",
       "other_sales           0\n",
       "critic_score       8578\n",
       "user_score         6701\n",
       "rating             6766\n",
       "dtype: int64"
      ]
     },
     "execution_count": 3,
     "metadata": {},
     "output_type": "execute_result"
    }
   ],
   "source": [
    "# Checking for missing values\n",
    "data.isnull().sum()"
   ]
  },
  {
   "cell_type": "code",
   "execution_count": 4,
   "metadata": {},
   "outputs": [
    {
     "name": "stdout",
     "output_type": "stream",
     "text": [
      "<class 'pandas.core.frame.DataFrame'>\n",
      "Int64Index: 16444 entries, 0 to 16714\n",
      "Data columns (total 11 columns):\n",
      "name               16444 non-null object\n",
      "platform           16444 non-null object\n",
      "year_of_release    16444 non-null float64\n",
      "genre              16444 non-null object\n",
      "na_sales           16444 non-null float64\n",
      "eu_sales           16444 non-null float64\n",
      "jp_sales           16444 non-null float64\n",
      "other_sales        16444 non-null float64\n",
      "critic_score       7983 non-null float64\n",
      "user_score         9839 non-null object\n",
      "rating             9768 non-null object\n",
      "dtypes: float64(6), object(5)\n",
      "memory usage: 1.5+ MB\n"
     ]
    }
   ],
   "source": [
    "#Dropping missing values in year_of_release column\n",
    "data.dropna(subset=['year_of_release','name'], inplace=True)\n",
    "data.info()"
   ]
  },
  {
   "cell_type": "code",
   "execution_count": 5,
   "metadata": {
    "scrolled": true
   },
   "outputs": [
    {
     "data": {
      "text/plain": [
       "name                  0\n",
       "platform              0\n",
       "year_of_release       0\n",
       "genre                 0\n",
       "na_sales              0\n",
       "eu_sales              0\n",
       "jp_sales              0\n",
       "other_sales           0\n",
       "critic_score       8461\n",
       "user_score         6605\n",
       "rating             6676\n",
       "dtype: int64"
      ]
     },
     "execution_count": 5,
     "metadata": {},
     "output_type": "execute_result"
    }
   ],
   "source": [
    "# Re-checking for missing values\n",
    "data.isnull().sum()"
   ]
  },
  {
   "cell_type": "markdown",
   "metadata": {},
   "source": [
    "The criric score, user score might be missing because users did not score nor was the game criticed after it was played. Since critic score and user score are  missing, the rating cannot be complete as these are criteria for rating in the first place."
   ]
  },
  {
   "cell_type": "code",
   "execution_count": 22,
   "metadata": {},
   "outputs": [
    {
     "data": {
      "text/plain": [
       "name               0   \n",
       "platform           0   \n",
       "year_of_release    0   \n",
       "genre              0   \n",
       "na_sales           0   \n",
       "eu_sales           0   \n",
       "jp_sales           0   \n",
       "other_sales        0   \n",
       "critic_score       0   \n",
       "user_score         8981\n",
       "rating             6676\n",
       "total_sales        0   \n",
       "dtype: int64"
      ]
     },
     "execution_count": 22,
     "metadata": {},
     "output_type": "execute_result"
    }
   ],
   "source": [
    "# Replacing NaN and tbd - to be determined with 0 in critic_score and user_score columns\n",
    "data['critic_score'].fillna(0.0, inplace = True)\n",
    "data[data['user_score'] == 'tbd'].fillna(0, inplace = True)\n",
    "data['user_score'] = data['user_score'].replace('tbd', np.nan)\n",
    "data.isnull().sum()"
   ]
  },
  {
   "cell_type": "code",
   "execution_count": 7,
   "metadata": {
    "scrolled": true
   },
   "outputs": [
    {
     "name": "stdout",
     "output_type": "stream",
     "text": [
      "<class 'pandas.core.frame.DataFrame'>\n",
      "Int64Index: 16444 entries, 0 to 16714\n",
      "Data columns (total 11 columns):\n",
      "name               16444 non-null object\n",
      "platform           16444 non-null object\n",
      "year_of_release    16444 non-null int64\n",
      "genre              16444 non-null object\n",
      "na_sales           16444 non-null float64\n",
      "eu_sales           16444 non-null float64\n",
      "jp_sales           16444 non-null float64\n",
      "other_sales        16444 non-null float64\n",
      "critic_score       16444 non-null float64\n",
      "user_score         7463 non-null float64\n",
      "rating             9768 non-null object\n",
      "dtypes: float64(6), int64(1), object(4)\n",
      "memory usage: 1.5+ MB\n"
     ]
    }
   ],
   "source": [
    "# Converting year_of_release and user_score columns to their required dtypes\n",
    "data['year_of_release'] = data['year_of_release'].astype(int)\n",
    "data['user_score'] = data['user_score'].astype(float)\n",
    "data.info()"
   ]
  },
  {
   "cell_type": "code",
   "execution_count": 8,
   "metadata": {
    "scrolled": true
   },
   "outputs": [
    {
     "data": {
      "text/html": [
       "<div>\n",
       "<style scoped>\n",
       "    .dataframe tbody tr th:only-of-type {\n",
       "        vertical-align: middle;\n",
       "    }\n",
       "\n",
       "    .dataframe tbody tr th {\n",
       "        vertical-align: top;\n",
       "    }\n",
       "\n",
       "    .dataframe thead th {\n",
       "        text-align: right;\n",
       "    }\n",
       "</style>\n",
       "<table border=\"1\" class=\"dataframe\">\n",
       "  <thead>\n",
       "    <tr style=\"text-align: right;\">\n",
       "      <th></th>\n",
       "      <th>name</th>\n",
       "      <th>platform</th>\n",
       "      <th>year_of_release</th>\n",
       "      <th>genre</th>\n",
       "      <th>na_sales</th>\n",
       "      <th>eu_sales</th>\n",
       "      <th>jp_sales</th>\n",
       "      <th>other_sales</th>\n",
       "      <th>critic_score</th>\n",
       "      <th>user_score</th>\n",
       "      <th>rating</th>\n",
       "      <th>total_sales</th>\n",
       "    </tr>\n",
       "  </thead>\n",
       "  <tbody>\n",
       "    <tr>\n",
       "      <td>0</td>\n",
       "      <td>Wii Sports</td>\n",
       "      <td>Wii</td>\n",
       "      <td>2006</td>\n",
       "      <td>Sports</td>\n",
       "      <td>41.36</td>\n",
       "      <td>28.96</td>\n",
       "      <td>3.77</td>\n",
       "      <td>8.45</td>\n",
       "      <td>76.0</td>\n",
       "      <td>8.0</td>\n",
       "      <td>E</td>\n",
       "      <td>82.54</td>\n",
       "    </tr>\n",
       "    <tr>\n",
       "      <td>1</td>\n",
       "      <td>Super Mario Bros.</td>\n",
       "      <td>NES</td>\n",
       "      <td>1985</td>\n",
       "      <td>Platform</td>\n",
       "      <td>29.08</td>\n",
       "      <td>3.58</td>\n",
       "      <td>6.81</td>\n",
       "      <td>0.77</td>\n",
       "      <td>0.0</td>\n",
       "      <td>NaN</td>\n",
       "      <td>NaN</td>\n",
       "      <td>40.24</td>\n",
       "    </tr>\n",
       "    <tr>\n",
       "      <td>2</td>\n",
       "      <td>Mario Kart Wii</td>\n",
       "      <td>Wii</td>\n",
       "      <td>2008</td>\n",
       "      <td>Racing</td>\n",
       "      <td>15.68</td>\n",
       "      <td>12.76</td>\n",
       "      <td>3.79</td>\n",
       "      <td>3.29</td>\n",
       "      <td>82.0</td>\n",
       "      <td>8.3</td>\n",
       "      <td>E</td>\n",
       "      <td>35.52</td>\n",
       "    </tr>\n",
       "    <tr>\n",
       "      <td>3</td>\n",
       "      <td>Wii Sports Resort</td>\n",
       "      <td>Wii</td>\n",
       "      <td>2009</td>\n",
       "      <td>Sports</td>\n",
       "      <td>15.61</td>\n",
       "      <td>10.93</td>\n",
       "      <td>3.28</td>\n",
       "      <td>2.95</td>\n",
       "      <td>80.0</td>\n",
       "      <td>8.0</td>\n",
       "      <td>E</td>\n",
       "      <td>32.77</td>\n",
       "    </tr>\n",
       "    <tr>\n",
       "      <td>4</td>\n",
       "      <td>Pokemon Red/Pokemon Blue</td>\n",
       "      <td>GB</td>\n",
       "      <td>1996</td>\n",
       "      <td>Role-Playing</td>\n",
       "      <td>11.27</td>\n",
       "      <td>8.89</td>\n",
       "      <td>10.22</td>\n",
       "      <td>1.00</td>\n",
       "      <td>0.0</td>\n",
       "      <td>NaN</td>\n",
       "      <td>NaN</td>\n",
       "      <td>31.38</td>\n",
       "    </tr>\n",
       "  </tbody>\n",
       "</table>\n",
       "</div>"
      ],
      "text/plain": [
       "                       name platform  year_of_release         genre  na_sales  \\\n",
       "0                Wii Sports      Wii             2006        Sports     41.36   \n",
       "1         Super Mario Bros.      NES             1985      Platform     29.08   \n",
       "2            Mario Kart Wii      Wii             2008        Racing     15.68   \n",
       "3         Wii Sports Resort      Wii             2009        Sports     15.61   \n",
       "4  Pokemon Red/Pokemon Blue       GB             1996  Role-Playing     11.27   \n",
       "\n",
       "   eu_sales  jp_sales  other_sales  critic_score  user_score rating  \\\n",
       "0     28.96      3.77         8.45          76.0         8.0      E   \n",
       "1      3.58      6.81         0.77           0.0         NaN    NaN   \n",
       "2     12.76      3.79         3.29          82.0         8.3      E   \n",
       "3     10.93      3.28         2.95          80.0         8.0      E   \n",
       "4      8.89     10.22         1.00           0.0         NaN    NaN   \n",
       "\n",
       "   total_sales  \n",
       "0        82.54  \n",
       "1        40.24  \n",
       "2        35.52  \n",
       "3        32.77  \n",
       "4        31.38  "
      ]
     },
     "execution_count": 8,
     "metadata": {},
     "output_type": "execute_result"
    }
   ],
   "source": [
    "# Calculating the sum sales in all regions (total sales) for each game\n",
    "data['total_sales'] = data['na_sales'] + data['eu_sales'] + data['jp_sales'] + data['other_sales']\n",
    "data.head()"
   ]
  },
  {
   "cell_type": "markdown",
   "metadata": {},
   "source": [
    "#### ANALZE THE DATA"
   ]
  },
  {
   "cell_type": "code",
   "execution_count": 9,
   "metadata": {
    "scrolled": false
   },
   "outputs": [
    {
     "data": {
      "text/html": [
       "<div>\n",
       "<style scoped>\n",
       "    .dataframe tbody tr th:only-of-type {\n",
       "        vertical-align: middle;\n",
       "    }\n",
       "\n",
       "    .dataframe tbody tr th {\n",
       "        vertical-align: top;\n",
       "    }\n",
       "\n",
       "    .dataframe thead th {\n",
       "        text-align: right;\n",
       "    }\n",
       "</style>\n",
       "<table border=\"1\" class=\"dataframe\">\n",
       "  <thead>\n",
       "    <tr style=\"text-align: right;\">\n",
       "      <th></th>\n",
       "      <th>name</th>\n",
       "      <th>platform</th>\n",
       "      <th>year_of_release</th>\n",
       "      <th>genre</th>\n",
       "      <th>na_sales</th>\n",
       "      <th>eu_sales</th>\n",
       "      <th>jp_sales</th>\n",
       "      <th>other_sales</th>\n",
       "      <th>critic_score</th>\n",
       "      <th>user_score</th>\n",
       "      <th>rating</th>\n",
       "      <th>total_sales</th>\n",
       "    </tr>\n",
       "  </thead>\n",
       "  <tbody>\n",
       "    <tr>\n",
       "      <td>1764</td>\n",
       "      <td>Kaboom!</td>\n",
       "      <td>2600</td>\n",
       "      <td>1980</td>\n",
       "      <td>Misc</td>\n",
       "      <td>1.07</td>\n",
       "      <td>0.07</td>\n",
       "      <td>0.0</td>\n",
       "      <td>0.01</td>\n",
       "      <td>0.0</td>\n",
       "      <td>NaN</td>\n",
       "      <td>NaN</td>\n",
       "      <td>1.15</td>\n",
       "    </tr>\n",
       "    <tr>\n",
       "      <td>546</td>\n",
       "      <td>Missile Command</td>\n",
       "      <td>2600</td>\n",
       "      <td>1980</td>\n",
       "      <td>Shooter</td>\n",
       "      <td>2.56</td>\n",
       "      <td>0.17</td>\n",
       "      <td>0.0</td>\n",
       "      <td>0.03</td>\n",
       "      <td>0.0</td>\n",
       "      <td>NaN</td>\n",
       "      <td>NaN</td>\n",
       "      <td>2.76</td>\n",
       "    </tr>\n",
       "    <tr>\n",
       "      <td>1968</td>\n",
       "      <td>Defender</td>\n",
       "      <td>2600</td>\n",
       "      <td>1980</td>\n",
       "      <td>Misc</td>\n",
       "      <td>0.99</td>\n",
       "      <td>0.05</td>\n",
       "      <td>0.0</td>\n",
       "      <td>0.01</td>\n",
       "      <td>0.0</td>\n",
       "      <td>NaN</td>\n",
       "      <td>NaN</td>\n",
       "      <td>1.05</td>\n",
       "    </tr>\n",
       "    <tr>\n",
       "      <td>6300</td>\n",
       "      <td>Bridge</td>\n",
       "      <td>2600</td>\n",
       "      <td>1980</td>\n",
       "      <td>Misc</td>\n",
       "      <td>0.25</td>\n",
       "      <td>0.02</td>\n",
       "      <td>0.0</td>\n",
       "      <td>0.00</td>\n",
       "      <td>0.0</td>\n",
       "      <td>NaN</td>\n",
       "      <td>NaN</td>\n",
       "      <td>0.27</td>\n",
       "    </tr>\n",
       "    <tr>\n",
       "      <td>5360</td>\n",
       "      <td>Freeway</td>\n",
       "      <td>2600</td>\n",
       "      <td>1980</td>\n",
       "      <td>Action</td>\n",
       "      <td>0.32</td>\n",
       "      <td>0.02</td>\n",
       "      <td>0.0</td>\n",
       "      <td>0.00</td>\n",
       "      <td>0.0</td>\n",
       "      <td>NaN</td>\n",
       "      <td>NaN</td>\n",
       "      <td>0.34</td>\n",
       "    </tr>\n",
       "  </tbody>\n",
       "</table>\n",
       "</div>"
      ],
      "text/plain": [
       "                 name platform  year_of_release    genre  na_sales  eu_sales  \\\n",
       "1764          Kaboom!     2600             1980     Misc      1.07      0.07   \n",
       "546   Missile Command     2600             1980  Shooter      2.56      0.17   \n",
       "1968         Defender     2600             1980     Misc      0.99      0.05   \n",
       "6300           Bridge     2600             1980     Misc      0.25      0.02   \n",
       "5360          Freeway     2600             1980   Action      0.32      0.02   \n",
       "\n",
       "      jp_sales  other_sales  critic_score  user_score rating  total_sales  \n",
       "1764       0.0         0.01           0.0         NaN    NaN         1.15  \n",
       "546        0.0         0.03           0.0         NaN    NaN         2.76  \n",
       "1968       0.0         0.01           0.0         NaN    NaN         1.05  \n",
       "6300       0.0         0.00           0.0         NaN    NaN         0.27  \n",
       "5360       0.0         0.00           0.0         NaN    NaN         0.34  "
      ]
     },
     "execution_count": 9,
     "metadata": {},
     "output_type": "execute_result"
    }
   ],
   "source": [
    "# Number of games released in different years\n",
    "data.sort_values(['year_of_release'], ascending = True, inplace = True)\n",
    "data.head()"
   ]
  },
  {
   "cell_type": "code",
   "execution_count": 10,
   "metadata": {},
   "outputs": [
    {
     "data": {
      "image/png": "[encoded data removed]",
      "text/plain": [
       "<Figure size 432x288 with 1 Axes>"
      ]
     },
     "metadata": {
      "needs_background": "light"
     },
     "output_type": "display_data"
    }
   ],
   "source": [
    "# Showing the number of games released in different years\n",
    "data['year_of_release'].hist(bins=20);"
   ]
  },
  {
   "cell_type": "code",
   "execution_count": 11,
   "metadata": {},
   "outputs": [
    {
     "data": {
      "text/html": [
       "<div>\n",
       "<style scoped>\n",
       "    .dataframe tbody tr th:only-of-type {\n",
       "        vertical-align: middle;\n",
       "    }\n",
       "\n",
       "    .dataframe tbody tr th {\n",
       "        vertical-align: top;\n",
       "    }\n",
       "\n",
       "    .dataframe thead th {\n",
       "        text-align: right;\n",
       "    }\n",
       "</style>\n",
       "<table border=\"1\" class=\"dataframe\">\n",
       "  <thead>\n",
       "    <tr style=\"text-align: right;\">\n",
       "      <th></th>\n",
       "      <th>name</th>\n",
       "      <th>year_of_release</th>\n",
       "      <th>genre</th>\n",
       "      <th>na_sales</th>\n",
       "      <th>eu_sales</th>\n",
       "      <th>jp_sales</th>\n",
       "      <th>other_sales</th>\n",
       "      <th>critic_score</th>\n",
       "      <th>user_score</th>\n",
       "      <th>rating</th>\n",
       "      <th>total_sales</th>\n",
       "    </tr>\n",
       "    <tr>\n",
       "      <th>platform</th>\n",
       "      <th></th>\n",
       "      <th></th>\n",
       "      <th></th>\n",
       "      <th></th>\n",
       "      <th></th>\n",
       "      <th></th>\n",
       "      <th></th>\n",
       "      <th></th>\n",
       "      <th></th>\n",
       "      <th></th>\n",
       "      <th></th>\n",
       "    </tr>\n",
       "  </thead>\n",
       "  <tbody>\n",
       "    <tr>\n",
       "      <td>PS2</td>\n",
       "      <td>2127</td>\n",
       "      <td>2127</td>\n",
       "      <td>2127</td>\n",
       "      <td>2127</td>\n",
       "      <td>2127</td>\n",
       "      <td>2127</td>\n",
       "      <td>2127</td>\n",
       "      <td>2127</td>\n",
       "      <td>1220</td>\n",
       "      <td>1456</td>\n",
       "      <td>2127</td>\n",
       "    </tr>\n",
       "  </tbody>\n",
       "</table>\n",
       "</div>"
      ],
      "text/plain": [
       "          name  year_of_release  genre  na_sales  eu_sales  jp_sales  \\\n",
       "platform                                                               \n",
       "PS2       2127             2127   2127      2127      2127      2127   \n",
       "\n",
       "          other_sales  critic_score  user_score  rating  total_sales  \n",
       "platform                                                              \n",
       "PS2              2127          2127        1220    1456         2127  "
      ]
     },
     "execution_count": 11,
     "metadata": {},
     "output_type": "execute_result"
    }
   ],
   "source": [
    "# How are sales varied from platform to platform\n",
    "data_platform = data.groupby(data['platform']).count()\n",
    "\n",
    "# Showing platforms with the greatest total sales\n",
    "data_platform[data_platform['total_sales'] == data_platform['total_sales'].max()]"
   ]
  },
  {
   "cell_type": "code",
   "execution_count": 12,
   "metadata": {},
   "outputs": [
    {
     "data": {
      "text/html": [
       "<div>\n",
       "<style scoped>\n",
       "    .dataframe tbody tr th:only-of-type {\n",
       "        vertical-align: middle;\n",
       "    }\n",
       "\n",
       "    .dataframe tbody tr th {\n",
       "        vertical-align: top;\n",
       "    }\n",
       "\n",
       "    .dataframe thead th {\n",
       "        text-align: right;\n",
       "    }\n",
       "</style>\n",
       "<table border=\"1\" class=\"dataframe\">\n",
       "  <thead>\n",
       "    <tr style=\"text-align: right;\">\n",
       "      <th></th>\n",
       "      <th>name</th>\n",
       "      <th>platform</th>\n",
       "      <th>year_of_release</th>\n",
       "      <th>genre</th>\n",
       "      <th>na_sales</th>\n",
       "      <th>eu_sales</th>\n",
       "      <th>jp_sales</th>\n",
       "      <th>other_sales</th>\n",
       "      <th>critic_score</th>\n",
       "      <th>user_score</th>\n",
       "      <th>rating</th>\n",
       "      <th>total_sales</th>\n",
       "    </tr>\n",
       "  </thead>\n",
       "  <tbody>\n",
       "    <tr>\n",
       "      <td>9998</td>\n",
       "      <td>DOA 2: Dead or Alive 2 Hardcore</td>\n",
       "      <td>PS2</td>\n",
       "      <td>2000</td>\n",
       "      <td>Fighting</td>\n",
       "      <td>0.00</td>\n",
       "      <td>0.00</td>\n",
       "      <td>0.11</td>\n",
       "      <td>0.00</td>\n",
       "      <td>0.0</td>\n",
       "      <td>NaN</td>\n",
       "      <td>NaN</td>\n",
       "      <td>0.11</td>\n",
       "    </tr>\n",
       "    <tr>\n",
       "      <td>1188</td>\n",
       "      <td>Smuggler's Run</td>\n",
       "      <td>PS2</td>\n",
       "      <td>2000</td>\n",
       "      <td>Racing</td>\n",
       "      <td>0.77</td>\n",
       "      <td>0.60</td>\n",
       "      <td>0.00</td>\n",
       "      <td>0.20</td>\n",
       "      <td>79.0</td>\n",
       "      <td>6.8</td>\n",
       "      <td>T</td>\n",
       "      <td>1.57</td>\n",
       "    </tr>\n",
       "    <tr>\n",
       "      <td>2596</td>\n",
       "      <td>Armored Core 2</td>\n",
       "      <td>PS2</td>\n",
       "      <td>2000</td>\n",
       "      <td>Simulation</td>\n",
       "      <td>0.28</td>\n",
       "      <td>0.22</td>\n",
       "      <td>0.23</td>\n",
       "      <td>0.07</td>\n",
       "      <td>78.0</td>\n",
       "      <td>8.4</td>\n",
       "      <td>T</td>\n",
       "      <td>0.80</td>\n",
       "    </tr>\n",
       "    <tr>\n",
       "      <td>6597</td>\n",
       "      <td>Surfing H3O</td>\n",
       "      <td>PS2</td>\n",
       "      <td>2000</td>\n",
       "      <td>Sports</td>\n",
       "      <td>0.12</td>\n",
       "      <td>0.10</td>\n",
       "      <td>0.00</td>\n",
       "      <td>0.03</td>\n",
       "      <td>46.0</td>\n",
       "      <td>4.6</td>\n",
       "      <td>E</td>\n",
       "      <td>0.25</td>\n",
       "    </tr>\n",
       "    <tr>\n",
       "      <td>5883</td>\n",
       "      <td>Rayman 2: Revolution</td>\n",
       "      <td>PS2</td>\n",
       "      <td>2000</td>\n",
       "      <td>Platform</td>\n",
       "      <td>0.15</td>\n",
       "      <td>0.11</td>\n",
       "      <td>0.00</td>\n",
       "      <td>0.04</td>\n",
       "      <td>90.0</td>\n",
       "      <td>8.2</td>\n",
       "      <td>E</td>\n",
       "      <td>0.30</td>\n",
       "    </tr>\n",
       "    <tr>\n",
       "      <td>...</td>\n",
       "      <td>...</td>\n",
       "      <td>...</td>\n",
       "      <td>...</td>\n",
       "      <td>...</td>\n",
       "      <td>...</td>\n",
       "      <td>...</td>\n",
       "      <td>...</td>\n",
       "      <td>...</td>\n",
       "      <td>...</td>\n",
       "      <td>...</td>\n",
       "      <td>...</td>\n",
       "      <td>...</td>\n",
       "    </tr>\n",
       "    <tr>\n",
       "      <td>10124</td>\n",
       "      <td>WWE All Stars</td>\n",
       "      <td>PS2</td>\n",
       "      <td>2011</td>\n",
       "      <td>Fighting</td>\n",
       "      <td>0.05</td>\n",
       "      <td>0.04</td>\n",
       "      <td>0.00</td>\n",
       "      <td>0.01</td>\n",
       "      <td>0.0</td>\n",
       "      <td>3.4</td>\n",
       "      <td>T</td>\n",
       "      <td>0.10</td>\n",
       "    </tr>\n",
       "    <tr>\n",
       "      <td>12525</td>\n",
       "      <td>Pro Evolution Soccer 2012</td>\n",
       "      <td>PS2</td>\n",
       "      <td>2011</td>\n",
       "      <td>Action</td>\n",
       "      <td>0.00</td>\n",
       "      <td>0.00</td>\n",
       "      <td>0.06</td>\n",
       "      <td>0.00</td>\n",
       "      <td>0.0</td>\n",
       "      <td>8.2</td>\n",
       "      <td>E</td>\n",
       "      <td>0.06</td>\n",
       "    </tr>\n",
       "    <tr>\n",
       "      <td>11237</td>\n",
       "      <td>FIFA 12</td>\n",
       "      <td>PS2</td>\n",
       "      <td>2011</td>\n",
       "      <td>Sports</td>\n",
       "      <td>0.00</td>\n",
       "      <td>0.02</td>\n",
       "      <td>0.00</td>\n",
       "      <td>0.06</td>\n",
       "      <td>0.0</td>\n",
       "      <td>NaN</td>\n",
       "      <td>NaN</td>\n",
       "      <td>0.08</td>\n",
       "    </tr>\n",
       "    <tr>\n",
       "      <td>15378</td>\n",
       "      <td>Moujuutsukai to Oujisama: Snow Bride</td>\n",
       "      <td>PS2</td>\n",
       "      <td>2011</td>\n",
       "      <td>Adventure</td>\n",
       "      <td>0.00</td>\n",
       "      <td>0.00</td>\n",
       "      <td>0.02</td>\n",
       "      <td>0.00</td>\n",
       "      <td>0.0</td>\n",
       "      <td>NaN</td>\n",
       "      <td>NaN</td>\n",
       "      <td>0.02</td>\n",
       "    </tr>\n",
       "    <tr>\n",
       "      <td>9382</td>\n",
       "      <td>MLB 11: The Show</td>\n",
       "      <td>PS2</td>\n",
       "      <td>2011</td>\n",
       "      <td>Sports</td>\n",
       "      <td>0.06</td>\n",
       "      <td>0.05</td>\n",
       "      <td>0.00</td>\n",
       "      <td>0.02</td>\n",
       "      <td>0.0</td>\n",
       "      <td>6.2</td>\n",
       "      <td>E</td>\n",
       "      <td>0.13</td>\n",
       "    </tr>\n",
       "  </tbody>\n",
       "</table>\n",
       "<p>2127 rows × 12 columns</p>\n",
       "</div>"
      ],
      "text/plain": [
       "                                       name platform  year_of_release  \\\n",
       "9998        DOA 2: Dead or Alive 2 Hardcore      PS2             2000   \n",
       "1188                         Smuggler's Run      PS2             2000   \n",
       "2596                         Armored Core 2      PS2             2000   \n",
       "6597                            Surfing H3O      PS2             2000   \n",
       "5883                   Rayman 2: Revolution      PS2             2000   \n",
       "...                                     ...      ...              ...   \n",
       "10124                         WWE All Stars      PS2             2011   \n",
       "12525             Pro Evolution Soccer 2012      PS2             2011   \n",
       "11237                               FIFA 12      PS2             2011   \n",
       "15378  Moujuutsukai to Oujisama: Snow Bride      PS2             2011   \n",
       "9382                       MLB 11: The Show      PS2             2011   \n",
       "\n",
       "            genre  na_sales  eu_sales  jp_sales  other_sales  critic_score  \\\n",
       "9998     Fighting      0.00      0.00      0.11         0.00           0.0   \n",
       "1188       Racing      0.77      0.60      0.00         0.20          79.0   \n",
       "2596   Simulation      0.28      0.22      0.23         0.07          78.0   \n",
       "6597       Sports      0.12      0.10      0.00         0.03          46.0   \n",
       "5883     Platform      0.15      0.11      0.00         0.04          90.0   \n",
       "...           ...       ...       ...       ...          ...           ...   \n",
       "10124    Fighting      0.05      0.04      0.00         0.01           0.0   \n",
       "12525      Action      0.00      0.00      0.06         0.00           0.0   \n",
       "11237      Sports      0.00      0.02      0.00         0.06           0.0   \n",
       "15378   Adventure      0.00      0.00      0.02         0.00           0.0   \n",
       "9382       Sports      0.06      0.05      0.00         0.02           0.0   \n",
       "\n",
       "       user_score rating  total_sales  \n",
       "9998          NaN    NaN         0.11  \n",
       "1188          6.8      T         1.57  \n",
       "2596          8.4      T         0.80  \n",
       "6597          4.6      E         0.25  \n",
       "5883          8.2      E         0.30  \n",
       "...           ...    ...          ...  \n",
       "10124         3.4      T         0.10  \n",
       "12525         8.2      E         0.06  \n",
       "11237         NaN    NaN         0.08  \n",
       "15378         NaN    NaN         0.02  \n",
       "9382          6.2      E         0.13  \n",
       "\n",
       "[2127 rows x 12 columns]"
      ]
     },
     "execution_count": 12,
     "metadata": {},
     "output_type": "execute_result"
    }
   ],
   "source": [
    "data_ps2 = data[data['platform'] == 'PS2']\n",
    "data_ps2"
   ]
  },
  {
   "cell_type": "code",
   "execution_count": 13,
   "metadata": {},
   "outputs": [
    {
     "data": {
      "image/png": "[encoded data removed]",
      "text/plain": [
       "<Figure size 360x360 with 1 Axes>"
      ]
     },
     "metadata": {
      "needs_background": "light"
     },
     "output_type": "display_data"
    }
   ],
   "source": [
    "# Showing distribution of PS2 for each year\n",
    "sns.relplot(x='year_of_release',y='total_sales', data=data_ps2);"
   ]
  },
  {
   "cell_type": "code",
   "execution_count": 14,
   "metadata": {},
   "outputs": [
    {
     "data": {
      "text/html": [
       "<div>\n",
       "<style scoped>\n",
       "    .dataframe tbody tr th:only-of-type {\n",
       "        vertical-align: middle;\n",
       "    }\n",
       "\n",
       "    .dataframe tbody tr th {\n",
       "        vertical-align: top;\n",
       "    }\n",
       "\n",
       "    .dataframe thead th {\n",
       "        text-align: right;\n",
       "    }\n",
       "</style>\n",
       "<table border=\"1\" class=\"dataframe\">\n",
       "  <thead>\n",
       "    <tr style=\"text-align: right;\">\n",
       "      <th>platform</th>\n",
       "      <th>2600</th>\n",
       "      <th>3DO</th>\n",
       "      <th>3DS</th>\n",
       "      <th>DC</th>\n",
       "      <th>DS</th>\n",
       "      <th>GB</th>\n",
       "      <th>GBA</th>\n",
       "      <th>GC</th>\n",
       "      <th>GEN</th>\n",
       "      <th>GG</th>\n",
       "      <th>N64</th>\n",
       "      <th>NES</th>\n",
       "      <th>NG</th>\n",
       "      <th>PC</th>\n",
       "      <th>PCFX</th>\n",
       "      <th>PS</th>\n",
       "      <th>PS2</th>\n",
       "      <th>PS3</th>\n",
       "      <th>PS4</th>\n",
       "      <th>PSP</th>\n",
       "      <th>PSV</th>\n",
       "      <th>SAT</th>\n",
       "      <th>SCD</th>\n",
       "      <th>SNES</th>\n",
       "      <th>TG16</th>\n",
       "      <th>WS</th>\n",
       "      <th>Wii</th>\n",
       "      <th>WiiU</th>\n",
       "      <th>X360</th>\n",
       "      <th>XB</th>\n",
       "      <th>XOne</th>\n",
       "    </tr>\n",
       "    <tr>\n",
       "      <th>year_of_release</th>\n",
       "      <th></th>\n",
       "      <th></th>\n",
       "      <th></th>\n",
       "      <th></th>\n",
       "      <th></th>\n",
       "      <th></th>\n",
       "      <th></th>\n",
       "      <th></th>\n",
       "      <th></th>\n",
       "      <th></th>\n",
       "      <th></th>\n",
       "      <th></th>\n",
       "      <th></th>\n",
       "      <th></th>\n",
       "      <th></th>\n",
       "      <th></th>\n",
       "      <th></th>\n",
       "      <th></th>\n",
       "      <th></th>\n",
       "      <th></th>\n",
       "      <th></th>\n",
       "      <th></th>\n",
       "      <th></th>\n",
       "      <th></th>\n",
       "      <th></th>\n",
       "      <th></th>\n",
       "      <th></th>\n",
       "      <th></th>\n",
       "      <th></th>\n",
       "      <th></th>\n",
       "      <th></th>\n",
       "    </tr>\n",
       "  </thead>\n",
       "  <tbody>\n",
       "    <tr>\n",
       "      <td>1980</td>\n",
       "      <td>11.38</td>\n",
       "      <td>NaN</td>\n",
       "      <td>NaN</td>\n",
       "      <td>NaN</td>\n",
       "      <td>NaN</td>\n",
       "      <td>NaN</td>\n",
       "      <td>NaN</td>\n",
       "      <td>NaN</td>\n",
       "      <td>NaN</td>\n",
       "      <td>NaN</td>\n",
       "      <td>NaN</td>\n",
       "      <td>NaN</td>\n",
       "      <td>NaN</td>\n",
       "      <td>NaN</td>\n",
       "      <td>NaN</td>\n",
       "      <td>NaN</td>\n",
       "      <td>NaN</td>\n",
       "      <td>NaN</td>\n",
       "      <td>NaN</td>\n",
       "      <td>NaN</td>\n",
       "      <td>NaN</td>\n",
       "      <td>NaN</td>\n",
       "      <td>NaN</td>\n",
       "      <td>NaN</td>\n",
       "      <td>NaN</td>\n",
       "      <td>NaN</td>\n",
       "      <td>NaN</td>\n",
       "      <td>NaN</td>\n",
       "      <td>NaN</td>\n",
       "      <td>NaN</td>\n",
       "      <td>NaN</td>\n",
       "    </tr>\n",
       "    <tr>\n",
       "      <td>1981</td>\n",
       "      <td>35.68</td>\n",
       "      <td>NaN</td>\n",
       "      <td>NaN</td>\n",
       "      <td>NaN</td>\n",
       "      <td>NaN</td>\n",
       "      <td>NaN</td>\n",
       "      <td>NaN</td>\n",
       "      <td>NaN</td>\n",
       "      <td>NaN</td>\n",
       "      <td>NaN</td>\n",
       "      <td>NaN</td>\n",
       "      <td>NaN</td>\n",
       "      <td>NaN</td>\n",
       "      <td>NaN</td>\n",
       "      <td>NaN</td>\n",
       "      <td>NaN</td>\n",
       "      <td>NaN</td>\n",
       "      <td>NaN</td>\n",
       "      <td>NaN</td>\n",
       "      <td>NaN</td>\n",
       "      <td>NaN</td>\n",
       "      <td>NaN</td>\n",
       "      <td>NaN</td>\n",
       "      <td>NaN</td>\n",
       "      <td>NaN</td>\n",
       "      <td>NaN</td>\n",
       "      <td>NaN</td>\n",
       "      <td>NaN</td>\n",
       "      <td>NaN</td>\n",
       "      <td>NaN</td>\n",
       "      <td>NaN</td>\n",
       "    </tr>\n",
       "    <tr>\n",
       "      <td>1982</td>\n",
       "      <td>28.88</td>\n",
       "      <td>NaN</td>\n",
       "      <td>NaN</td>\n",
       "      <td>NaN</td>\n",
       "      <td>NaN</td>\n",
       "      <td>NaN</td>\n",
       "      <td>NaN</td>\n",
       "      <td>NaN</td>\n",
       "      <td>NaN</td>\n",
       "      <td>NaN</td>\n",
       "      <td>NaN</td>\n",
       "      <td>NaN</td>\n",
       "      <td>NaN</td>\n",
       "      <td>NaN</td>\n",
       "      <td>NaN</td>\n",
       "      <td>NaN</td>\n",
       "      <td>NaN</td>\n",
       "      <td>NaN</td>\n",
       "      <td>NaN</td>\n",
       "      <td>NaN</td>\n",
       "      <td>NaN</td>\n",
       "      <td>NaN</td>\n",
       "      <td>NaN</td>\n",
       "      <td>NaN</td>\n",
       "      <td>NaN</td>\n",
       "      <td>NaN</td>\n",
       "      <td>NaN</td>\n",
       "      <td>NaN</td>\n",
       "      <td>NaN</td>\n",
       "      <td>NaN</td>\n",
       "      <td>NaN</td>\n",
       "    </tr>\n",
       "    <tr>\n",
       "      <td>1983</td>\n",
       "      <td>5.84</td>\n",
       "      <td>NaN</td>\n",
       "      <td>NaN</td>\n",
       "      <td>NaN</td>\n",
       "      <td>NaN</td>\n",
       "      <td>NaN</td>\n",
       "      <td>NaN</td>\n",
       "      <td>NaN</td>\n",
       "      <td>NaN</td>\n",
       "      <td>NaN</td>\n",
       "      <td>NaN</td>\n",
       "      <td>10.96</td>\n",
       "      <td>NaN</td>\n",
       "      <td>NaN</td>\n",
       "      <td>NaN</td>\n",
       "      <td>NaN</td>\n",
       "      <td>NaN</td>\n",
       "      <td>NaN</td>\n",
       "      <td>NaN</td>\n",
       "      <td>NaN</td>\n",
       "      <td>NaN</td>\n",
       "      <td>NaN</td>\n",
       "      <td>NaN</td>\n",
       "      <td>NaN</td>\n",
       "      <td>NaN</td>\n",
       "      <td>NaN</td>\n",
       "      <td>NaN</td>\n",
       "      <td>NaN</td>\n",
       "      <td>NaN</td>\n",
       "      <td>NaN</td>\n",
       "      <td>NaN</td>\n",
       "    </tr>\n",
       "    <tr>\n",
       "      <td>1984</td>\n",
       "      <td>0.27</td>\n",
       "      <td>NaN</td>\n",
       "      <td>NaN</td>\n",
       "      <td>NaN</td>\n",
       "      <td>NaN</td>\n",
       "      <td>NaN</td>\n",
       "      <td>NaN</td>\n",
       "      <td>NaN</td>\n",
       "      <td>NaN</td>\n",
       "      <td>NaN</td>\n",
       "      <td>NaN</td>\n",
       "      <td>50.08</td>\n",
       "      <td>NaN</td>\n",
       "      <td>NaN</td>\n",
       "      <td>NaN</td>\n",
       "      <td>NaN</td>\n",
       "      <td>NaN</td>\n",
       "      <td>NaN</td>\n",
       "      <td>NaN</td>\n",
       "      <td>NaN</td>\n",
       "      <td>NaN</td>\n",
       "      <td>NaN</td>\n",
       "      <td>NaN</td>\n",
       "      <td>NaN</td>\n",
       "      <td>NaN</td>\n",
       "      <td>NaN</td>\n",
       "      <td>NaN</td>\n",
       "      <td>NaN</td>\n",
       "      <td>NaN</td>\n",
       "      <td>NaN</td>\n",
       "      <td>NaN</td>\n",
       "    </tr>\n",
       "    <tr>\n",
       "      <td>1985</td>\n",
       "      <td>0.45</td>\n",
       "      <td>NaN</td>\n",
       "      <td>NaN</td>\n",
       "      <td>NaN</td>\n",
       "      <td>0.02</td>\n",
       "      <td>NaN</td>\n",
       "      <td>NaN</td>\n",
       "      <td>NaN</td>\n",
       "      <td>NaN</td>\n",
       "      <td>NaN</td>\n",
       "      <td>NaN</td>\n",
       "      <td>53.44</td>\n",
       "      <td>NaN</td>\n",
       "      <td>0.04</td>\n",
       "      <td>NaN</td>\n",
       "      <td>NaN</td>\n",
       "      <td>NaN</td>\n",
       "      <td>NaN</td>\n",
       "      <td>NaN</td>\n",
       "      <td>NaN</td>\n",
       "      <td>NaN</td>\n",
       "      <td>NaN</td>\n",
       "      <td>NaN</td>\n",
       "      <td>NaN</td>\n",
       "      <td>NaN</td>\n",
       "      <td>NaN</td>\n",
       "      <td>NaN</td>\n",
       "      <td>NaN</td>\n",
       "      <td>NaN</td>\n",
       "      <td>NaN</td>\n",
       "      <td>NaN</td>\n",
       "    </tr>\n",
       "    <tr>\n",
       "      <td>1986</td>\n",
       "      <td>0.67</td>\n",
       "      <td>NaN</td>\n",
       "      <td>NaN</td>\n",
       "      <td>NaN</td>\n",
       "      <td>NaN</td>\n",
       "      <td>NaN</td>\n",
       "      <td>NaN</td>\n",
       "      <td>NaN</td>\n",
       "      <td>NaN</td>\n",
       "      <td>NaN</td>\n",
       "      <td>NaN</td>\n",
       "      <td>36.41</td>\n",
       "      <td>NaN</td>\n",
       "      <td>NaN</td>\n",
       "      <td>NaN</td>\n",
       "      <td>NaN</td>\n",
       "      <td>NaN</td>\n",
       "      <td>NaN</td>\n",
       "      <td>NaN</td>\n",
       "      <td>NaN</td>\n",
       "      <td>NaN</td>\n",
       "      <td>NaN</td>\n",
       "      <td>NaN</td>\n",
       "      <td>NaN</td>\n",
       "      <td>NaN</td>\n",
       "      <td>NaN</td>\n",
       "      <td>NaN</td>\n",
       "      <td>NaN</td>\n",
       "      <td>NaN</td>\n",
       "      <td>NaN</td>\n",
       "      <td>NaN</td>\n",
       "    </tr>\n",
       "    <tr>\n",
       "      <td>1987</td>\n",
       "      <td>1.94</td>\n",
       "      <td>NaN</td>\n",
       "      <td>NaN</td>\n",
       "      <td>NaN</td>\n",
       "      <td>NaN</td>\n",
       "      <td>NaN</td>\n",
       "      <td>NaN</td>\n",
       "      <td>NaN</td>\n",
       "      <td>NaN</td>\n",
       "      <td>NaN</td>\n",
       "      <td>NaN</td>\n",
       "      <td>19.76</td>\n",
       "      <td>NaN</td>\n",
       "      <td>NaN</td>\n",
       "      <td>NaN</td>\n",
       "      <td>NaN</td>\n",
       "      <td>NaN</td>\n",
       "      <td>NaN</td>\n",
       "      <td>NaN</td>\n",
       "      <td>NaN</td>\n",
       "      <td>NaN</td>\n",
       "      <td>NaN</td>\n",
       "      <td>NaN</td>\n",
       "      <td>NaN</td>\n",
       "      <td>NaN</td>\n",
       "      <td>NaN</td>\n",
       "      <td>NaN</td>\n",
       "      <td>NaN</td>\n",
       "      <td>NaN</td>\n",
       "      <td>NaN</td>\n",
       "      <td>NaN</td>\n",
       "    </tr>\n",
       "    <tr>\n",
       "      <td>1988</td>\n",
       "      <td>0.74</td>\n",
       "      <td>NaN</td>\n",
       "      <td>NaN</td>\n",
       "      <td>NaN</td>\n",
       "      <td>NaN</td>\n",
       "      <td>1.43</td>\n",
       "      <td>NaN</td>\n",
       "      <td>NaN</td>\n",
       "      <td>NaN</td>\n",
       "      <td>NaN</td>\n",
       "      <td>NaN</td>\n",
       "      <td>45.01</td>\n",
       "      <td>NaN</td>\n",
       "      <td>0.03</td>\n",
       "      <td>NaN</td>\n",
       "      <td>NaN</td>\n",
       "      <td>NaN</td>\n",
       "      <td>NaN</td>\n",
       "      <td>NaN</td>\n",
       "      <td>NaN</td>\n",
       "      <td>NaN</td>\n",
       "      <td>NaN</td>\n",
       "      <td>NaN</td>\n",
       "      <td>NaN</td>\n",
       "      <td>NaN</td>\n",
       "      <td>NaN</td>\n",
       "      <td>NaN</td>\n",
       "      <td>NaN</td>\n",
       "      <td>NaN</td>\n",
       "      <td>NaN</td>\n",
       "      <td>NaN</td>\n",
       "    </tr>\n",
       "    <tr>\n",
       "      <td>1989</td>\n",
       "      <td>0.63</td>\n",
       "      <td>NaN</td>\n",
       "      <td>NaN</td>\n",
       "      <td>NaN</td>\n",
       "      <td>NaN</td>\n",
       "      <td>64.97</td>\n",
       "      <td>NaN</td>\n",
       "      <td>NaN</td>\n",
       "      <td>NaN</td>\n",
       "      <td>NaN</td>\n",
       "      <td>NaN</td>\n",
       "      <td>7.85</td>\n",
       "      <td>NaN</td>\n",
       "      <td>NaN</td>\n",
       "      <td>NaN</td>\n",
       "      <td>NaN</td>\n",
       "      <td>NaN</td>\n",
       "      <td>NaN</td>\n",
       "      <td>NaN</td>\n",
       "      <td>NaN</td>\n",
       "      <td>NaN</td>\n",
       "      <td>NaN</td>\n",
       "      <td>NaN</td>\n",
       "      <td>NaN</td>\n",
       "      <td>NaN</td>\n",
       "      <td>NaN</td>\n",
       "      <td>NaN</td>\n",
       "      <td>NaN</td>\n",
       "      <td>NaN</td>\n",
       "      <td>NaN</td>\n",
       "      <td>NaN</td>\n",
       "    </tr>\n",
       "    <tr>\n",
       "      <td>1990</td>\n",
       "      <td>NaN</td>\n",
       "      <td>NaN</td>\n",
       "      <td>NaN</td>\n",
       "      <td>NaN</td>\n",
       "      <td>NaN</td>\n",
       "      <td>4.89</td>\n",
       "      <td>NaN</td>\n",
       "      <td>NaN</td>\n",
       "      <td>2.60</td>\n",
       "      <td>NaN</td>\n",
       "      <td>NaN</td>\n",
       "      <td>15.73</td>\n",
       "      <td>NaN</td>\n",
       "      <td>NaN</td>\n",
       "      <td>NaN</td>\n",
       "      <td>NaN</td>\n",
       "      <td>NaN</td>\n",
       "      <td>NaN</td>\n",
       "      <td>NaN</td>\n",
       "      <td>NaN</td>\n",
       "      <td>NaN</td>\n",
       "      <td>NaN</td>\n",
       "      <td>NaN</td>\n",
       "      <td>26.15</td>\n",
       "      <td>NaN</td>\n",
       "      <td>NaN</td>\n",
       "      <td>NaN</td>\n",
       "      <td>NaN</td>\n",
       "      <td>NaN</td>\n",
       "      <td>NaN</td>\n",
       "      <td>NaN</td>\n",
       "    </tr>\n",
       "    <tr>\n",
       "      <td>1991</td>\n",
       "      <td>NaN</td>\n",
       "      <td>NaN</td>\n",
       "      <td>NaN</td>\n",
       "      <td>NaN</td>\n",
       "      <td>NaN</td>\n",
       "      <td>5.57</td>\n",
       "      <td>NaN</td>\n",
       "      <td>NaN</td>\n",
       "      <td>4.33</td>\n",
       "      <td>NaN</td>\n",
       "      <td>NaN</td>\n",
       "      <td>6.11</td>\n",
       "      <td>NaN</td>\n",
       "      <td>NaN</td>\n",
       "      <td>NaN</td>\n",
       "      <td>NaN</td>\n",
       "      <td>NaN</td>\n",
       "      <td>NaN</td>\n",
       "      <td>NaN</td>\n",
       "      <td>NaN</td>\n",
       "      <td>NaN</td>\n",
       "      <td>NaN</td>\n",
       "      <td>NaN</td>\n",
       "      <td>16.22</td>\n",
       "      <td>NaN</td>\n",
       "      <td>NaN</td>\n",
       "      <td>NaN</td>\n",
       "      <td>NaN</td>\n",
       "      <td>NaN</td>\n",
       "      <td>NaN</td>\n",
       "      <td>NaN</td>\n",
       "    </tr>\n",
       "    <tr>\n",
       "      <td>1992</td>\n",
       "      <td>NaN</td>\n",
       "      <td>NaN</td>\n",
       "      <td>NaN</td>\n",
       "      <td>NaN</td>\n",
       "      <td>NaN</td>\n",
       "      <td>25.49</td>\n",
       "      <td>NaN</td>\n",
       "      <td>NaN</td>\n",
       "      <td>12.64</td>\n",
       "      <td>0.04</td>\n",
       "      <td>NaN</td>\n",
       "      <td>1.98</td>\n",
       "      <td>NaN</td>\n",
       "      <td>3.03</td>\n",
       "      <td>NaN</td>\n",
       "      <td>NaN</td>\n",
       "      <td>NaN</td>\n",
       "      <td>NaN</td>\n",
       "      <td>NaN</td>\n",
       "      <td>NaN</td>\n",
       "      <td>NaN</td>\n",
       "      <td>NaN</td>\n",
       "      <td>NaN</td>\n",
       "      <td>32.98</td>\n",
       "      <td>NaN</td>\n",
       "      <td>NaN</td>\n",
       "      <td>NaN</td>\n",
       "      <td>NaN</td>\n",
       "      <td>NaN</td>\n",
       "      <td>NaN</td>\n",
       "      <td>NaN</td>\n",
       "    </tr>\n",
       "    <tr>\n",
       "      <td>1993</td>\n",
       "      <td>NaN</td>\n",
       "      <td>NaN</td>\n",
       "      <td>NaN</td>\n",
       "      <td>NaN</td>\n",
       "      <td>NaN</td>\n",
       "      <td>NaN</td>\n",
       "      <td>NaN</td>\n",
       "      <td>NaN</td>\n",
       "      <td>0.65</td>\n",
       "      <td>NaN</td>\n",
       "      <td>NaN</td>\n",
       "      <td>3.61</td>\n",
       "      <td>0.21</td>\n",
       "      <td>NaN</td>\n",
       "      <td>NaN</td>\n",
       "      <td>NaN</td>\n",
       "      <td>NaN</td>\n",
       "      <td>NaN</td>\n",
       "      <td>NaN</td>\n",
       "      <td>NaN</td>\n",
       "      <td>NaN</td>\n",
       "      <td>NaN</td>\n",
       "      <td>1.50</td>\n",
       "      <td>40.02</td>\n",
       "      <td>NaN</td>\n",
       "      <td>NaN</td>\n",
       "      <td>NaN</td>\n",
       "      <td>NaN</td>\n",
       "      <td>NaN</td>\n",
       "      <td>NaN</td>\n",
       "      <td>NaN</td>\n",
       "    </tr>\n",
       "    <tr>\n",
       "      <td>1994</td>\n",
       "      <td>NaN</td>\n",
       "      <td>0.02</td>\n",
       "      <td>NaN</td>\n",
       "      <td>NaN</td>\n",
       "      <td>NaN</td>\n",
       "      <td>12.18</td>\n",
       "      <td>NaN</td>\n",
       "      <td>NaN</td>\n",
       "      <td>8.13</td>\n",
       "      <td>NaN</td>\n",
       "      <td>NaN</td>\n",
       "      <td>0.11</td>\n",
       "      <td>0.80</td>\n",
       "      <td>12.87</td>\n",
       "      <td>NaN</td>\n",
       "      <td>6.03</td>\n",
       "      <td>NaN</td>\n",
       "      <td>NaN</td>\n",
       "      <td>NaN</td>\n",
       "      <td>NaN</td>\n",
       "      <td>NaN</td>\n",
       "      <td>3.65</td>\n",
       "      <td>0.36</td>\n",
       "      <td>35.08</td>\n",
       "      <td>NaN</td>\n",
       "      <td>NaN</td>\n",
       "      <td>NaN</td>\n",
       "      <td>NaN</td>\n",
       "      <td>NaN</td>\n",
       "      <td>NaN</td>\n",
       "      <td>NaN</td>\n",
       "    </tr>\n",
       "    <tr>\n",
       "      <td>1995</td>\n",
       "      <td>NaN</td>\n",
       "      <td>0.08</td>\n",
       "      <td>NaN</td>\n",
       "      <td>NaN</td>\n",
       "      <td>NaN</td>\n",
       "      <td>3.60</td>\n",
       "      <td>NaN</td>\n",
       "      <td>NaN</td>\n",
       "      <td>NaN</td>\n",
       "      <td>NaN</td>\n",
       "      <td>NaN</td>\n",
       "      <td>NaN</td>\n",
       "      <td>0.33</td>\n",
       "      <td>4.22</td>\n",
       "      <td>NaN</td>\n",
       "      <td>35.96</td>\n",
       "      <td>NaN</td>\n",
       "      <td>NaN</td>\n",
       "      <td>NaN</td>\n",
       "      <td>NaN</td>\n",
       "      <td>NaN</td>\n",
       "      <td>11.57</td>\n",
       "      <td>NaN</td>\n",
       "      <td>32.20</td>\n",
       "      <td>0.16</td>\n",
       "      <td>NaN</td>\n",
       "      <td>NaN</td>\n",
       "      <td>NaN</td>\n",
       "      <td>NaN</td>\n",
       "      <td>NaN</td>\n",
       "      <td>NaN</td>\n",
       "    </tr>\n",
       "    <tr>\n",
       "      <td>1996</td>\n",
       "      <td>NaN</td>\n",
       "      <td>NaN</td>\n",
       "      <td>NaN</td>\n",
       "      <td>NaN</td>\n",
       "      <td>NaN</td>\n",
       "      <td>36.03</td>\n",
       "      <td>NaN</td>\n",
       "      <td>NaN</td>\n",
       "      <td>NaN</td>\n",
       "      <td>NaN</td>\n",
       "      <td>34.10</td>\n",
       "      <td>NaN</td>\n",
       "      <td>0.10</td>\n",
       "      <td>10.58</td>\n",
       "      <td>0.03</td>\n",
       "      <td>94.70</td>\n",
       "      <td>NaN</td>\n",
       "      <td>NaN</td>\n",
       "      <td>NaN</td>\n",
       "      <td>NaN</td>\n",
       "      <td>NaN</td>\n",
       "      <td>7.69</td>\n",
       "      <td>NaN</td>\n",
       "      <td>15.92</td>\n",
       "      <td>NaN</td>\n",
       "      <td>NaN</td>\n",
       "      <td>NaN</td>\n",
       "      <td>NaN</td>\n",
       "      <td>NaN</td>\n",
       "      <td>NaN</td>\n",
       "      <td>NaN</td>\n",
       "    </tr>\n",
       "    <tr>\n",
       "      <td>1997</td>\n",
       "      <td>NaN</td>\n",
       "      <td>NaN</td>\n",
       "      <td>NaN</td>\n",
       "      <td>NaN</td>\n",
       "      <td>NaN</td>\n",
       "      <td>6.37</td>\n",
       "      <td>NaN</td>\n",
       "      <td>NaN</td>\n",
       "      <td>NaN</td>\n",
       "      <td>NaN</td>\n",
       "      <td>39.50</td>\n",
       "      <td>NaN</td>\n",
       "      <td>NaN</td>\n",
       "      <td>11.27</td>\n",
       "      <td>NaN</td>\n",
       "      <td>136.17</td>\n",
       "      <td>NaN</td>\n",
       "      <td>NaN</td>\n",
       "      <td>NaN</td>\n",
       "      <td>NaN</td>\n",
       "      <td>NaN</td>\n",
       "      <td>6.77</td>\n",
       "      <td>NaN</td>\n",
       "      <td>0.99</td>\n",
       "      <td>NaN</td>\n",
       "      <td>NaN</td>\n",
       "      <td>NaN</td>\n",
       "      <td>NaN</td>\n",
       "      <td>NaN</td>\n",
       "      <td>NaN</td>\n",
       "      <td>NaN</td>\n",
       "    </tr>\n",
       "    <tr>\n",
       "      <td>1998</td>\n",
       "      <td>NaN</td>\n",
       "      <td>NaN</td>\n",
       "      <td>NaN</td>\n",
       "      <td>3.38</td>\n",
       "      <td>NaN</td>\n",
       "      <td>26.90</td>\n",
       "      <td>NaN</td>\n",
       "      <td>NaN</td>\n",
       "      <td>NaN</td>\n",
       "      <td>NaN</td>\n",
       "      <td>49.24</td>\n",
       "      <td>NaN</td>\n",
       "      <td>NaN</td>\n",
       "      <td>3.26</td>\n",
       "      <td>NaN</td>\n",
       "      <td>169.49</td>\n",
       "      <td>NaN</td>\n",
       "      <td>NaN</td>\n",
       "      <td>NaN</td>\n",
       "      <td>NaN</td>\n",
       "      <td>NaN</td>\n",
       "      <td>3.82</td>\n",
       "      <td>NaN</td>\n",
       "      <td>0.22</td>\n",
       "      <td>NaN</td>\n",
       "      <td>NaN</td>\n",
       "      <td>NaN</td>\n",
       "      <td>NaN</td>\n",
       "      <td>NaN</td>\n",
       "      <td>NaN</td>\n",
       "      <td>NaN</td>\n",
       "    </tr>\n",
       "    <tr>\n",
       "      <td>1999</td>\n",
       "      <td>NaN</td>\n",
       "      <td>NaN</td>\n",
       "      <td>NaN</td>\n",
       "      <td>5.16</td>\n",
       "      <td>NaN</td>\n",
       "      <td>38.00</td>\n",
       "      <td>NaN</td>\n",
       "      <td>NaN</td>\n",
       "      <td>NaN</td>\n",
       "      <td>NaN</td>\n",
       "      <td>57.87</td>\n",
       "      <td>NaN</td>\n",
       "      <td>NaN</td>\n",
       "      <td>4.74</td>\n",
       "      <td>NaN</td>\n",
       "      <td>144.53</td>\n",
       "      <td>NaN</td>\n",
       "      <td>NaN</td>\n",
       "      <td>NaN</td>\n",
       "      <td>NaN</td>\n",
       "      <td>NaN</td>\n",
       "      <td>0.09</td>\n",
       "      <td>NaN</td>\n",
       "      <td>0.26</td>\n",
       "      <td>NaN</td>\n",
       "      <td>0.46</td>\n",
       "      <td>NaN</td>\n",
       "      <td>NaN</td>\n",
       "      <td>NaN</td>\n",
       "      <td>NaN</td>\n",
       "      <td>NaN</td>\n",
       "    </tr>\n",
       "    <tr>\n",
       "      <td>2000</td>\n",
       "      <td>NaN</td>\n",
       "      <td>NaN</td>\n",
       "      <td>NaN</td>\n",
       "      <td>5.99</td>\n",
       "      <td>NaN</td>\n",
       "      <td>19.76</td>\n",
       "      <td>0.07</td>\n",
       "      <td>NaN</td>\n",
       "      <td>NaN</td>\n",
       "      <td>NaN</td>\n",
       "      <td>33.97</td>\n",
       "      <td>NaN</td>\n",
       "      <td>NaN</td>\n",
       "      <td>4.66</td>\n",
       "      <td>NaN</td>\n",
       "      <td>96.37</td>\n",
       "      <td>39.17</td>\n",
       "      <td>NaN</td>\n",
       "      <td>NaN</td>\n",
       "      <td>NaN</td>\n",
       "      <td>NaN</td>\n",
       "      <td>NaN</td>\n",
       "      <td>NaN</td>\n",
       "      <td>NaN</td>\n",
       "      <td>NaN</td>\n",
       "      <td>0.68</td>\n",
       "      <td>NaN</td>\n",
       "      <td>NaN</td>\n",
       "      <td>NaN</td>\n",
       "      <td>0.99</td>\n",
       "      <td>NaN</td>\n",
       "    </tr>\n",
       "    <tr>\n",
       "      <td>2001</td>\n",
       "      <td>NaN</td>\n",
       "      <td>NaN</td>\n",
       "      <td>NaN</td>\n",
       "      <td>1.07</td>\n",
       "      <td>NaN</td>\n",
       "      <td>9.24</td>\n",
       "      <td>61.53</td>\n",
       "      <td>26.34</td>\n",
       "      <td>NaN</td>\n",
       "      <td>NaN</td>\n",
       "      <td>3.25</td>\n",
       "      <td>NaN</td>\n",
       "      <td>NaN</td>\n",
       "      <td>5.47</td>\n",
       "      <td>NaN</td>\n",
       "      <td>35.59</td>\n",
       "      <td>166.43</td>\n",
       "      <td>NaN</td>\n",
       "      <td>NaN</td>\n",
       "      <td>NaN</td>\n",
       "      <td>NaN</td>\n",
       "      <td>NaN</td>\n",
       "      <td>NaN</td>\n",
       "      <td>NaN</td>\n",
       "      <td>NaN</td>\n",
       "      <td>0.28</td>\n",
       "      <td>NaN</td>\n",
       "      <td>NaN</td>\n",
       "      <td>NaN</td>\n",
       "      <td>22.26</td>\n",
       "      <td>NaN</td>\n",
       "    </tr>\n",
       "    <tr>\n",
       "      <td>2002</td>\n",
       "      <td>NaN</td>\n",
       "      <td>NaN</td>\n",
       "      <td>NaN</td>\n",
       "      <td>0.29</td>\n",
       "      <td>NaN</td>\n",
       "      <td>NaN</td>\n",
       "      <td>74.16</td>\n",
       "      <td>51.81</td>\n",
       "      <td>NaN</td>\n",
       "      <td>NaN</td>\n",
       "      <td>0.08</td>\n",
       "      <td>NaN</td>\n",
       "      <td>NaN</td>\n",
       "      <td>8.57</td>\n",
       "      <td>NaN</td>\n",
       "      <td>6.67</td>\n",
       "      <td>205.38</td>\n",
       "      <td>NaN</td>\n",
       "      <td>NaN</td>\n",
       "      <td>NaN</td>\n",
       "      <td>NaN</td>\n",
       "      <td>NaN</td>\n",
       "      <td>NaN</td>\n",
       "      <td>NaN</td>\n",
       "      <td>NaN</td>\n",
       "      <td>NaN</td>\n",
       "      <td>NaN</td>\n",
       "      <td>NaN</td>\n",
       "      <td>NaN</td>\n",
       "      <td>48.01</td>\n",
       "      <td>NaN</td>\n",
       "    </tr>\n",
       "    <tr>\n",
       "      <td>2003</td>\n",
       "      <td>NaN</td>\n",
       "      <td>NaN</td>\n",
       "      <td>NaN</td>\n",
       "      <td>NaN</td>\n",
       "      <td>NaN</td>\n",
       "      <td>NaN</td>\n",
       "      <td>56.67</td>\n",
       "      <td>50.61</td>\n",
       "      <td>NaN</td>\n",
       "      <td>NaN</td>\n",
       "      <td>NaN</td>\n",
       "      <td>NaN</td>\n",
       "      <td>NaN</td>\n",
       "      <td>8.84</td>\n",
       "      <td>NaN</td>\n",
       "      <td>2.07</td>\n",
       "      <td>184.31</td>\n",
       "      <td>NaN</td>\n",
       "      <td>NaN</td>\n",
       "      <td>NaN</td>\n",
       "      <td>NaN</td>\n",
       "      <td>NaN</td>\n",
       "      <td>NaN</td>\n",
       "      <td>NaN</td>\n",
       "      <td>NaN</td>\n",
       "      <td>NaN</td>\n",
       "      <td>NaN</td>\n",
       "      <td>NaN</td>\n",
       "      <td>NaN</td>\n",
       "      <td>55.04</td>\n",
       "      <td>NaN</td>\n",
       "    </tr>\n",
       "    <tr>\n",
       "      <td>2004</td>\n",
       "      <td>NaN</td>\n",
       "      <td>NaN</td>\n",
       "      <td>NaN</td>\n",
       "      <td>NaN</td>\n",
       "      <td>17.27</td>\n",
       "      <td>NaN</td>\n",
       "      <td>77.91</td>\n",
       "      <td>28.82</td>\n",
       "      <td>NaN</td>\n",
       "      <td>NaN</td>\n",
       "      <td>NaN</td>\n",
       "      <td>NaN</td>\n",
       "      <td>NaN</td>\n",
       "      <td>10.39</td>\n",
       "      <td>NaN</td>\n",
       "      <td>NaN</td>\n",
       "      <td>211.81</td>\n",
       "      <td>NaN</td>\n",
       "      <td>NaN</td>\n",
       "      <td>7.06</td>\n",
       "      <td>NaN</td>\n",
       "      <td>NaN</td>\n",
       "      <td>NaN</td>\n",
       "      <td>NaN</td>\n",
       "      <td>NaN</td>\n",
       "      <td>NaN</td>\n",
       "      <td>NaN</td>\n",
       "      <td>NaN</td>\n",
       "      <td>NaN</td>\n",
       "      <td>65.42</td>\n",
       "      <td>NaN</td>\n",
       "    </tr>\n",
       "    <tr>\n",
       "      <td>2005</td>\n",
       "      <td>NaN</td>\n",
       "      <td>NaN</td>\n",
       "      <td>NaN</td>\n",
       "      <td>NaN</td>\n",
       "      <td>130.14</td>\n",
       "      <td>NaN</td>\n",
       "      <td>33.86</td>\n",
       "      <td>27.62</td>\n",
       "      <td>NaN</td>\n",
       "      <td>NaN</td>\n",
       "      <td>NaN</td>\n",
       "      <td>NaN</td>\n",
       "      <td>NaN</td>\n",
       "      <td>4.37</td>\n",
       "      <td>NaN</td>\n",
       "      <td>NaN</td>\n",
       "      <td>160.66</td>\n",
       "      <td>NaN</td>\n",
       "      <td>NaN</td>\n",
       "      <td>43.84</td>\n",
       "      <td>NaN</td>\n",
       "      <td>NaN</td>\n",
       "      <td>NaN</td>\n",
       "      <td>NaN</td>\n",
       "      <td>NaN</td>\n",
       "      <td>NaN</td>\n",
       "      <td>NaN</td>\n",
       "      <td>NaN</td>\n",
       "      <td>8.25</td>\n",
       "      <td>49.08</td>\n",
       "      <td>NaN</td>\n",
       "    </tr>\n",
       "    <tr>\n",
       "      <td>2006</td>\n",
       "      <td>NaN</td>\n",
       "      <td>NaN</td>\n",
       "      <td>NaN</td>\n",
       "      <td>NaN</td>\n",
       "      <td>119.81</td>\n",
       "      <td>NaN</td>\n",
       "      <td>5.28</td>\n",
       "      <td>11.26</td>\n",
       "      <td>NaN</td>\n",
       "      <td>NaN</td>\n",
       "      <td>NaN</td>\n",
       "      <td>NaN</td>\n",
       "      <td>NaN</td>\n",
       "      <td>2.85</td>\n",
       "      <td>NaN</td>\n",
       "      <td>NaN</td>\n",
       "      <td>103.42</td>\n",
       "      <td>20.96</td>\n",
       "      <td>NaN</td>\n",
       "      <td>55.32</td>\n",
       "      <td>NaN</td>\n",
       "      <td>NaN</td>\n",
       "      <td>NaN</td>\n",
       "      <td>NaN</td>\n",
       "      <td>NaN</td>\n",
       "      <td>NaN</td>\n",
       "      <td>137.15</td>\n",
       "      <td>NaN</td>\n",
       "      <td>51.62</td>\n",
       "      <td>10.04</td>\n",
       "      <td>NaN</td>\n",
       "    </tr>\n",
       "    <tr>\n",
       "      <td>2007</td>\n",
       "      <td>NaN</td>\n",
       "      <td>NaN</td>\n",
       "      <td>NaN</td>\n",
       "      <td>0.02</td>\n",
       "      <td>146.94</td>\n",
       "      <td>NaN</td>\n",
       "      <td>3.40</td>\n",
       "      <td>0.27</td>\n",
       "      <td>NaN</td>\n",
       "      <td>NaN</td>\n",
       "      <td>NaN</td>\n",
       "      <td>NaN</td>\n",
       "      <td>NaN</td>\n",
       "      <td>9.28</td>\n",
       "      <td>NaN</td>\n",
       "      <td>NaN</td>\n",
       "      <td>75.99</td>\n",
       "      <td>73.19</td>\n",
       "      <td>NaN</td>\n",
       "      <td>46.93</td>\n",
       "      <td>NaN</td>\n",
       "      <td>NaN</td>\n",
       "      <td>NaN</td>\n",
       "      <td>NaN</td>\n",
       "      <td>NaN</td>\n",
       "      <td>NaN</td>\n",
       "      <td>152.77</td>\n",
       "      <td>NaN</td>\n",
       "      <td>95.41</td>\n",
       "      <td>0.55</td>\n",
       "      <td>NaN</td>\n",
       "    </tr>\n",
       "    <tr>\n",
       "      <td>2008</td>\n",
       "      <td>NaN</td>\n",
       "      <td>NaN</td>\n",
       "      <td>NaN</td>\n",
       "      <td>0.04</td>\n",
       "      <td>145.31</td>\n",
       "      <td>NaN</td>\n",
       "      <td>NaN</td>\n",
       "      <td>NaN</td>\n",
       "      <td>NaN</td>\n",
       "      <td>NaN</td>\n",
       "      <td>NaN</td>\n",
       "      <td>NaN</td>\n",
       "      <td>NaN</td>\n",
       "      <td>12.42</td>\n",
       "      <td>NaN</td>\n",
       "      <td>NaN</td>\n",
       "      <td>53.90</td>\n",
       "      <td>118.52</td>\n",
       "      <td>NaN</td>\n",
       "      <td>34.55</td>\n",
       "      <td>NaN</td>\n",
       "      <td>NaN</td>\n",
       "      <td>NaN</td>\n",
       "      <td>NaN</td>\n",
       "      <td>NaN</td>\n",
       "      <td>NaN</td>\n",
       "      <td>171.32</td>\n",
       "      <td>NaN</td>\n",
       "      <td>135.26</td>\n",
       "      <td>0.18</td>\n",
       "      <td>NaN</td>\n",
       "    </tr>\n",
       "    <tr>\n",
       "      <td>2009</td>\n",
       "      <td>NaN</td>\n",
       "      <td>NaN</td>\n",
       "      <td>NaN</td>\n",
       "      <td>NaN</td>\n",
       "      <td>119.54</td>\n",
       "      <td>NaN</td>\n",
       "      <td>NaN</td>\n",
       "      <td>NaN</td>\n",
       "      <td>NaN</td>\n",
       "      <td>NaN</td>\n",
       "      <td>NaN</td>\n",
       "      <td>NaN</td>\n",
       "      <td>NaN</td>\n",
       "      <td>16.91</td>\n",
       "      <td>NaN</td>\n",
       "      <td>NaN</td>\n",
       "      <td>26.40</td>\n",
       "      <td>130.93</td>\n",
       "      <td>NaN</td>\n",
       "      <td>37.78</td>\n",
       "      <td>NaN</td>\n",
       "      <td>NaN</td>\n",
       "      <td>NaN</td>\n",
       "      <td>NaN</td>\n",
       "      <td>NaN</td>\n",
       "      <td>NaN</td>\n",
       "      <td>206.97</td>\n",
       "      <td>NaN</td>\n",
       "      <td>120.29</td>\n",
       "      <td>NaN</td>\n",
       "      <td>NaN</td>\n",
       "    </tr>\n",
       "    <tr>\n",
       "      <td>2010</td>\n",
       "      <td>NaN</td>\n",
       "      <td>NaN</td>\n",
       "      <td>NaN</td>\n",
       "      <td>NaN</td>\n",
       "      <td>85.02</td>\n",
       "      <td>NaN</td>\n",
       "      <td>NaN</td>\n",
       "      <td>NaN</td>\n",
       "      <td>NaN</td>\n",
       "      <td>NaN</td>\n",
       "      <td>NaN</td>\n",
       "      <td>NaN</td>\n",
       "      <td>NaN</td>\n",
       "      <td>24.28</td>\n",
       "      <td>NaN</td>\n",
       "      <td>NaN</td>\n",
       "      <td>5.64</td>\n",
       "      <td>142.17</td>\n",
       "      <td>NaN</td>\n",
       "      <td>35.04</td>\n",
       "      <td>NaN</td>\n",
       "      <td>NaN</td>\n",
       "      <td>NaN</td>\n",
       "      <td>NaN</td>\n",
       "      <td>NaN</td>\n",
       "      <td>NaN</td>\n",
       "      <td>127.95</td>\n",
       "      <td>NaN</td>\n",
       "      <td>170.03</td>\n",
       "      <td>NaN</td>\n",
       "      <td>NaN</td>\n",
       "    </tr>\n",
       "    <tr>\n",
       "      <td>2011</td>\n",
       "      <td>NaN</td>\n",
       "      <td>NaN</td>\n",
       "      <td>63.20</td>\n",
       "      <td>NaN</td>\n",
       "      <td>26.18</td>\n",
       "      <td>NaN</td>\n",
       "      <td>NaN</td>\n",
       "      <td>NaN</td>\n",
       "      <td>NaN</td>\n",
       "      <td>NaN</td>\n",
       "      <td>NaN</td>\n",
       "      <td>NaN</td>\n",
       "      <td>NaN</td>\n",
       "      <td>35.03</td>\n",
       "      <td>NaN</td>\n",
       "      <td>NaN</td>\n",
       "      <td>0.45</td>\n",
       "      <td>156.78</td>\n",
       "      <td>NaN</td>\n",
       "      <td>17.82</td>\n",
       "      <td>4.63</td>\n",
       "      <td>NaN</td>\n",
       "      <td>NaN</td>\n",
       "      <td>NaN</td>\n",
       "      <td>NaN</td>\n",
       "      <td>NaN</td>\n",
       "      <td>59.65</td>\n",
       "      <td>NaN</td>\n",
       "      <td>143.84</td>\n",
       "      <td>NaN</td>\n",
       "      <td>NaN</td>\n",
       "    </tr>\n",
       "    <tr>\n",
       "      <td>2012</td>\n",
       "      <td>NaN</td>\n",
       "      <td>NaN</td>\n",
       "      <td>51.36</td>\n",
       "      <td>NaN</td>\n",
       "      <td>11.01</td>\n",
       "      <td>NaN</td>\n",
       "      <td>NaN</td>\n",
       "      <td>NaN</td>\n",
       "      <td>NaN</td>\n",
       "      <td>NaN</td>\n",
       "      <td>NaN</td>\n",
       "      <td>NaN</td>\n",
       "      <td>NaN</td>\n",
       "      <td>23.22</td>\n",
       "      <td>NaN</td>\n",
       "      <td>NaN</td>\n",
       "      <td>NaN</td>\n",
       "      <td>107.36</td>\n",
       "      <td>NaN</td>\n",
       "      <td>7.69</td>\n",
       "      <td>16.19</td>\n",
       "      <td>NaN</td>\n",
       "      <td>NaN</td>\n",
       "      <td>NaN</td>\n",
       "      <td>NaN</td>\n",
       "      <td>NaN</td>\n",
       "      <td>21.71</td>\n",
       "      <td>17.56</td>\n",
       "      <td>99.74</td>\n",
       "      <td>NaN</td>\n",
       "      <td>NaN</td>\n",
       "    </tr>\n",
       "    <tr>\n",
       "      <td>2013</td>\n",
       "      <td>NaN</td>\n",
       "      <td>NaN</td>\n",
       "      <td>56.57</td>\n",
       "      <td>NaN</td>\n",
       "      <td>1.54</td>\n",
       "      <td>NaN</td>\n",
       "      <td>NaN</td>\n",
       "      <td>NaN</td>\n",
       "      <td>NaN</td>\n",
       "      <td>NaN</td>\n",
       "      <td>NaN</td>\n",
       "      <td>NaN</td>\n",
       "      <td>NaN</td>\n",
       "      <td>12.38</td>\n",
       "      <td>NaN</td>\n",
       "      <td>NaN</td>\n",
       "      <td>NaN</td>\n",
       "      <td>113.25</td>\n",
       "      <td>25.99</td>\n",
       "      <td>3.14</td>\n",
       "      <td>10.59</td>\n",
       "      <td>NaN</td>\n",
       "      <td>NaN</td>\n",
       "      <td>NaN</td>\n",
       "      <td>NaN</td>\n",
       "      <td>NaN</td>\n",
       "      <td>8.59</td>\n",
       "      <td>21.65</td>\n",
       "      <td>88.58</td>\n",
       "      <td>NaN</td>\n",
       "      <td>18.96</td>\n",
       "    </tr>\n",
       "    <tr>\n",
       "      <td>2014</td>\n",
       "      <td>NaN</td>\n",
       "      <td>NaN</td>\n",
       "      <td>43.76</td>\n",
       "      <td>NaN</td>\n",
       "      <td>NaN</td>\n",
       "      <td>NaN</td>\n",
       "      <td>NaN</td>\n",
       "      <td>NaN</td>\n",
       "      <td>NaN</td>\n",
       "      <td>NaN</td>\n",
       "      <td>NaN</td>\n",
       "      <td>NaN</td>\n",
       "      <td>NaN</td>\n",
       "      <td>13.28</td>\n",
       "      <td>NaN</td>\n",
       "      <td>NaN</td>\n",
       "      <td>NaN</td>\n",
       "      <td>47.76</td>\n",
       "      <td>100.00</td>\n",
       "      <td>0.24</td>\n",
       "      <td>11.90</td>\n",
       "      <td>NaN</td>\n",
       "      <td>NaN</td>\n",
       "      <td>NaN</td>\n",
       "      <td>NaN</td>\n",
       "      <td>NaN</td>\n",
       "      <td>3.75</td>\n",
       "      <td>22.03</td>\n",
       "      <td>34.74</td>\n",
       "      <td>NaN</td>\n",
       "      <td>54.07</td>\n",
       "    </tr>\n",
       "    <tr>\n",
       "      <td>2015</td>\n",
       "      <td>NaN</td>\n",
       "      <td>NaN</td>\n",
       "      <td>27.78</td>\n",
       "      <td>NaN</td>\n",
       "      <td>NaN</td>\n",
       "      <td>NaN</td>\n",
       "      <td>NaN</td>\n",
       "      <td>NaN</td>\n",
       "      <td>NaN</td>\n",
       "      <td>NaN</td>\n",
       "      <td>NaN</td>\n",
       "      <td>NaN</td>\n",
       "      <td>NaN</td>\n",
       "      <td>8.52</td>\n",
       "      <td>NaN</td>\n",
       "      <td>NaN</td>\n",
       "      <td>NaN</td>\n",
       "      <td>16.82</td>\n",
       "      <td>118.90</td>\n",
       "      <td>0.12</td>\n",
       "      <td>6.25</td>\n",
       "      <td>NaN</td>\n",
       "      <td>NaN</td>\n",
       "      <td>NaN</td>\n",
       "      <td>NaN</td>\n",
       "      <td>NaN</td>\n",
       "      <td>1.14</td>\n",
       "      <td>16.35</td>\n",
       "      <td>11.96</td>\n",
       "      <td>NaN</td>\n",
       "      <td>60.14</td>\n",
       "    </tr>\n",
       "    <tr>\n",
       "      <td>2016</td>\n",
       "      <td>NaN</td>\n",
       "      <td>NaN</td>\n",
       "      <td>15.14</td>\n",
       "      <td>NaN</td>\n",
       "      <td>NaN</td>\n",
       "      <td>NaN</td>\n",
       "      <td>NaN</td>\n",
       "      <td>NaN</td>\n",
       "      <td>NaN</td>\n",
       "      <td>NaN</td>\n",
       "      <td>NaN</td>\n",
       "      <td>NaN</td>\n",
       "      <td>NaN</td>\n",
       "      <td>5.25</td>\n",
       "      <td>NaN</td>\n",
       "      <td>NaN</td>\n",
       "      <td>NaN</td>\n",
       "      <td>3.60</td>\n",
       "      <td>69.25</td>\n",
       "      <td>NaN</td>\n",
       "      <td>4.25</td>\n",
       "      <td>NaN</td>\n",
       "      <td>NaN</td>\n",
       "      <td>NaN</td>\n",
       "      <td>NaN</td>\n",
       "      <td>NaN</td>\n",
       "      <td>0.18</td>\n",
       "      <td>4.60</td>\n",
       "      <td>1.52</td>\n",
       "      <td>NaN</td>\n",
       "      <td>26.15</td>\n",
       "    </tr>\n",
       "  </tbody>\n",
       "</table>\n",
       "</div>"
      ],
      "text/plain": [
       "platform          2600   3DO    3DS    DC      DS     GB    GBA     GC    GEN  \\\n",
       "year_of_release                                                                 \n",
       "1980             11.38 NaN   NaN    NaN   NaN     NaN    NaN    NaN    NaN      \n",
       "1981             35.68 NaN   NaN    NaN   NaN     NaN    NaN    NaN    NaN      \n",
       "1982             28.88 NaN   NaN    NaN   NaN     NaN    NaN    NaN    NaN      \n",
       "1983             5.84  NaN   NaN    NaN   NaN     NaN    NaN    NaN    NaN      \n",
       "1984             0.27  NaN   NaN    NaN   NaN     NaN    NaN    NaN    NaN      \n",
       "1985             0.45  NaN   NaN    NaN    0.02   NaN    NaN    NaN    NaN      \n",
       "1986             0.67  NaN   NaN    NaN   NaN     NaN    NaN    NaN    NaN      \n",
       "1987             1.94  NaN   NaN    NaN   NaN     NaN    NaN    NaN    NaN      \n",
       "1988             0.74  NaN   NaN    NaN   NaN      1.43  NaN    NaN    NaN      \n",
       "1989             0.63  NaN   NaN    NaN   NaN      64.97 NaN    NaN    NaN      \n",
       "1990            NaN    NaN   NaN    NaN   NaN      4.89  NaN    NaN     2.60    \n",
       "1991            NaN    NaN   NaN    NaN   NaN      5.57  NaN    NaN     4.33    \n",
       "1992            NaN    NaN   NaN    NaN   NaN      25.49 NaN    NaN     12.64   \n",
       "1993            NaN    NaN   NaN    NaN   NaN     NaN    NaN    NaN     0.65    \n",
       "1994            NaN     0.02 NaN    NaN   NaN      12.18 NaN    NaN     8.13    \n",
       "1995            NaN     0.08 NaN    NaN   NaN      3.60  NaN    NaN    NaN      \n",
       "1996            NaN    NaN   NaN    NaN   NaN      36.03 NaN    NaN    NaN      \n",
       "1997            NaN    NaN   NaN    NaN   NaN      6.37  NaN    NaN    NaN      \n",
       "1998            NaN    NaN   NaN     3.38 NaN      26.90 NaN    NaN    NaN      \n",
       "1999            NaN    NaN   NaN     5.16 NaN      38.00 NaN    NaN    NaN      \n",
       "2000            NaN    NaN   NaN     5.99 NaN      19.76  0.07  NaN    NaN      \n",
       "2001            NaN    NaN   NaN     1.07 NaN      9.24   61.53  26.34 NaN      \n",
       "2002            NaN    NaN   NaN     0.29 NaN     NaN     74.16  51.81 NaN      \n",
       "2003            NaN    NaN   NaN    NaN   NaN     NaN     56.67  50.61 NaN      \n",
       "2004            NaN    NaN   NaN    NaN    17.27  NaN     77.91  28.82 NaN      \n",
       "2005            NaN    NaN   NaN    NaN    130.14 NaN     33.86  27.62 NaN      \n",
       "2006            NaN    NaN   NaN    NaN    119.81 NaN     5.28   11.26 NaN      \n",
       "2007            NaN    NaN   NaN     0.02  146.94 NaN     3.40   0.27  NaN      \n",
       "2008            NaN    NaN   NaN     0.04  145.31 NaN    NaN    NaN    NaN      \n",
       "2009            NaN    NaN   NaN    NaN    119.54 NaN    NaN    NaN    NaN      \n",
       "2010            NaN    NaN   NaN    NaN    85.02  NaN    NaN    NaN    NaN      \n",
       "2011            NaN    NaN    63.20 NaN    26.18  NaN    NaN    NaN    NaN      \n",
       "2012            NaN    NaN    51.36 NaN    11.01  NaN    NaN    NaN    NaN      \n",
       "2013            NaN    NaN    56.57 NaN    1.54   NaN    NaN    NaN    NaN      \n",
       "2014            NaN    NaN    43.76 NaN   NaN     NaN    NaN    NaN    NaN      \n",
       "2015            NaN    NaN    27.78 NaN   NaN     NaN    NaN    NaN    NaN      \n",
       "2016            NaN    NaN    15.14 NaN   NaN     NaN    NaN    NaN    NaN      \n",
       "\n",
       "platform           GG    N64    NES    NG     PC  PCFX      PS     PS2  \\\n",
       "year_of_release                                                          \n",
       "1980            NaN   NaN    NaN    NaN   NaN    NaN   NaN     NaN       \n",
       "1981            NaN   NaN    NaN    NaN   NaN    NaN   NaN     NaN       \n",
       "1982            NaN   NaN    NaN    NaN   NaN    NaN   NaN     NaN       \n",
       "1983            NaN   NaN     10.96 NaN   NaN    NaN   NaN     NaN       \n",
       "1984            NaN   NaN     50.08 NaN   NaN    NaN   NaN     NaN       \n",
       "1985            NaN   NaN     53.44 NaN    0.04  NaN   NaN     NaN       \n",
       "1986            NaN   NaN     36.41 NaN   NaN    NaN   NaN     NaN       \n",
       "1987            NaN   NaN     19.76 NaN   NaN    NaN   NaN     NaN       \n",
       "1988            NaN   NaN     45.01 NaN    0.03  NaN   NaN     NaN       \n",
       "1989            NaN   NaN     7.85  NaN   NaN    NaN   NaN     NaN       \n",
       "1990            NaN   NaN     15.73 NaN   NaN    NaN   NaN     NaN       \n",
       "1991            NaN   NaN     6.11  NaN   NaN    NaN   NaN     NaN       \n",
       "1992             0.04 NaN     1.98  NaN    3.03  NaN   NaN     NaN       \n",
       "1993            NaN   NaN     3.61   0.21 NaN    NaN   NaN     NaN       \n",
       "1994            NaN   NaN     0.11   0.80  12.87 NaN    6.03   NaN       \n",
       "1995            NaN   NaN    NaN     0.33  4.22  NaN    35.96  NaN       \n",
       "1996            NaN    34.10 NaN     0.10  10.58  0.03  94.70  NaN       \n",
       "1997            NaN    39.50 NaN    NaN    11.27 NaN    136.17 NaN       \n",
       "1998            NaN    49.24 NaN    NaN    3.26  NaN    169.49 NaN       \n",
       "1999            NaN    57.87 NaN    NaN    4.74  NaN    144.53 NaN       \n",
       "2000            NaN    33.97 NaN    NaN    4.66  NaN    96.37   39.17    \n",
       "2001            NaN    3.25  NaN    NaN    5.47  NaN    35.59   166.43   \n",
       "2002            NaN    0.08  NaN    NaN    8.57  NaN    6.67    205.38   \n",
       "2003            NaN   NaN    NaN    NaN    8.84  NaN    2.07    184.31   \n",
       "2004            NaN   NaN    NaN    NaN    10.39 NaN   NaN      211.81   \n",
       "2005            NaN   NaN    NaN    NaN    4.37  NaN   NaN      160.66   \n",
       "2006            NaN   NaN    NaN    NaN    2.85  NaN   NaN      103.42   \n",
       "2007            NaN   NaN    NaN    NaN    9.28  NaN   NaN      75.99    \n",
       "2008            NaN   NaN    NaN    NaN    12.42 NaN   NaN      53.90    \n",
       "2009            NaN   NaN    NaN    NaN    16.91 NaN   NaN      26.40    \n",
       "2010            NaN   NaN    NaN    NaN    24.28 NaN   NaN      5.64     \n",
       "2011            NaN   NaN    NaN    NaN    35.03 NaN   NaN      0.45     \n",
       "2012            NaN   NaN    NaN    NaN    23.22 NaN   NaN     NaN       \n",
       "2013            NaN   NaN    NaN    NaN    12.38 NaN   NaN     NaN       \n",
       "2014            NaN   NaN    NaN    NaN    13.28 NaN   NaN     NaN       \n",
       "2015            NaN   NaN    NaN    NaN    8.52  NaN   NaN     NaN       \n",
       "2016            NaN   NaN    NaN    NaN    5.25  NaN   NaN     NaN       \n",
       "\n",
       "platform            PS3     PS4    PSP    PSV    SAT   SCD   SNES  TG16    WS  \\\n",
       "year_of_release                                                                 \n",
       "1980            NaN     NaN     NaN    NaN    NaN    NaN   NaN    NaN   NaN     \n",
       "1981            NaN     NaN     NaN    NaN    NaN    NaN   NaN    NaN   NaN     \n",
       "1982            NaN     NaN     NaN    NaN    NaN    NaN   NaN    NaN   NaN     \n",
       "1983            NaN     NaN     NaN    NaN    NaN    NaN   NaN    NaN   NaN     \n",
       "1984            NaN     NaN     NaN    NaN    NaN    NaN   NaN    NaN   NaN     \n",
       "1985            NaN     NaN     NaN    NaN    NaN    NaN   NaN    NaN   NaN     \n",
       "1986            NaN     NaN     NaN    NaN    NaN    NaN   NaN    NaN   NaN     \n",
       "1987            NaN     NaN     NaN    NaN    NaN    NaN   NaN    NaN   NaN     \n",
       "1988            NaN     NaN     NaN    NaN    NaN    NaN   NaN    NaN   NaN     \n",
       "1989            NaN     NaN     NaN    NaN    NaN    NaN   NaN    NaN   NaN     \n",
       "1990            NaN     NaN     NaN    NaN    NaN    NaN    26.15 NaN   NaN     \n",
       "1991            NaN     NaN     NaN    NaN    NaN    NaN    16.22 NaN   NaN     \n",
       "1992            NaN     NaN     NaN    NaN    NaN    NaN    32.98 NaN   NaN     \n",
       "1993            NaN     NaN     NaN    NaN    NaN     1.50  40.02 NaN   NaN     \n",
       "1994            NaN     NaN     NaN    NaN     3.65   0.36  35.08 NaN   NaN     \n",
       "1995            NaN     NaN     NaN    NaN     11.57 NaN    32.20  0.16 NaN     \n",
       "1996            NaN     NaN     NaN    NaN     7.69  NaN    15.92 NaN   NaN     \n",
       "1997            NaN     NaN     NaN    NaN     6.77  NaN    0.99  NaN   NaN     \n",
       "1998            NaN     NaN     NaN    NaN     3.82  NaN    0.22  NaN   NaN     \n",
       "1999            NaN     NaN     NaN    NaN     0.09  NaN    0.26  NaN    0.46   \n",
       "2000            NaN     NaN     NaN    NaN    NaN    NaN   NaN    NaN    0.68   \n",
       "2001            NaN     NaN     NaN    NaN    NaN    NaN   NaN    NaN    0.28   \n",
       "2002            NaN     NaN     NaN    NaN    NaN    NaN   NaN    NaN   NaN     \n",
       "2003            NaN     NaN     NaN    NaN    NaN    NaN   NaN    NaN   NaN     \n",
       "2004            NaN     NaN      7.06  NaN    NaN    NaN   NaN    NaN   NaN     \n",
       "2005            NaN     NaN      43.84 NaN    NaN    NaN   NaN    NaN   NaN     \n",
       "2006             20.96  NaN      55.32 NaN    NaN    NaN   NaN    NaN   NaN     \n",
       "2007             73.19  NaN      46.93 NaN    NaN    NaN   NaN    NaN   NaN     \n",
       "2008             118.52 NaN      34.55 NaN    NaN    NaN   NaN    NaN   NaN     \n",
       "2009             130.93 NaN      37.78 NaN    NaN    NaN   NaN    NaN   NaN     \n",
       "2010             142.17 NaN      35.04 NaN    NaN    NaN   NaN    NaN   NaN     \n",
       "2011             156.78 NaN      17.82  4.63  NaN    NaN   NaN    NaN   NaN     \n",
       "2012             107.36 NaN      7.69   16.19 NaN    NaN   NaN    NaN   NaN     \n",
       "2013             113.25  25.99   3.14   10.59 NaN    NaN   NaN    NaN   NaN     \n",
       "2014             47.76   100.00  0.24   11.90 NaN    NaN   NaN    NaN   NaN     \n",
       "2015             16.82   118.90  0.12   6.25  NaN    NaN   NaN    NaN   NaN     \n",
       "2016             3.60    69.25  NaN     4.25  NaN    NaN   NaN    NaN   NaN     \n",
       "\n",
       "platform            Wii   WiiU    X360     XB   XOne  \n",
       "year_of_release                                       \n",
       "1980            NaN     NaN    NaN     NaN    NaN     \n",
       "1981            NaN     NaN    NaN     NaN    NaN     \n",
       "1982            NaN     NaN    NaN     NaN    NaN     \n",
       "1983            NaN     NaN    NaN     NaN    NaN     \n",
       "1984            NaN     NaN    NaN     NaN    NaN     \n",
       "1985            NaN     NaN    NaN     NaN    NaN     \n",
       "1986            NaN     NaN    NaN     NaN    NaN     \n",
       "1987            NaN     NaN    NaN     NaN    NaN     \n",
       "1988            NaN     NaN    NaN     NaN    NaN     \n",
       "1989            NaN     NaN    NaN     NaN    NaN     \n",
       "1990            NaN     NaN    NaN     NaN    NaN     \n",
       "1991            NaN     NaN    NaN     NaN    NaN     \n",
       "1992            NaN     NaN    NaN     NaN    NaN     \n",
       "1993            NaN     NaN    NaN     NaN    NaN     \n",
       "1994            NaN     NaN    NaN     NaN    NaN     \n",
       "1995            NaN     NaN    NaN     NaN    NaN     \n",
       "1996            NaN     NaN    NaN     NaN    NaN     \n",
       "1997            NaN     NaN    NaN     NaN    NaN     \n",
       "1998            NaN     NaN    NaN     NaN    NaN     \n",
       "1999            NaN     NaN    NaN     NaN    NaN     \n",
       "2000            NaN     NaN    NaN      0.99  NaN     \n",
       "2001            NaN     NaN    NaN      22.26 NaN     \n",
       "2002            NaN     NaN    NaN      48.01 NaN     \n",
       "2003            NaN     NaN    NaN      55.04 NaN     \n",
       "2004            NaN     NaN    NaN      65.42 NaN     \n",
       "2005            NaN     NaN     8.25    49.08 NaN     \n",
       "2006             137.15 NaN     51.62   10.04 NaN     \n",
       "2007             152.77 NaN     95.41   0.55  NaN     \n",
       "2008             171.32 NaN     135.26  0.18  NaN     \n",
       "2009             206.97 NaN     120.29 NaN    NaN     \n",
       "2010             127.95 NaN     170.03 NaN    NaN     \n",
       "2011             59.65  NaN     143.84 NaN    NaN     \n",
       "2012             21.71   17.56  99.74  NaN    NaN     \n",
       "2013             8.59    21.65  88.58  NaN     18.96  \n",
       "2014             3.75    22.03  34.74  NaN     54.07  \n",
       "2015             1.14    16.35  11.96  NaN     60.14  \n",
       "2016             0.18    4.60   1.52   NaN     26.15  "
      ]
     },
     "execution_count": 14,
     "metadata": {},
     "output_type": "execute_result"
    }
   ],
   "source": [
    "# Permanently changes the pandas settings\n",
    "pd.set_option('display.max_rows', None)\n",
    "pd.set_option('display.max_columns', None)\n",
    "pd.set_option('display.width', None)\n",
    "pd.set_option('display.max_colwidth', -1)\n",
    "\n",
    "# Showing platforms that use to be popular but now make zero sales\n",
    "pd.set_option('display.max_columns', None)\n",
    "data.pivot_table(index = ['year_of_release'], values = 'total_sales', columns = ['platform'], aggfunc = 'sum')"
   ]
  },
  {
   "cell_type": "markdown",
   "metadata": {},
   "source": [
    "Platforms that used to be popular but now make zero sales are: DS, GB, GBA, GC, N64, PS, PS2, SNES."
   ]
  },
  {
   "cell_type": "code",
   "execution_count": 15,
   "metadata": {
    "scrolled": true
   },
   "outputs": [
    {
     "data": {
      "image/png": "[encoded data removed]",
      "text/plain": [
       "<Figure size 864x360 with 1 Axes>"
      ]
     },
     "metadata": {
      "needs_background": "light"
     },
     "output_type": "display_data"
    },
    {
     "data": {
      "image/png": "[encoded data removed]",
      "text/plain": [
       "<Figure size 720x720 with 2 Axes>"
      ]
     },
     "metadata": {
      "needs_background": "light"
     },
     "output_type": "display_data"
    }
   ],
   "source": [
    "# Determining what period data should be taken for.\n",
    "\n",
    "# Creating a table of the total global sales for each genre and year of release\n",
    "sales_by_gen_and_year = pd.pivot_table(data,index=['year_of_release'], columns=['genre'],values=['total_sales'],aggfunc=np.sum)\n",
    "\n",
    "# Finding the yearly totals\n",
    "yearly_totals = sales_by_gen_and_year.sum(axis=1)\n",
    "yearly_totals = yearly_totals.sort_index()\n",
    "\n",
    "# Plotting the yearly totals\n",
    "fig = plt.figure(figsize=(12,5))\n",
    "ax1=fig.add_subplot(121)\n",
    "sns.barplot(y = yearly_totals.values, x = yearly_totals.index,ax=ax1)\n",
    "ax1.set_title('Total Yearly Global Sales')\n",
    "plt.setp(ax1.get_xticklabels(),rotation=90)\n",
    "ax1.set_xlabel('Years')\n",
    "ax1.set_ylabel('Number of games sold (in millions)')\n",
    "\n",
    "# Plotting the heat map of global sales for games released each year by genre\n",
    "plt.figure(figsize=(10,10))\n",
    "sns.heatmap(sales_by_gen_and_year,annot = True, fmt = '.2f', cmap = 'Blues')\n",
    "plt.tight_layout()\n",
    "plt.ylabel('Year of Release')\n",
    "plt.xlabel('Genre')\n",
    "plt.title('Global Sales (in millions) of Games Released Each Year by Genre')\n",
    "plt.show()"
   ]
  },
  {
   "cell_type": "markdown",
   "metadata": {},
   "source": [
    "Using these two plots above it can be seen that genres are not fully represented until 1991 and more than 95% of the global sales occur after 1991. Hence, we will start by only considering video game sales from 1991 to 2016."
   ]
  },
  {
   "cell_type": "code",
   "execution_count": 16,
   "metadata": {},
   "outputs": [
    {
     "name": "stdout",
     "output_type": "stream",
     "text": [
      "<class 'pandas.core.frame.DataFrame'>\n",
      "Int64Index: 16223 entries, 11344 to 16714\n",
      "Data columns (total 12 columns):\n",
      "name               16223 non-null object\n",
      "platform           16223 non-null object\n",
      "year_of_release    16223 non-null int64\n",
      "genre              16223 non-null object\n",
      "na_sales           16223 non-null float64\n",
      "eu_sales           16223 non-null float64\n",
      "jp_sales           16223 non-null float64\n",
      "other_sales        16223 non-null float64\n",
      "critic_score       16223 non-null float64\n",
      "user_score         7461 non-null float64\n",
      "rating             9766 non-null object\n",
      "total_sales        16223 non-null float64\n",
      "dtypes: float64(7), int64(1), object(4)\n",
      "memory usage: 1.6+ MB\n"
     ]
    }
   ],
   "source": [
    "# Pulling data from 1991 to 2016\n",
    "data1 = data.loc[data.year_of_release >= 1991]\n",
    "data1.info()"
   ]
  },
  {
   "cell_type": "code",
   "execution_count": 17,
   "metadata": {},
   "outputs": [
    {
     "data": {
      "text/html": [
       "<div>\n",
       "<style scoped>\n",
       "    .dataframe tbody tr th:only-of-type {\n",
       "        vertical-align: middle;\n",
       "    }\n",
       "\n",
       "    .dataframe tbody tr th {\n",
       "        vertical-align: top;\n",
       "    }\n",
       "\n",
       "    .dataframe thead th {\n",
       "        text-align: right;\n",
       "    }\n",
       "</style>\n",
       "<table border=\"1\" class=\"dataframe\">\n",
       "  <thead>\n",
       "    <tr style=\"text-align: right;\">\n",
       "      <th></th>\n",
       "      <th>name</th>\n",
       "      <th>platform</th>\n",
       "      <th>year_of_release</th>\n",
       "      <th>genre</th>\n",
       "      <th>na_sales</th>\n",
       "      <th>eu_sales</th>\n",
       "      <th>jp_sales</th>\n",
       "      <th>other_sales</th>\n",
       "      <th>critic_score</th>\n",
       "      <th>user_score</th>\n",
       "      <th>rating</th>\n",
       "      <th>total_sales</th>\n",
       "    </tr>\n",
       "    <tr>\n",
       "      <th>platform</th>\n",
       "      <th></th>\n",
       "      <th></th>\n",
       "      <th></th>\n",
       "      <th></th>\n",
       "      <th></th>\n",
       "      <th></th>\n",
       "      <th></th>\n",
       "      <th></th>\n",
       "      <th></th>\n",
       "      <th></th>\n",
       "      <th></th>\n",
       "      <th></th>\n",
       "    </tr>\n",
       "  </thead>\n",
       "  <tbody>\n",
       "    <tr>\n",
       "      <td>3DO</td>\n",
       "      <td>3</td>\n",
       "      <td>3</td>\n",
       "      <td>3</td>\n",
       "      <td>3</td>\n",
       "      <td>3</td>\n",
       "      <td>3</td>\n",
       "      <td>3</td>\n",
       "      <td>3</td>\n",
       "      <td>3</td>\n",
       "      <td>0</td>\n",
       "      <td>0</td>\n",
       "      <td>3</td>\n",
       "    </tr>\n",
       "    <tr>\n",
       "      <td>3DS</td>\n",
       "      <td>512</td>\n",
       "      <td>512</td>\n",
       "      <td>512</td>\n",
       "      <td>512</td>\n",
       "      <td>512</td>\n",
       "      <td>512</td>\n",
       "      <td>512</td>\n",
       "      <td>512</td>\n",
       "      <td>512</td>\n",
       "      <td>171</td>\n",
       "      <td>223</td>\n",
       "      <td>512</td>\n",
       "    </tr>\n",
       "    <tr>\n",
       "      <td>DC</td>\n",
       "      <td>52</td>\n",
       "      <td>52</td>\n",
       "      <td>52</td>\n",
       "      <td>52</td>\n",
       "      <td>52</td>\n",
       "      <td>52</td>\n",
       "      <td>52</td>\n",
       "      <td>52</td>\n",
       "      <td>52</td>\n",
       "      <td>14</td>\n",
       "      <td>14</td>\n",
       "      <td>52</td>\n",
       "    </tr>\n",
       "    <tr>\n",
       "      <td>DS</td>\n",
       "      <td>2120</td>\n",
       "      <td>2120</td>\n",
       "      <td>2120</td>\n",
       "      <td>2120</td>\n",
       "      <td>2120</td>\n",
       "      <td>2120</td>\n",
       "      <td>2120</td>\n",
       "      <td>2120</td>\n",
       "      <td>2120</td>\n",
       "      <td>512</td>\n",
       "      <td>1255</td>\n",
       "      <td>2120</td>\n",
       "    </tr>\n",
       "    <tr>\n",
       "      <td>GB</td>\n",
       "      <td>83</td>\n",
       "      <td>83</td>\n",
       "      <td>83</td>\n",
       "      <td>83</td>\n",
       "      <td>83</td>\n",
       "      <td>83</td>\n",
       "      <td>83</td>\n",
       "      <td>83</td>\n",
       "      <td>83</td>\n",
       "      <td>0</td>\n",
       "      <td>0</td>\n",
       "      <td>83</td>\n",
       "    </tr>\n",
       "    <tr>\n",
       "      <td>GBA</td>\n",
       "      <td>811</td>\n",
       "      <td>811</td>\n",
       "      <td>811</td>\n",
       "      <td>811</td>\n",
       "      <td>811</td>\n",
       "      <td>811</td>\n",
       "      <td>811</td>\n",
       "      <td>811</td>\n",
       "      <td>811</td>\n",
       "      <td>251</td>\n",
       "      <td>514</td>\n",
       "      <td>811</td>\n",
       "    </tr>\n",
       "    <tr>\n",
       "      <td>GC</td>\n",
       "      <td>542</td>\n",
       "      <td>542</td>\n",
       "      <td>542</td>\n",
       "      <td>542</td>\n",
       "      <td>542</td>\n",
       "      <td>542</td>\n",
       "      <td>542</td>\n",
       "      <td>542</td>\n",
       "      <td>542</td>\n",
       "      <td>357</td>\n",
       "      <td>457</td>\n",
       "      <td>542</td>\n",
       "    </tr>\n",
       "    <tr>\n",
       "      <td>GEN</td>\n",
       "      <td>26</td>\n",
       "      <td>26</td>\n",
       "      <td>26</td>\n",
       "      <td>26</td>\n",
       "      <td>26</td>\n",
       "      <td>26</td>\n",
       "      <td>26</td>\n",
       "      <td>26</td>\n",
       "      <td>26</td>\n",
       "      <td>0</td>\n",
       "      <td>0</td>\n",
       "      <td>26</td>\n",
       "    </tr>\n",
       "    <tr>\n",
       "      <td>GG</td>\n",
       "      <td>1</td>\n",
       "      <td>1</td>\n",
       "      <td>1</td>\n",
       "      <td>1</td>\n",
       "      <td>1</td>\n",
       "      <td>1</td>\n",
       "      <td>1</td>\n",
       "      <td>1</td>\n",
       "      <td>1</td>\n",
       "      <td>0</td>\n",
       "      <td>0</td>\n",
       "      <td>1</td>\n",
       "    </tr>\n",
       "    <tr>\n",
       "      <td>N64</td>\n",
       "      <td>316</td>\n",
       "      <td>316</td>\n",
       "      <td>316</td>\n",
       "      <td>316</td>\n",
       "      <td>316</td>\n",
       "      <td>316</td>\n",
       "      <td>316</td>\n",
       "      <td>316</td>\n",
       "      <td>316</td>\n",
       "      <td>0</td>\n",
       "      <td>0</td>\n",
       "      <td>316</td>\n",
       "    </tr>\n",
       "    <tr>\n",
       "      <td>NES</td>\n",
       "      <td>15</td>\n",
       "      <td>15</td>\n",
       "      <td>15</td>\n",
       "      <td>15</td>\n",
       "      <td>15</td>\n",
       "      <td>15</td>\n",
       "      <td>15</td>\n",
       "      <td>15</td>\n",
       "      <td>15</td>\n",
       "      <td>0</td>\n",
       "      <td>0</td>\n",
       "      <td>15</td>\n",
       "    </tr>\n",
       "    <tr>\n",
       "      <td>NG</td>\n",
       "      <td>12</td>\n",
       "      <td>12</td>\n",
       "      <td>12</td>\n",
       "      <td>12</td>\n",
       "      <td>12</td>\n",
       "      <td>12</td>\n",
       "      <td>12</td>\n",
       "      <td>12</td>\n",
       "      <td>12</td>\n",
       "      <td>0</td>\n",
       "      <td>0</td>\n",
       "      <td>12</td>\n",
       "    </tr>\n",
       "    <tr>\n",
       "      <td>PC</td>\n",
       "      <td>955</td>\n",
       "      <td>955</td>\n",
       "      <td>955</td>\n",
       "      <td>955</td>\n",
       "      <td>955</td>\n",
       "      <td>955</td>\n",
       "      <td>955</td>\n",
       "      <td>955</td>\n",
       "      <td>955</td>\n",
       "      <td>753</td>\n",
       "      <td>755</td>\n",
       "      <td>955</td>\n",
       "    </tr>\n",
       "    <tr>\n",
       "      <td>PCFX</td>\n",
       "      <td>1</td>\n",
       "      <td>1</td>\n",
       "      <td>1</td>\n",
       "      <td>1</td>\n",
       "      <td>1</td>\n",
       "      <td>1</td>\n",
       "      <td>1</td>\n",
       "      <td>1</td>\n",
       "      <td>1</td>\n",
       "      <td>0</td>\n",
       "      <td>0</td>\n",
       "      <td>1</td>\n",
       "    </tr>\n",
       "    <tr>\n",
       "      <td>PS</td>\n",
       "      <td>1190</td>\n",
       "      <td>1190</td>\n",
       "      <td>1190</td>\n",
       "      <td>1190</td>\n",
       "      <td>1190</td>\n",
       "      <td>1190</td>\n",
       "      <td>1190</td>\n",
       "      <td>1190</td>\n",
       "      <td>1190</td>\n",
       "      <td>159</td>\n",
       "      <td>204</td>\n",
       "      <td>1190</td>\n",
       "    </tr>\n",
       "    <tr>\n",
       "      <td>PS2</td>\n",
       "      <td>2127</td>\n",
       "      <td>2127</td>\n",
       "      <td>2127</td>\n",
       "      <td>2127</td>\n",
       "      <td>2127</td>\n",
       "      <td>2127</td>\n",
       "      <td>2127</td>\n",
       "      <td>2127</td>\n",
       "      <td>2127</td>\n",
       "      <td>1220</td>\n",
       "      <td>1456</td>\n",
       "      <td>2127</td>\n",
       "    </tr>\n",
       "    <tr>\n",
       "      <td>PS3</td>\n",
       "      <td>1306</td>\n",
       "      <td>1306</td>\n",
       "      <td>1306</td>\n",
       "      <td>1306</td>\n",
       "      <td>1306</td>\n",
       "      <td>1306</td>\n",
       "      <td>1306</td>\n",
       "      <td>1306</td>\n",
       "      <td>1306</td>\n",
       "      <td>861</td>\n",
       "      <td>935</td>\n",
       "      <td>1306</td>\n",
       "    </tr>\n",
       "    <tr>\n",
       "      <td>PS4</td>\n",
       "      <td>392</td>\n",
       "      <td>392</td>\n",
       "      <td>392</td>\n",
       "      <td>392</td>\n",
       "      <td>392</td>\n",
       "      <td>392</td>\n",
       "      <td>392</td>\n",
       "      <td>392</td>\n",
       "      <td>392</td>\n",
       "      <td>257</td>\n",
       "      <td>255</td>\n",
       "      <td>392</td>\n",
       "    </tr>\n",
       "    <tr>\n",
       "      <td>PSP</td>\n",
       "      <td>1193</td>\n",
       "      <td>1193</td>\n",
       "      <td>1193</td>\n",
       "      <td>1193</td>\n",
       "      <td>1193</td>\n",
       "      <td>1193</td>\n",
       "      <td>1193</td>\n",
       "      <td>1193</td>\n",
       "      <td>1193</td>\n",
       "      <td>418</td>\n",
       "      <td>536</td>\n",
       "      <td>1193</td>\n",
       "    </tr>\n",
       "    <tr>\n",
       "      <td>PSV</td>\n",
       "      <td>429</td>\n",
       "      <td>429</td>\n",
       "      <td>429</td>\n",
       "      <td>429</td>\n",
       "      <td>429</td>\n",
       "      <td>429</td>\n",
       "      <td>429</td>\n",
       "      <td>429</td>\n",
       "      <td>429</td>\n",
       "      <td>142</td>\n",
       "      <td>150</td>\n",
       "      <td>429</td>\n",
       "    </tr>\n",
       "    <tr>\n",
       "      <td>SAT</td>\n",
       "      <td>173</td>\n",
       "      <td>173</td>\n",
       "      <td>173</td>\n",
       "      <td>173</td>\n",
       "      <td>173</td>\n",
       "      <td>173</td>\n",
       "      <td>173</td>\n",
       "      <td>173</td>\n",
       "      <td>173</td>\n",
       "      <td>0</td>\n",
       "      <td>0</td>\n",
       "      <td>173</td>\n",
       "    </tr>\n",
       "    <tr>\n",
       "      <td>SCD</td>\n",
       "      <td>6</td>\n",
       "      <td>6</td>\n",
       "      <td>6</td>\n",
       "      <td>6</td>\n",
       "      <td>6</td>\n",
       "      <td>6</td>\n",
       "      <td>6</td>\n",
       "      <td>6</td>\n",
       "      <td>6</td>\n",
       "      <td>0</td>\n",
       "      <td>0</td>\n",
       "      <td>6</td>\n",
       "    </tr>\n",
       "    <tr>\n",
       "      <td>SNES</td>\n",
       "      <td>235</td>\n",
       "      <td>235</td>\n",
       "      <td>235</td>\n",
       "      <td>235</td>\n",
       "      <td>235</td>\n",
       "      <td>235</td>\n",
       "      <td>235</td>\n",
       "      <td>235</td>\n",
       "      <td>235</td>\n",
       "      <td>0</td>\n",
       "      <td>0</td>\n",
       "      <td>235</td>\n",
       "    </tr>\n",
       "    <tr>\n",
       "      <td>TG16</td>\n",
       "      <td>2</td>\n",
       "      <td>2</td>\n",
       "      <td>2</td>\n",
       "      <td>2</td>\n",
       "      <td>2</td>\n",
       "      <td>2</td>\n",
       "      <td>2</td>\n",
       "      <td>2</td>\n",
       "      <td>2</td>\n",
       "      <td>0</td>\n",
       "      <td>0</td>\n",
       "      <td>2</td>\n",
       "    </tr>\n",
       "    <tr>\n",
       "      <td>WS</td>\n",
       "      <td>6</td>\n",
       "      <td>6</td>\n",
       "      <td>6</td>\n",
       "      <td>6</td>\n",
       "      <td>6</td>\n",
       "      <td>6</td>\n",
       "      <td>6</td>\n",
       "      <td>6</td>\n",
       "      <td>6</td>\n",
       "      <td>0</td>\n",
       "      <td>0</td>\n",
       "      <td>6</td>\n",
       "    </tr>\n",
       "    <tr>\n",
       "      <td>Wii</td>\n",
       "      <td>1286</td>\n",
       "      <td>1286</td>\n",
       "      <td>1286</td>\n",
       "      <td>1286</td>\n",
       "      <td>1286</td>\n",
       "      <td>1286</td>\n",
       "      <td>1286</td>\n",
       "      <td>1286</td>\n",
       "      <td>1286</td>\n",
       "      <td>548</td>\n",
       "      <td>977</td>\n",
       "      <td>1286</td>\n",
       "    </tr>\n",
       "    <tr>\n",
       "      <td>WiiU</td>\n",
       "      <td>147</td>\n",
       "      <td>147</td>\n",
       "      <td>147</td>\n",
       "      <td>147</td>\n",
       "      <td>147</td>\n",
       "      <td>147</td>\n",
       "      <td>147</td>\n",
       "      <td>147</td>\n",
       "      <td>147</td>\n",
       "      <td>100</td>\n",
       "      <td>105</td>\n",
       "      <td>147</td>\n",
       "    </tr>\n",
       "    <tr>\n",
       "      <td>X360</td>\n",
       "      <td>1232</td>\n",
       "      <td>1232</td>\n",
       "      <td>1232</td>\n",
       "      <td>1232</td>\n",
       "      <td>1232</td>\n",
       "      <td>1232</td>\n",
       "      <td>1232</td>\n",
       "      <td>1232</td>\n",
       "      <td>1232</td>\n",
       "      <td>945</td>\n",
       "      <td>1030</td>\n",
       "      <td>1232</td>\n",
       "    </tr>\n",
       "    <tr>\n",
       "      <td>XB</td>\n",
       "      <td>803</td>\n",
       "      <td>803</td>\n",
       "      <td>803</td>\n",
       "      <td>803</td>\n",
       "      <td>803</td>\n",
       "      <td>803</td>\n",
       "      <td>803</td>\n",
       "      <td>803</td>\n",
       "      <td>803</td>\n",
       "      <td>571</td>\n",
       "      <td>714</td>\n",
       "      <td>803</td>\n",
       "    </tr>\n",
       "    <tr>\n",
       "      <td>XOne</td>\n",
       "      <td>247</td>\n",
       "      <td>247</td>\n",
       "      <td>247</td>\n",
       "      <td>247</td>\n",
       "      <td>247</td>\n",
       "      <td>247</td>\n",
       "      <td>247</td>\n",
       "      <td>247</td>\n",
       "      <td>247</td>\n",
       "      <td>182</td>\n",
       "      <td>186</td>\n",
       "      <td>247</td>\n",
       "    </tr>\n",
       "  </tbody>\n",
       "</table>\n",
       "</div>"
      ],
      "text/plain": [
       "          name  platform  year_of_release  genre  na_sales  eu_sales  \\\n",
       "platform                                                               \n",
       "3DO       3     3         3                3      3         3          \n",
       "3DS       512   512       512              512    512       512        \n",
       "DC        52    52        52               52     52        52         \n",
       "DS        2120  2120      2120             2120   2120      2120       \n",
       "GB        83    83        83               83     83        83         \n",
       "GBA       811   811       811              811    811       811        \n",
       "GC        542   542       542              542    542       542        \n",
       "GEN       26    26        26               26     26        26         \n",
       "GG        1     1         1                1      1         1          \n",
       "N64       316   316       316              316    316       316        \n",
       "NES       15    15        15               15     15        15         \n",
       "NG        12    12        12               12     12        12         \n",
       "PC        955   955       955              955    955       955        \n",
       "PCFX      1     1         1                1      1         1          \n",
       "PS        1190  1190      1190             1190   1190      1190       \n",
       "PS2       2127  2127      2127             2127   2127      2127       \n",
       "PS3       1306  1306      1306             1306   1306      1306       \n",
       "PS4       392   392       392              392    392       392        \n",
       "PSP       1193  1193      1193             1193   1193      1193       \n",
       "PSV       429   429       429              429    429       429        \n",
       "SAT       173   173       173              173    173       173        \n",
       "SCD       6     6         6                6      6         6          \n",
       "SNES      235   235       235              235    235       235        \n",
       "TG16      2     2         2                2      2         2          \n",
       "WS        6     6         6                6      6         6          \n",
       "Wii       1286  1286      1286             1286   1286      1286       \n",
       "WiiU      147   147       147              147    147       147        \n",
       "X360      1232  1232      1232             1232   1232      1232       \n",
       "XB        803   803       803              803    803       803        \n",
       "XOne      247   247       247              247    247       247        \n",
       "\n",
       "          jp_sales  other_sales  critic_score  user_score  rating  total_sales  \n",
       "platform                                                                        \n",
       "3DO       3         3            3             0           0       3            \n",
       "3DS       512       512          512           171         223     512          \n",
       "DC        52        52           52            14          14      52           \n",
       "DS        2120      2120         2120          512         1255    2120         \n",
       "GB        83        83           83            0           0       83           \n",
       "GBA       811       811          811           251         514     811          \n",
       "GC        542       542          542           357         457     542          \n",
       "GEN       26        26           26            0           0       26           \n",
       "GG        1         1            1             0           0       1            \n",
       "N64       316       316          316           0           0       316          \n",
       "NES       15        15           15            0           0       15           \n",
       "NG        12        12           12            0           0       12           \n",
       "PC        955       955          955           753         755     955          \n",
       "PCFX      1         1            1             0           0       1            \n",
       "PS        1190      1190         1190          159         204     1190         \n",
       "PS2       2127      2127         2127          1220        1456    2127         \n",
       "PS3       1306      1306         1306          861         935     1306         \n",
       "PS4       392       392          392           257         255     392          \n",
       "PSP       1193      1193         1193          418         536     1193         \n",
       "PSV       429       429          429           142         150     429          \n",
       "SAT       173       173          173           0           0       173          \n",
       "SCD       6         6            6             0           0       6            \n",
       "SNES      235       235          235           0           0       235          \n",
       "TG16      2         2            2             0           0       2            \n",
       "WS        6         6            6             0           0       6            \n",
       "Wii       1286      1286         1286          548         977     1286         \n",
       "WiiU      147       147          147           100         105     147          \n",
       "X360      1232      1232         1232          945         1030    1232         \n",
       "XB        803       803          803           571         714     803          \n",
       "XOne      247       247          247           182         186     247          "
      ]
     },
     "execution_count": 17,
     "metadata": {},
     "output_type": "execute_result"
    }
   ],
   "source": [
    "# Showing platforms that are leading in sales\n",
    "data1.groupby(data['platform']).count()"
   ]
  },
  {
   "cell_type": "markdown",
   "metadata": {},
   "source": [
    "The platfoms leading in sales are: Xone, X360, Wii, PS3, PSV, PC and DC."
   ]
  },
  {
   "cell_type": "code",
   "execution_count": 19,
   "metadata": {},
   "outputs": [
    {
     "data": {
      "image/png": "[encoded data removed]",
      "text/plain": [
       "<Figure size 360x720 with 1 Axes>"
      ]
     },
     "metadata": {
      "needs_background": "light"
     },
     "output_type": "display_data"
    }
   ],
   "source": [
    "gp = ['XOne','X360','Wii','WiiU','PS3','PS4','PSV','PC','DC']\n",
    "data_platform_high = data1[data1['platform'].isin(gp)]\n",
    "plt.figure(figsize = (5,10))\n",
    "sns.boxplot(y=\"platform\", x='total_sales', data=data_platform_high);"
   ]
  },
  {
   "cell_type": "code",
   "execution_count": 20,
   "metadata": {
    "scrolled": true
   },
   "outputs": [
    {
     "data": {
      "text/html": [
       "<div>\n",
       "<style scoped>\n",
       "    .dataframe tbody tr th:only-of-type {\n",
       "        vertical-align: middle;\n",
       "    }\n",
       "\n",
       "    .dataframe tbody tr th {\n",
       "        vertical-align: top;\n",
       "    }\n",
       "\n",
       "    .dataframe thead th {\n",
       "        text-align: right;\n",
       "    }\n",
       "</style>\n",
       "<table border=\"1\" class=\"dataframe\">\n",
       "  <thead>\n",
       "    <tr style=\"text-align: right;\">\n",
       "      <th></th>\n",
       "      <th>count</th>\n",
       "      <th>mean</th>\n",
       "      <th>std</th>\n",
       "      <th>min</th>\n",
       "      <th>25%</th>\n",
       "      <th>50%</th>\n",
       "      <th>75%</th>\n",
       "      <th>max</th>\n",
       "    </tr>\n",
       "    <tr>\n",
       "      <th>platform</th>\n",
       "      <th></th>\n",
       "      <th></th>\n",
       "      <th></th>\n",
       "      <th></th>\n",
       "      <th></th>\n",
       "      <th></th>\n",
       "      <th></th>\n",
       "      <th></th>\n",
       "    </tr>\n",
       "  </thead>\n",
       "  <tbody>\n",
       "    <tr>\n",
       "      <td>DC</td>\n",
       "      <td>52.0</td>\n",
       "      <td>0.306731</td>\n",
       "      <td>0.468660</td>\n",
       "      <td>0.02</td>\n",
       "      <td>0.0775</td>\n",
       "      <td>0.135</td>\n",
       "      <td>0.2975</td>\n",
       "      <td>2.41</td>\n",
       "    </tr>\n",
       "    <tr>\n",
       "      <td>PC</td>\n",
       "      <td>955.0</td>\n",
       "      <td>0.267738</td>\n",
       "      <td>0.680374</td>\n",
       "      <td>0.01</td>\n",
       "      <td>0.0200</td>\n",
       "      <td>0.050</td>\n",
       "      <td>0.1700</td>\n",
       "      <td>8.01</td>\n",
       "    </tr>\n",
       "    <tr>\n",
       "      <td>PS3</td>\n",
       "      <td>1306.0</td>\n",
       "      <td>0.713124</td>\n",
       "      <td>1.403065</td>\n",
       "      <td>0.00</td>\n",
       "      <td>0.1100</td>\n",
       "      <td>0.280</td>\n",
       "      <td>0.7600</td>\n",
       "      <td>21.05</td>\n",
       "    </tr>\n",
       "    <tr>\n",
       "      <td>PS4</td>\n",
       "      <td>392.0</td>\n",
       "      <td>0.801378</td>\n",
       "      <td>1.609456</td>\n",
       "      <td>0.01</td>\n",
       "      <td>0.0600</td>\n",
       "      <td>0.200</td>\n",
       "      <td>0.7300</td>\n",
       "      <td>14.63</td>\n",
       "    </tr>\n",
       "    <tr>\n",
       "      <td>PSV</td>\n",
       "      <td>429.0</td>\n",
       "      <td>0.125431</td>\n",
       "      <td>0.212341</td>\n",
       "      <td>0.01</td>\n",
       "      <td>0.0200</td>\n",
       "      <td>0.050</td>\n",
       "      <td>0.1300</td>\n",
       "      <td>1.96</td>\n",
       "    </tr>\n",
       "    <tr>\n",
       "      <td>Wii</td>\n",
       "      <td>1286.0</td>\n",
       "      <td>0.692986</td>\n",
       "      <td>3.165022</td>\n",
       "      <td>0.01</td>\n",
       "      <td>0.0900</td>\n",
       "      <td>0.190</td>\n",
       "      <td>0.4875</td>\n",
       "      <td>82.54</td>\n",
       "    </tr>\n",
       "    <tr>\n",
       "      <td>WiiU</td>\n",
       "      <td>147.0</td>\n",
       "      <td>0.559116</td>\n",
       "      <td>1.058836</td>\n",
       "      <td>0.01</td>\n",
       "      <td>0.0800</td>\n",
       "      <td>0.220</td>\n",
       "      <td>0.5250</td>\n",
       "      <td>7.09</td>\n",
       "    </tr>\n",
       "    <tr>\n",
       "      <td>X360</td>\n",
       "      <td>1232.0</td>\n",
       "      <td>0.780227</td>\n",
       "      <td>1.632122</td>\n",
       "      <td>0.01</td>\n",
       "      <td>0.1100</td>\n",
       "      <td>0.280</td>\n",
       "      <td>0.7700</td>\n",
       "      <td>21.82</td>\n",
       "    </tr>\n",
       "    <tr>\n",
       "      <td>XOne</td>\n",
       "      <td>247.0</td>\n",
       "      <td>0.645020</td>\n",
       "      <td>1.036139</td>\n",
       "      <td>0.01</td>\n",
       "      <td>0.0600</td>\n",
       "      <td>0.220</td>\n",
       "      <td>0.6850</td>\n",
       "      <td>7.39</td>\n",
       "    </tr>\n",
       "  </tbody>\n",
       "</table>\n",
       "</div>"
      ],
      "text/plain": [
       "           count      mean       std   min     25%    50%     75%    max\n",
       "platform                                                                \n",
       "DC        52.0    0.306731  0.468660  0.02  0.0775  0.135  0.2975  2.41 \n",
       "PC        955.0   0.267738  0.680374  0.01  0.0200  0.050  0.1700  8.01 \n",
       "PS3       1306.0  0.713124  1.403065  0.00  0.1100  0.280  0.7600  21.05\n",
       "PS4       392.0   0.801378  1.609456  0.01  0.0600  0.200  0.7300  14.63\n",
       "PSV       429.0   0.125431  0.212341  0.01  0.0200  0.050  0.1300  1.96 \n",
       "Wii       1286.0  0.692986  3.165022  0.01  0.0900  0.190  0.4875  82.54\n",
       "WiiU      147.0   0.559116  1.058836  0.01  0.0800  0.220  0.5250  7.09 \n",
       "X360      1232.0  0.780227  1.632122  0.01  0.1100  0.280  0.7700  21.82\n",
       "XOne      247.0   0.645020  1.036139  0.01  0.0600  0.220  0.6850  7.39 "
      ]
     },
     "execution_count": 20,
     "metadata": {},
     "output_type": "execute_result"
    }
   ],
   "source": [
    "data_platform_high.groupby('platform')['total_sales'].describe()"
   ]
  },
  {
   "cell_type": "markdown",
   "metadata": {},
   "source": [
    "The average sales on the various platforms ranges from 50 million dollars to 280 million dollars."
   ]
  },
  {
   "cell_type": "code",
   "execution_count": 23,
   "metadata": {},
   "outputs": [
    {
     "data": {
      "text/plain": [
       "Text(0.5, 1.0, 'Does Critic Score affect Total Sales?')"
      ]
     },
     "execution_count": 23,
     "metadata": {},
     "output_type": "execute_result"
    },
    {
     "data": {
      "image/png": "[encoded data removed]",
      "text/plain": [
       "<Figure size 720x720 with 1 Axes>"
      ]
     },
     "metadata": {
      "needs_background": "light"
     },
     "output_type": "display_data"
    }
   ],
   "source": [
    "# Showing how critic score and professional reviews affect sales for PS2 \n",
    "plt.figure(figsize=(10,10))\n",
    "plt.plot(data_ps2['critic_score'], data_ps2['total_sales'], '.',alpha = 0.5)\n",
    "plt.xlabel('Critic Score')\n",
    "plt.ylabel('Total Sales')\n",
    "plt.title('Does Critic Score affect Total Sales?')"
   ]
  },
  {
   "cell_type": "markdown",
   "metadata": {},
   "source": [
    "High professional review score equals to an increase in sales because feedbacks gotten from professionals are appreciated by customers which in turn influences their decision to purchase the game."
   ]
  },
  {
   "cell_type": "code",
   "execution_count": 24,
   "metadata": {},
   "outputs": [
    {
     "data": {
      "text/plain": [
       "Text(0.5, 1.0, 'Does User Score affect Total Sales?')"
      ]
     },
     "execution_count": 24,
     "metadata": {},
     "output_type": "execute_result"
    },
    {
     "data": {
      "image/png": "[encoded data removed]",
      "text/plain": [
       "<Figure size 1440x720 with 1 Axes>"
      ]
     },
     "metadata": {
      "needs_background": "light"
     },
     "output_type": "display_data"
    }
   ],
   "source": [
    "# Showing how user score affects Total Sales\n",
    "data_ps2_user = data_ps2[data_ps2['user_score'].notnull()]\n",
    "plt.figure(figsize=(20,10))\n",
    "plt.plot(data_ps2_user['user_score'], data_ps2_user['total_sales'], '.', alpha = 0.5)\n",
    "plt.xlabel('User Score')\n",
    "plt.ylabel('Total Sales')\n",
    "plt.title('Does User Score affect Total Sales?')"
   ]
  },
  {
   "cell_type": "code",
   "execution_count": 26,
   "metadata": {
    "collapsed": true
   },
   "outputs": [
    {
     "data": {
      "image/png": "[encoded data removed]",
      "text/plain": [
       "<Figure size 576x432 with 2 Axes>"
      ]
     },
     "metadata": {
      "needs_background": "light"
     },
     "output_type": "display_data"
    }
   ],
   "source": [
    "# Showing the correlation between reviews and sales\n",
    "def corrMatrix(df, platform):\n",
    "    df_platform = df[df.platform == platform].reset_index()[['critic_score', 'user_score', 'total_sales']]\n",
    "    plt.figure(figsize=(8, 6))\n",
    "    corrMatrix = df_platform.corr()\n",
    "    sns.heatmap(corrMatrix, annot=True, cmap='coolwarm')\n",
    "    plt.title('Correlation Matrix Plot for' + str(platform) + 'platform')\n",
    "    plt.show();\n",
    "    \n",
    "# plot the correlation matrix\n",
    "corrMatrix(data1, 'PS2')"
   ]
  },
  {
   "cell_type": "code",
   "execution_count": 41,
   "metadata": {
    "scrolled": true
   },
   "outputs": [
    {
     "data": {
      "image/png": "[encoded data removed]",
      "text/plain": [
       "<Figure size 864x576 with 1 Axes>"
      ]
     },
     "metadata": {
      "needs_background": "light"
     },
     "output_type": "display_data"
    }
   ],
   "source": [
    "# Showing the top five genres of games\n",
    "plt.figure(figsize=(12, 8)) \n",
    "bar_pl = sns.countplot(x=\"genre\", data=data1, order = data1['genre'].value_counts().index, palette= 'bright') \n",
    "\n",
    "#Shows the angle at which the labels on the x-axis should be displayed\n",
    "plt.xticks(rotation=90) \n",
    "\n",
    "for p in bar_pl.patches:\n",
    "    bar_pl.annotate(str(p.get_height()), (p.get_x()+0.25, p.get_height()+1), va='bottom',color= 'black')\n",
    "    \n",
    "plt.title('Showing the genres of games')\n",
    "plt.xlabel('Genres')\n",
    "plt.ylabel('Number of games in each genre')\n",
    "\n",
    "plt.show()"
   ]
  },
  {
   "cell_type": "code",
   "execution_count": 33,
   "metadata": {
    "scrolled": true
   },
   "outputs": [
    {
     "data": {
      "image/png": "[encoded data removed]",
      "text/plain": [
       "<Figure size 864x576 with 1 Axes>"
      ]
     },
     "metadata": {
      "needs_background": "light"
     },
     "output_type": "display_data"
    }
   ],
   "source": [
    "# Showing genres and their corresponding sales\n",
    "plt.figure(figsize=(12, 8)) \n",
    "bar_pl = sns.barplot(x=\"genre\", y ='total_sales', data=data1.groupby(by=['genre'])['total_sales'].sum().reset_index().sort_values(by=['total_sales'], ascending=False), palette= 'bright') \n",
    "\n",
    "#Shows the angle at which the labels on the x-axis should be displayed\n",
    "plt.xticks(rotation=90) \n",
    "\n",
    "for p in bar_pl.patches:\n",
    "    bar_pl.annotate(int(p.get_height()), (p.get_x()+0.25, p.get_height()+1), va='bottom', color= 'black')\n",
    "    \n",
    "\n",
    "plt.title('Showing genres and their corresponding sales made in North America')\n",
    "plt.xlabel('Genres')\n",
    "plt.ylabel('Number of sales made in millions of units in Total')\n",
    "\n",
    "plt.show()"
   ]
  },
  {
   "cell_type": "code",
   "execution_count": 31,
   "metadata": {
    "scrolled": false
   },
   "outputs": [
    {
     "data": {
      "text/html": [
       "<div>\n",
       "<style scoped>\n",
       "    .dataframe tbody tr th:only-of-type {\n",
       "        vertical-align: middle;\n",
       "    }\n",
       "\n",
       "    .dataframe tbody tr th {\n",
       "        vertical-align: top;\n",
       "    }\n",
       "\n",
       "    .dataframe thead th {\n",
       "        text-align: right;\n",
       "    }\n",
       "</style>\n",
       "<table border=\"1\" class=\"dataframe\">\n",
       "  <thead>\n",
       "    <tr style=\"text-align: right;\">\n",
       "      <th></th>\n",
       "      <th>name</th>\n",
       "      <th>platform</th>\n",
       "      <th>year_of_release</th>\n",
       "      <th>genre</th>\n",
       "      <th>na_sales</th>\n",
       "      <th>eu_sales</th>\n",
       "      <th>jp_sales</th>\n",
       "      <th>other_sales</th>\n",
       "      <th>critic_score</th>\n",
       "      <th>user_score</th>\n",
       "      <th>rating</th>\n",
       "      <th>total_sales</th>\n",
       "    </tr>\n",
       "    <tr>\n",
       "      <th>genre</th>\n",
       "      <th></th>\n",
       "      <th></th>\n",
       "      <th></th>\n",
       "      <th></th>\n",
       "      <th></th>\n",
       "      <th></th>\n",
       "      <th></th>\n",
       "      <th></th>\n",
       "      <th></th>\n",
       "      <th></th>\n",
       "      <th></th>\n",
       "      <th></th>\n",
       "    </tr>\n",
       "  </thead>\n",
       "  <tbody>\n",
       "    <tr>\n",
       "      <td>Action</td>\n",
       "      <td>3238</td>\n",
       "      <td>3238</td>\n",
       "      <td>3238</td>\n",
       "      <td>3238</td>\n",
       "      <td>3238</td>\n",
       "      <td>3238</td>\n",
       "      <td>3238</td>\n",
       "      <td>3238</td>\n",
       "      <td>3238</td>\n",
       "      <td>1796</td>\n",
       "      <td>2146</td>\n",
       "      <td>3238</td>\n",
       "    </tr>\n",
       "    <tr>\n",
       "      <td>Adventure</td>\n",
       "      <td>1291</td>\n",
       "      <td>1291</td>\n",
       "      <td>1291</td>\n",
       "      <td>1291</td>\n",
       "      <td>1291</td>\n",
       "      <td>1291</td>\n",
       "      <td>1291</td>\n",
       "      <td>1291</td>\n",
       "      <td>1291</td>\n",
       "      <td>298</td>\n",
       "      <td>440</td>\n",
       "      <td>1291</td>\n",
       "    </tr>\n",
       "    <tr>\n",
       "      <td>Fighting</td>\n",
       "      <td>833</td>\n",
       "      <td>833</td>\n",
       "      <td>833</td>\n",
       "      <td>833</td>\n",
       "      <td>833</td>\n",
       "      <td>833</td>\n",
       "      <td>833</td>\n",
       "      <td>833</td>\n",
       "      <td>833</td>\n",
       "      <td>395</td>\n",
       "      <td>432</td>\n",
       "      <td>833</td>\n",
       "    </tr>\n",
       "    <tr>\n",
       "      <td>Misc</td>\n",
       "      <td>1713</td>\n",
       "      <td>1713</td>\n",
       "      <td>1713</td>\n",
       "      <td>1713</td>\n",
       "      <td>1713</td>\n",
       "      <td>1713</td>\n",
       "      <td>1713</td>\n",
       "      <td>1713</td>\n",
       "      <td>1713</td>\n",
       "      <td>429</td>\n",
       "      <td>862</td>\n",
       "      <td>1713</td>\n",
       "    </tr>\n",
       "    <tr>\n",
       "      <td>Platform</td>\n",
       "      <td>842</td>\n",
       "      <td>842</td>\n",
       "      <td>842</td>\n",
       "      <td>842</td>\n",
       "      <td>842</td>\n",
       "      <td>842</td>\n",
       "      <td>842</td>\n",
       "      <td>842</td>\n",
       "      <td>842</td>\n",
       "      <td>424</td>\n",
       "      <td>561</td>\n",
       "      <td>842</td>\n",
       "    </tr>\n",
       "    <tr>\n",
       "      <td>Puzzle</td>\n",
       "      <td>548</td>\n",
       "      <td>548</td>\n",
       "      <td>548</td>\n",
       "      <td>548</td>\n",
       "      <td>548</td>\n",
       "      <td>548</td>\n",
       "      <td>548</td>\n",
       "      <td>548</td>\n",
       "      <td>548</td>\n",
       "      <td>125</td>\n",
       "      <td>336</td>\n",
       "      <td>548</td>\n",
       "    </tr>\n",
       "    <tr>\n",
       "      <td>Racing</td>\n",
       "      <td>1216</td>\n",
       "      <td>1216</td>\n",
       "      <td>1216</td>\n",
       "      <td>1216</td>\n",
       "      <td>1216</td>\n",
       "      <td>1216</td>\n",
       "      <td>1216</td>\n",
       "      <td>1216</td>\n",
       "      <td>1216</td>\n",
       "      <td>629</td>\n",
       "      <td>856</td>\n",
       "      <td>1216</td>\n",
       "    </tr>\n",
       "    <tr>\n",
       "      <td>Role-Playing</td>\n",
       "      <td>1470</td>\n",
       "      <td>1470</td>\n",
       "      <td>1470</td>\n",
       "      <td>1470</td>\n",
       "      <td>1470</td>\n",
       "      <td>1470</td>\n",
       "      <td>1470</td>\n",
       "      <td>1470</td>\n",
       "      <td>1470</td>\n",
       "      <td>737</td>\n",
       "      <td>770</td>\n",
       "      <td>1470</td>\n",
       "    </tr>\n",
       "    <tr>\n",
       "      <td>Shooter</td>\n",
       "      <td>1266</td>\n",
       "      <td>1266</td>\n",
       "      <td>1266</td>\n",
       "      <td>1266</td>\n",
       "      <td>1266</td>\n",
       "      <td>1266</td>\n",
       "      <td>1266</td>\n",
       "      <td>1266</td>\n",
       "      <td>1266</td>\n",
       "      <td>905</td>\n",
       "      <td>996</td>\n",
       "      <td>1266</td>\n",
       "    </tr>\n",
       "    <tr>\n",
       "      <td>Simulation</td>\n",
       "      <td>853</td>\n",
       "      <td>853</td>\n",
       "      <td>853</td>\n",
       "      <td>853</td>\n",
       "      <td>853</td>\n",
       "      <td>853</td>\n",
       "      <td>853</td>\n",
       "      <td>853</td>\n",
       "      <td>853</td>\n",
       "      <td>337</td>\n",
       "      <td>557</td>\n",
       "      <td>853</td>\n",
       "    </tr>\n",
       "    <tr>\n",
       "      <td>Sports</td>\n",
       "      <td>2280</td>\n",
       "      <td>2280</td>\n",
       "      <td>2280</td>\n",
       "      <td>2280</td>\n",
       "      <td>2280</td>\n",
       "      <td>2280</td>\n",
       "      <td>2280</td>\n",
       "      <td>2280</td>\n",
       "      <td>2280</td>\n",
       "      <td>1081</td>\n",
       "      <td>1478</td>\n",
       "      <td>2280</td>\n",
       "    </tr>\n",
       "    <tr>\n",
       "      <td>Strategy</td>\n",
       "      <td>673</td>\n",
       "      <td>673</td>\n",
       "      <td>673</td>\n",
       "      <td>673</td>\n",
       "      <td>673</td>\n",
       "      <td>673</td>\n",
       "      <td>673</td>\n",
       "      <td>673</td>\n",
       "      <td>673</td>\n",
       "      <td>305</td>\n",
       "      <td>332</td>\n",
       "      <td>673</td>\n",
       "    </tr>\n",
       "  </tbody>\n",
       "</table>\n",
       "</div>"
      ],
      "text/plain": [
       "              name  platform  year_of_release  genre  na_sales  eu_sales  \\\n",
       "genre                                                                      \n",
       "Action        3238  3238      3238             3238   3238      3238       \n",
       "Adventure     1291  1291      1291             1291   1291      1291       \n",
       "Fighting      833   833       833              833    833       833        \n",
       "Misc          1713  1713      1713             1713   1713      1713       \n",
       "Platform      842   842       842              842    842       842        \n",
       "Puzzle        548   548       548              548    548       548        \n",
       "Racing        1216  1216      1216             1216   1216      1216       \n",
       "Role-Playing  1470  1470      1470             1470   1470      1470       \n",
       "Shooter       1266  1266      1266             1266   1266      1266       \n",
       "Simulation    853   853       853              853    853       853        \n",
       "Sports        2280  2280      2280             2280   2280      2280       \n",
       "Strategy      673   673       673              673    673       673        \n",
       "\n",
       "              jp_sales  other_sales  critic_score  user_score  rating  \\\n",
       "genre                                                                   \n",
       "Action        3238      3238         3238          1796        2146     \n",
       "Adventure     1291      1291         1291          298         440      \n",
       "Fighting      833       833          833           395         432      \n",
       "Misc          1713      1713         1713          429         862      \n",
       "Platform      842       842          842           424         561      \n",
       "Puzzle        548       548          548           125         336      \n",
       "Racing        1216      1216         1216          629         856      \n",
       "Role-Playing  1470      1470         1470          737         770      \n",
       "Shooter       1266      1266         1266          905         996      \n",
       "Simulation    853       853          853           337         557      \n",
       "Sports        2280      2280         2280          1081        1478     \n",
       "Strategy      673       673          673           305         332      \n",
       "\n",
       "              total_sales  \n",
       "genre                      \n",
       "Action        3238         \n",
       "Adventure     1291         \n",
       "Fighting      833          \n",
       "Misc          1713         \n",
       "Platform      842          \n",
       "Puzzle        548          \n",
       "Racing        1216         \n",
       "Role-Playing  1470         \n",
       "Shooter       1266         \n",
       "Simulation    853          \n",
       "Sports        2280         \n",
       "Strategy      673          "
      ]
     },
     "execution_count": 31,
     "metadata": {},
     "output_type": "execute_result"
    }
   ],
   "source": [
    "#Showing the genre of the most made games in descending order with the most frequent games released \n",
    "data1['genre'].value_counts()\n",
    "data1.groupby(data['genre']).count()"
   ]
  },
  {
   "cell_type": "markdown",
   "metadata": {},
   "source": [
    "#### CREATE A USER PROFILE FOR EACH REGION"
   ]
  },
  {
   "cell_type": "markdown",
   "metadata": {},
   "source": [
    "##### SHOWING TOP FIVE PLATFORMS AND THEIR CORRESPONDING SALES FROM REGION TO REGION"
   ]
  },
  {
   "cell_type": "code",
   "execution_count": 38,
   "metadata": {
    "scrolled": true
   },
   "outputs": [
    {
     "data": {
      "text/html": [
       "<div>\n",
       "<style scoped>\n",
       "    .dataframe tbody tr th:only-of-type {\n",
       "        vertical-align: middle;\n",
       "    }\n",
       "\n",
       "    .dataframe tbody tr th {\n",
       "        vertical-align: top;\n",
       "    }\n",
       "\n",
       "    .dataframe thead th {\n",
       "        text-align: right;\n",
       "    }\n",
       "</style>\n",
       "<table border=\"1\" class=\"dataframe\">\n",
       "  <thead>\n",
       "    <tr style=\"text-align: right;\">\n",
       "      <th></th>\n",
       "      <th>platform</th>\n",
       "      <th>na_sales</th>\n",
       "    </tr>\n",
       "  </thead>\n",
       "  <tbody>\n",
       "    <tr>\n",
       "      <td>27</td>\n",
       "      <td>X360</td>\n",
       "      <td>595.74</td>\n",
       "    </tr>\n",
       "    <tr>\n",
       "      <td>15</td>\n",
       "      <td>PS2</td>\n",
       "      <td>572.92</td>\n",
       "    </tr>\n",
       "    <tr>\n",
       "      <td>25</td>\n",
       "      <td>Wii</td>\n",
       "      <td>486.87</td>\n",
       "    </tr>\n",
       "    <tr>\n",
       "      <td>16</td>\n",
       "      <td>PS3</td>\n",
       "      <td>390.13</td>\n",
       "    </tr>\n",
       "    <tr>\n",
       "      <td>3</td>\n",
       "      <td>DS</td>\n",
       "      <td>380.31</td>\n",
       "    </tr>\n",
       "  </tbody>\n",
       "</table>\n",
       "</div>"
      ],
      "text/plain": [
       "   platform  na_sales\n",
       "27  X360     595.74  \n",
       "15  PS2      572.92  \n",
       "25  Wii      486.87  \n",
       "16  PS3      390.13  \n",
       "3   DS       380.31  "
      ]
     },
     "execution_count": 38,
     "metadata": {},
     "output_type": "execute_result"
    }
   ],
   "source": [
    "# Showing top five platforms and their corresponding sales in North America\n",
    "data1.groupby(by=['platform'])['na_sales'].sum().reset_index().sort_values(by=['na_sales'], ascending=False).head()"
   ]
  },
  {
   "cell_type": "code",
   "execution_count": 54,
   "metadata": {
    "scrolled": true
   },
   "outputs": [
    {
     "data": {
      "image/png": "[encoded data removed]",
      "text/plain": [
       "<Figure size 864x576 with 1 Axes>"
      ]
     },
     "metadata": {
      "needs_background": "light"
     },
     "output_type": "display_data"
    }
   ],
   "source": [
    "plt.figure(figsize=(12, 8)) \n",
    "bar_pl = sns.barplot(x=\"platform\", y ='na_sales', data=data1.groupby(by=['platform'])['na_sales'].sum().reset_index().sort_values(by=['na_sales'], ascending=False).head(), palette= 'bright') \n",
    "\n",
    "#Shows the angle at which the labels on the x-axis should be displayed\n",
    "plt.xticks(rotation=90) \n",
    "\n",
    "for p in bar_pl.patches:\n",
    "    bar_pl.annotate(int(p.get_height()), (p.get_x()+0.25, p.get_height()+1), va='bottom', color= 'black')\n",
    "    \n",
    "\n",
    "plt.title('The top 5 platforms and their corresponding sales made in North America')\n",
    "plt.xlabel('Platforms')\n",
    "plt.ylabel('Number of sales made in millions of units in North American')\n",
    "\n",
    "plt.show()"
   ]
  },
  {
   "cell_type": "code",
   "execution_count": 42,
   "metadata": {
    "scrolled": true
   },
   "outputs": [
    {
     "data": {
      "text/html": [
       "<div>\n",
       "<style scoped>\n",
       "    .dataframe tbody tr th:only-of-type {\n",
       "        vertical-align: middle;\n",
       "    }\n",
       "\n",
       "    .dataframe tbody tr th {\n",
       "        vertical-align: top;\n",
       "    }\n",
       "\n",
       "    .dataframe thead th {\n",
       "        text-align: right;\n",
       "    }\n",
       "</style>\n",
       "<table border=\"1\" class=\"dataframe\">\n",
       "  <thead>\n",
       "    <tr style=\"text-align: right;\">\n",
       "      <th></th>\n",
       "      <th>platform</th>\n",
       "      <th>eu_sales</th>\n",
       "    </tr>\n",
       "  </thead>\n",
       "  <tbody>\n",
       "    <tr>\n",
       "      <td>15</td>\n",
       "      <td>PS2</td>\n",
       "      <td>332.63</td>\n",
       "    </tr>\n",
       "    <tr>\n",
       "      <td>16</td>\n",
       "      <td>PS3</td>\n",
       "      <td>327.21</td>\n",
       "    </tr>\n",
       "    <tr>\n",
       "      <td>27</td>\n",
       "      <td>X360</td>\n",
       "      <td>268.32</td>\n",
       "    </tr>\n",
       "    <tr>\n",
       "      <td>25</td>\n",
       "      <td>Wii</td>\n",
       "      <td>258.32</td>\n",
       "    </tr>\n",
       "    <tr>\n",
       "      <td>14</td>\n",
       "      <td>PS</td>\n",
       "      <td>212.39</td>\n",
       "    </tr>\n",
       "  </tbody>\n",
       "</table>\n",
       "</div>"
      ],
      "text/plain": [
       "   platform  eu_sales\n",
       "15  PS2      332.63  \n",
       "16  PS3      327.21  \n",
       "27  X360     268.32  \n",
       "25  Wii      258.32  \n",
       "14  PS       212.39  "
      ]
     },
     "execution_count": 42,
     "metadata": {},
     "output_type": "execute_result"
    }
   ],
   "source": [
    "# Showing top five platforms and their corresponding sales in Europe\n",
    "data1.groupby(by=['platform'])['eu_sales'].sum().reset_index().sort_values(by=['eu_sales'], ascending=False).head()"
   ]
  },
  {
   "cell_type": "code",
   "execution_count": 55,
   "metadata": {
    "scrolled": true
   },
   "outputs": [
    {
     "data": {
      "image/png": "[encoded data removed]",
      "text/plain": [
       "<Figure size 864x576 with 1 Axes>"
      ]
     },
     "metadata": {
      "needs_background": "light"
     },
     "output_type": "display_data"
    }
   ],
   "source": [
    "plt.figure(figsize=(12, 8)) \n",
    "bar_pl = sns.barplot(x=\"platform\", y ='eu_sales', data=data1.groupby(by=['platform'])['eu_sales'].sum().reset_index().sort_values(by=['eu_sales'], ascending=False).head(), palette= 'bright') \n",
    "\n",
    "#Shows the angle at which the labels on the x-axis should be displayed\n",
    "plt.xticks(rotation=90) \n",
    "\n",
    "for p in bar_pl.patches:\n",
    "    bar_pl.annotate(int(p.get_height()), (p.get_x()+0.25, p.get_height()+1), va='bottom', color= 'black')\n",
    "    \n",
    "\n",
    "plt.title('The top 5 platforms and their corresponding sales made in Europe')\n",
    "plt.xlabel('Platforms')\n",
    "plt.ylabel('Number of sales made in millions of units in Europe')\n",
    "\n",
    "plt.show()"
   ]
  },
  {
   "cell_type": "code",
   "execution_count": 44,
   "metadata": {},
   "outputs": [
    {
     "data": {
      "text/html": [
       "<div>\n",
       "<style scoped>\n",
       "    .dataframe tbody tr th:only-of-type {\n",
       "        vertical-align: middle;\n",
       "    }\n",
       "\n",
       "    .dataframe tbody tr th {\n",
       "        vertical-align: top;\n",
       "    }\n",
       "\n",
       "    .dataframe thead th {\n",
       "        text-align: right;\n",
       "    }\n",
       "</style>\n",
       "<table border=\"1\" class=\"dataframe\">\n",
       "  <thead>\n",
       "    <tr style=\"text-align: right;\">\n",
       "      <th></th>\n",
       "      <th>platform</th>\n",
       "      <th>jp_sales</th>\n",
       "    </tr>\n",
       "  </thead>\n",
       "  <tbody>\n",
       "    <tr>\n",
       "      <td>3</td>\n",
       "      <td>DS</td>\n",
       "      <td>175.00</td>\n",
       "    </tr>\n",
       "    <tr>\n",
       "      <td>14</td>\n",
       "      <td>PS</td>\n",
       "      <td>139.78</td>\n",
       "    </tr>\n",
       "    <tr>\n",
       "      <td>15</td>\n",
       "      <td>PS2</td>\n",
       "      <td>137.54</td>\n",
       "    </tr>\n",
       "    <tr>\n",
       "      <td>22</td>\n",
       "      <td>SNES</td>\n",
       "      <td>110.95</td>\n",
       "    </tr>\n",
       "    <tr>\n",
       "      <td>1</td>\n",
       "      <td>3DS</td>\n",
       "      <td>100.62</td>\n",
       "    </tr>\n",
       "  </tbody>\n",
       "</table>\n",
       "</div>"
      ],
      "text/plain": [
       "   platform  jp_sales\n",
       "3   DS       175.00  \n",
       "14  PS       139.78  \n",
       "15  PS2      137.54  \n",
       "22  SNES     110.95  \n",
       "1   3DS      100.62  "
      ]
     },
     "execution_count": 44,
     "metadata": {},
     "output_type": "execute_result"
    }
   ],
   "source": [
    "# Showing top five platforms and their corresponding sales in Japan\n",
    "data1.groupby(by=['platform'])['jp_sales'].sum().reset_index().sort_values(by=['jp_sales'], ascending=False).head()"
   ]
  },
  {
   "cell_type": "code",
   "execution_count": 56,
   "metadata": {
    "scrolled": true
   },
   "outputs": [
    {
     "data": {
      "image/png": "[encoded data removed]",
      "text/plain": [
       "<Figure size 864x576 with 1 Axes>"
      ]
     },
     "metadata": {
      "needs_background": "light"
     },
     "output_type": "display_data"
    }
   ],
   "source": [
    "plt.figure(figsize=(12, 8)) \n",
    "bar_pl = sns.barplot(x=\"platform\", y ='jp_sales', data=data1.groupby(by=['platform'])['jp_sales'].sum().reset_index().sort_values(by=['jp_sales'], ascending=False).head(), palette= 'bright') \n",
    "\n",
    "#Shows the angle at which the labels on the x-axis should be displayed\n",
    "plt.xticks(rotation=90) \n",
    "\n",
    "for p in bar_pl.patches:\n",
    "    bar_pl.annotate(int(p.get_height()), (p.get_x()+0.25, p.get_height()+1), va='bottom', color= 'black')\n",
    "    \n",
    "\n",
    "plt.title('The top 5 platforms and their corresponding sales made in Japan')\n",
    "plt.xlabel('Platforms')\n",
    "plt.ylabel('Number of sales made in millions of units in Japan')\n",
    "\n",
    "plt.show()"
   ]
  },
  {
   "cell_type": "code",
   "execution_count": 46,
   "metadata": {
    "scrolled": true
   },
   "outputs": [
    {
     "data": {
      "text/html": [
       "<div>\n",
       "<style scoped>\n",
       "    .dataframe tbody tr th:only-of-type {\n",
       "        vertical-align: middle;\n",
       "    }\n",
       "\n",
       "    .dataframe tbody tr th {\n",
       "        vertical-align: top;\n",
       "    }\n",
       "\n",
       "    .dataframe thead th {\n",
       "        text-align: right;\n",
       "    }\n",
       "</style>\n",
       "<table border=\"1\" class=\"dataframe\">\n",
       "  <thead>\n",
       "    <tr style=\"text-align: right;\">\n",
       "      <th></th>\n",
       "      <th>platform</th>\n",
       "      <th>other_sales</th>\n",
       "    </tr>\n",
       "  </thead>\n",
       "  <tbody>\n",
       "    <tr>\n",
       "      <td>15</td>\n",
       "      <td>PS2</td>\n",
       "      <td>190.47</td>\n",
       "    </tr>\n",
       "    <tr>\n",
       "      <td>16</td>\n",
       "      <td>PS3</td>\n",
       "      <td>134.59</td>\n",
       "    </tr>\n",
       "    <tr>\n",
       "      <td>27</td>\n",
       "      <td>X360</td>\n",
       "      <td>84.88</td>\n",
       "    </tr>\n",
       "    <tr>\n",
       "      <td>25</td>\n",
       "      <td>Wii</td>\n",
       "      <td>77.71</td>\n",
       "    </tr>\n",
       "    <tr>\n",
       "      <td>3</td>\n",
       "      <td>DS</td>\n",
       "      <td>59.04</td>\n",
       "    </tr>\n",
       "  </tbody>\n",
       "</table>\n",
       "</div>"
      ],
      "text/plain": [
       "   platform  other_sales\n",
       "15  PS2      190.47     \n",
       "16  PS3      134.59     \n",
       "27  X360     84.88      \n",
       "25  Wii      77.71      \n",
       "3   DS       59.04      "
      ]
     },
     "execution_count": 46,
     "metadata": {},
     "output_type": "execute_result"
    }
   ],
   "source": [
    "# Showing top five platforms and their corresponding sales in Other Countries\n",
    "data1.groupby(by=['platform'])['other_sales'].sum().reset_index().sort_values(by=['other_sales'], ascending=False).head()"
   ]
  },
  {
   "cell_type": "code",
   "execution_count": 57,
   "metadata": {
    "scrolled": true
   },
   "outputs": [
    {
     "data": {
      "image/png": "[encoded data removed]",
      "text/plain": [
       "<Figure size 864x576 with 1 Axes>"
      ]
     },
     "metadata": {
      "needs_background": "light"
     },
     "output_type": "display_data"
    }
   ],
   "source": [
    "plt.figure(figsize=(12, 8)) \n",
    "bar_pl = sns.barplot(x=\"platform\", y ='other_sales', data=data1.groupby(by=['platform'])['other_sales'].sum().reset_index().sort_values(by=['other_sales'], ascending=False).head(), palette= 'bright') \n",
    "\n",
    "#Shows the angle at which the labels on the x-axis should be displayed\n",
    "plt.xticks(rotation=90) \n",
    "\n",
    "for p in bar_pl.patches:\n",
    "    bar_pl.annotate(int(p.get_height()), (p.get_x()+0.25, p.get_height()+1), va='bottom', color= 'black')\n",
    "    \n",
    "\n",
    "plt.title('The top 5 platforms and their corresponding sales made in Other Countries')\n",
    "plt.xlabel('Platforms')\n",
    "plt.ylabel('Number of sales made in millions of units in Other Countries')\n",
    "\n",
    "plt.show()"
   ]
  },
  {
   "cell_type": "markdown",
   "metadata": {},
   "source": [
    "##### SHOWING TOP FIVE GENRES AND THEIR CORRESPONDING SALES FROM REGION TO REGION"
   ]
  },
  {
   "cell_type": "code",
   "execution_count": 49,
   "metadata": {
    "scrolled": true
   },
   "outputs": [
    {
     "data": {
      "text/html": [
       "<div>\n",
       "<style scoped>\n",
       "    .dataframe tbody tr th:only-of-type {\n",
       "        vertical-align: middle;\n",
       "    }\n",
       "\n",
       "    .dataframe tbody tr th {\n",
       "        vertical-align: top;\n",
       "    }\n",
       "\n",
       "    .dataframe thead th {\n",
       "        text-align: right;\n",
       "    }\n",
       "</style>\n",
       "<table border=\"1\" class=\"dataframe\">\n",
       "  <thead>\n",
       "    <tr style=\"text-align: right;\">\n",
       "      <th></th>\n",
       "      <th>genre</th>\n",
       "      <th>na_sales</th>\n",
       "    </tr>\n",
       "  </thead>\n",
       "  <tbody>\n",
       "    <tr>\n",
       "      <td>0</td>\n",
       "      <td>Action</td>\n",
       "      <td>821.00</td>\n",
       "    </tr>\n",
       "    <tr>\n",
       "      <td>10</td>\n",
       "      <td>Sports</td>\n",
       "      <td>659.77</td>\n",
       "    </tr>\n",
       "    <tr>\n",
       "      <td>8</td>\n",
       "      <td>Shooter</td>\n",
       "      <td>533.99</td>\n",
       "    </tr>\n",
       "    <tr>\n",
       "      <td>3</td>\n",
       "      <td>Misc</td>\n",
       "      <td>396.22</td>\n",
       "    </tr>\n",
       "    <tr>\n",
       "      <td>4</td>\n",
       "      <td>Platform</td>\n",
       "      <td>355.96</td>\n",
       "    </tr>\n",
       "  </tbody>\n",
       "</table>\n",
       "</div>"
      ],
      "text/plain": [
       "       genre  na_sales\n",
       "0   Action    821.00  \n",
       "10  Sports    659.77  \n",
       "8   Shooter   533.99  \n",
       "3   Misc      396.22  \n",
       "4   Platform  355.96  "
      ]
     },
     "execution_count": 49,
     "metadata": {},
     "output_type": "execute_result"
    }
   ],
   "source": [
    "# Showing top five genres and their corresponding sales in North America\n",
    "data1.groupby(by=['genre'])['na_sales'].sum().reset_index().sort_values(by=['na_sales'], ascending=False).head()"
   ]
  },
  {
   "cell_type": "code",
   "execution_count": 58,
   "metadata": {
    "scrolled": true
   },
   "outputs": [
    {
     "data": {
      "image/png": "[encoded data removed]",
      "text/plain": [
       "<Figure size 864x576 with 1 Axes>"
      ]
     },
     "metadata": {
      "needs_background": "light"
     },
     "output_type": "display_data"
    }
   ],
   "source": [
    "plt.figure(figsize=(12, 8)) \n",
    "bar_pl = sns.barplot(x=\"genre\", y ='na_sales', data=data1.groupby(by=['genre'])['na_sales'].sum().reset_index().sort_values(by=['na_sales'], ascending=False).head(), palette= 'bright') \n",
    "\n",
    "#Shows the angle at which the labels on the x-axis should be displayed\n",
    "plt.xticks(rotation=90) \n",
    "\n",
    "for p in bar_pl.patches:\n",
    "    bar_pl.annotate(int(p.get_height()), (p.get_x()+0.25, p.get_height()+1), va='bottom', color= 'black')\n",
    "    \n",
    "\n",
    "plt.title('The top five genres and their corresponding sales made in North America')\n",
    "plt.xlabel('Genres')\n",
    "plt.ylabel('Number of sales made in millions of units in North America')\n",
    "\n",
    "plt.show()"
   ]
  },
  {
   "cell_type": "code",
   "execution_count": 59,
   "metadata": {
    "scrolled": true
   },
   "outputs": [
    {
     "data": {
      "text/html": [
       "<div>\n",
       "<style scoped>\n",
       "    .dataframe tbody tr th:only-of-type {\n",
       "        vertical-align: middle;\n",
       "    }\n",
       "\n",
       "    .dataframe tbody tr th {\n",
       "        vertical-align: top;\n",
       "    }\n",
       "\n",
       "    .dataframe thead th {\n",
       "        text-align: right;\n",
       "    }\n",
       "</style>\n",
       "<table border=\"1\" class=\"dataframe\">\n",
       "  <thead>\n",
       "    <tr style=\"text-align: right;\">\n",
       "      <th></th>\n",
       "      <th>genre</th>\n",
       "      <th>eu_sales</th>\n",
       "    </tr>\n",
       "  </thead>\n",
       "  <tbody>\n",
       "    <tr>\n",
       "      <td>0</td>\n",
       "      <td>Action</td>\n",
       "      <td>505.73</td>\n",
       "    </tr>\n",
       "    <tr>\n",
       "      <td>10</td>\n",
       "      <td>Sports</td>\n",
       "      <td>368.26</td>\n",
       "    </tr>\n",
       "    <tr>\n",
       "      <td>8</td>\n",
       "      <td>Shooter</td>\n",
       "      <td>311.69</td>\n",
       "    </tr>\n",
       "    <tr>\n",
       "      <td>6</td>\n",
       "      <td>Racing</td>\n",
       "      <td>231.93</td>\n",
       "    </tr>\n",
       "    <tr>\n",
       "      <td>3</td>\n",
       "      <td>Misc</td>\n",
       "      <td>210.40</td>\n",
       "    </tr>\n",
       "  </tbody>\n",
       "</table>\n",
       "</div>"
      ],
      "text/plain": [
       "      genre  eu_sales\n",
       "0   Action   505.73  \n",
       "10  Sports   368.26  \n",
       "8   Shooter  311.69  \n",
       "6   Racing   231.93  \n",
       "3   Misc     210.40  "
      ]
     },
     "execution_count": 59,
     "metadata": {},
     "output_type": "execute_result"
    }
   ],
   "source": [
    "# Showing top five genres and their corresponding sales in Europe\n",
    "data1.groupby(by=['genre'])['eu_sales'].sum().reset_index().sort_values(by=['eu_sales'], ascending=False).head()"
   ]
  },
  {
   "cell_type": "code",
   "execution_count": 60,
   "metadata": {
    "scrolled": true
   },
   "outputs": [
    {
     "data": {
      "image/png": "[encoded data removed]",
      "text/plain": [
       "<Figure size 864x576 with 1 Axes>"
      ]
     },
     "metadata": {
      "needs_background": "light"
     },
     "output_type": "display_data"
    }
   ],
   "source": [
    "plt.figure(figsize=(12, 8)) \n",
    "bar_pl = sns.barplot(x=\"genre\", y ='eu_sales', data=data1.groupby(by=['genre'])['eu_sales'].sum().reset_index().sort_values(by=['eu_sales'], ascending=False).head(), palette= 'bright') \n",
    "\n",
    "#Shows the angle at which the labels on the x-axis should be displayed\n",
    "plt.xticks(rotation=90) \n",
    "\n",
    "for p in bar_pl.patches:\n",
    "    bar_pl.annotate(int(p.get_height()), (p.get_x()+0.25, p.get_height()+1), va='bottom', color= 'black')\n",
    "    \n",
    "\n",
    "plt.title('Top 5 genres and their corresponding sales made in Europe')\n",
    "plt.xlabel('Genres')\n",
    "plt.ylabel('Number of sales made in millions of units in Europe')\n",
    "\n",
    "plt.show()"
   ]
  },
  {
   "cell_type": "code",
   "execution_count": 61,
   "metadata": {
    "scrolled": true
   },
   "outputs": [
    {
     "data": {
      "text/html": [
       "<div>\n",
       "<style scoped>\n",
       "    .dataframe tbody tr th:only-of-type {\n",
       "        vertical-align: middle;\n",
       "    }\n",
       "\n",
       "    .dataframe tbody tr th {\n",
       "        vertical-align: top;\n",
       "    }\n",
       "\n",
       "    .dataframe thead th {\n",
       "        text-align: right;\n",
       "    }\n",
       "</style>\n",
       "<table border=\"1\" class=\"dataframe\">\n",
       "  <thead>\n",
       "    <tr style=\"text-align: right;\">\n",
       "      <th></th>\n",
       "      <th>genre</th>\n",
       "      <th>jp_sales</th>\n",
       "    </tr>\n",
       "  </thead>\n",
       "  <tbody>\n",
       "    <tr>\n",
       "      <td>7</td>\n",
       "      <td>Role-Playing</td>\n",
       "      <td>336.29</td>\n",
       "    </tr>\n",
       "    <tr>\n",
       "      <td>0</td>\n",
       "      <td>Action</td>\n",
       "      <td>150.82</td>\n",
       "    </tr>\n",
       "    <tr>\n",
       "      <td>10</td>\n",
       "      <td>Sports</td>\n",
       "      <td>115.45</td>\n",
       "    </tr>\n",
       "    <tr>\n",
       "      <td>3</td>\n",
       "      <td>Misc</td>\n",
       "      <td>102.16</td>\n",
       "    </tr>\n",
       "    <tr>\n",
       "      <td>4</td>\n",
       "      <td>Platform</td>\n",
       "      <td>93.98</td>\n",
       "    </tr>\n",
       "  </tbody>\n",
       "</table>\n",
       "</div>"
      ],
      "text/plain": [
       "           genre  jp_sales\n",
       "7   Role-Playing  336.29  \n",
       "0   Action        150.82  \n",
       "10  Sports        115.45  \n",
       "3   Misc          102.16  \n",
       "4   Platform      93.98   "
      ]
     },
     "execution_count": 61,
     "metadata": {},
     "output_type": "execute_result"
    }
   ],
   "source": [
    "# Showing top five genres and their corresponding sales in Japan\n",
    "data1.groupby(by=['genre'])['jp_sales'].sum().reset_index().sort_values(by=['jp_sales'], ascending=False).head()"
   ]
  },
  {
   "cell_type": "code",
   "execution_count": 63,
   "metadata": {
    "scrolled": false
   },
   "outputs": [
    {
     "data": {
      "image/png": "[encoded data removed]",
      "text/plain": [
       "<Figure size 864x576 with 1 Axes>"
      ]
     },
     "metadata": {
      "needs_background": "light"
     },
     "output_type": "display_data"
    }
   ],
   "source": [
    "plt.figure(figsize=(12, 8)) \n",
    "bar_pl = sns.barplot(x=\"genre\", y ='jp_sales', data=data1.groupby(by=['genre'])['jp_sales'].sum().reset_index().sort_values(by=['jp_sales'], ascending=False).head(), palette= 'bright') \n",
    "\n",
    "#Shows the angle at which the labels on the x-axis should be displayed\n",
    "plt.xticks(rotation=90) \n",
    "\n",
    "for p in bar_pl.patches:\n",
    "    bar_pl.annotate(int(p.get_height()), (p.get_x()+0.25, p.get_height()+1), va='bottom', color= 'black')\n",
    "    \n",
    "\n",
    "plt.title('The top 5 genres and their corresponding sales made in Japan')\n",
    "plt.xlabel('Genres')\n",
    "plt.ylabel('Number of sales made in millions of units in Japan')\n",
    "\n",
    "plt.show()"
   ]
  },
  {
   "cell_type": "code",
   "execution_count": 68,
   "metadata": {},
   "outputs": [
    {
     "data": {
      "text/html": [
       "<div>\n",
       "<style scoped>\n",
       "    .dataframe tbody tr th:only-of-type {\n",
       "        vertical-align: middle;\n",
       "    }\n",
       "\n",
       "    .dataframe tbody tr th {\n",
       "        vertical-align: top;\n",
       "    }\n",
       "\n",
       "    .dataframe thead th {\n",
       "        text-align: right;\n",
       "    }\n",
       "</style>\n",
       "<table border=\"1\" class=\"dataframe\">\n",
       "  <thead>\n",
       "    <tr style=\"text-align: right;\">\n",
       "      <th></th>\n",
       "      <th>genre</th>\n",
       "      <th>other_sales</th>\n",
       "    </tr>\n",
       "  </thead>\n",
       "  <tbody>\n",
       "    <tr>\n",
       "      <td>0</td>\n",
       "      <td>Action</td>\n",
       "      <td>181.48</td>\n",
       "    </tr>\n",
       "    <tr>\n",
       "      <td>10</td>\n",
       "      <td>Sports</td>\n",
       "      <td>131.80</td>\n",
       "    </tr>\n",
       "    <tr>\n",
       "      <td>8</td>\n",
       "      <td>Shooter</td>\n",
       "      <td>102.53</td>\n",
       "    </tr>\n",
       "    <tr>\n",
       "      <td>6</td>\n",
       "      <td>Racing</td>\n",
       "      <td>74.81</td>\n",
       "    </tr>\n",
       "    <tr>\n",
       "      <td>3</td>\n",
       "      <td>Misc</td>\n",
       "      <td>73.07</td>\n",
       "    </tr>\n",
       "  </tbody>\n",
       "</table>\n",
       "</div>"
      ],
      "text/plain": [
       "      genre  other_sales\n",
       "0   Action   181.48     \n",
       "10  Sports   131.80     \n",
       "8   Shooter  102.53     \n",
       "6   Racing   74.81      \n",
       "3   Misc     73.07      "
      ]
     },
     "execution_count": 68,
     "metadata": {},
     "output_type": "execute_result"
    }
   ],
   "source": [
    "# Showing top five genres and their corresponding sales in Other Countries\n",
    "data1.groupby(by=['genre'])['other_sales'].sum().reset_index().sort_values(by=['other_sales'], ascending=False).head()"
   ]
  },
  {
   "cell_type": "code",
   "execution_count": 69,
   "metadata": {},
   "outputs": [
    {
     "data": {
      "image/png": "[encoded data removed]",
      "text/plain": [
       "<Figure size 864x576 with 1 Axes>"
      ]
     },
     "metadata": {
      "needs_background": "light"
     },
     "output_type": "display_data"
    }
   ],
   "source": [
    "plt.figure(figsize=(12, 8)) \n",
    "bar_pl = sns.barplot(x=\"genre\", y ='other_sales', data=data1.groupby(by=['genre'])['other_sales'].sum().reset_index().sort_values(by=['other_sales'], ascending=False).head(), palette= 'bright') \n",
    "\n",
    "#Shows the angle at which the labels on the x-axis should be displayed\n",
    "plt.xticks(rotation=90) \n",
    "\n",
    "for p in bar_pl.patches:\n",
    "    bar_pl.annotate(int(p.get_height()), (p.get_x()+0.25, p.get_height()+1), va='bottom', color= 'black')\n",
    "    \n",
    "\n",
    "plt.title('The top 5 genres and their corresponding sales made in Other Countries')\n",
    "plt.xlabel('Genres')\n",
    "plt.ylabel('Number of sales made in millions of units in Other Countries')\n",
    "\n",
    "plt.show()"
   ]
  },
  {
   "cell_type": "markdown",
   "metadata": {},
   "source": [
    "#### TESTING HYPOTHESIS"
   ]
  },
  {
   "cell_type": "markdown",
   "metadata": {},
   "source": [
    "##### Test 1:- Average user ratings of the Xbox One and PC platforms are the same\n",
    "Ho : There is no difference in the rating Xone and PC\n",
    "\n",
    "H1: There is a signifcance difference in the rating of Xone and PC\n",
    "\n",
    "##### Test 2:- Average user ratings for the Action and Sports genres are differenct\n",
    "Ho : There is no difference in the rating of action and sports games\n",
    "\n",
    "H1: There is a significance difference in the rating of action and sports games"
   ]
  },
  {
   "cell_type": "code",
   "execution_count": 64,
   "metadata": {},
   "outputs": [],
   "source": [
    "# Function for hypothesis testing\n",
    "def hypothesis_test(variable1, variable2, alpha):\n",
    "    variable1 = variable1\n",
    "    variable2 = variable2\n",
    "    # set critical statistical significance level\n",
    "    alpha = alpha\n",
    "    # test the hypothesis that the means of the two independent population are equal\n",
    "    results = st.ttest_ind(variable1, variable2, equal_var = False)\n",
    "    #print('The p-value is: {}'.format(results.pvalue))\n",
    "    # compare the p-value with the significance level\n",
    "    if (results.pvalue < alpha):\n",
    "        print('We reject the null hypohesis')\n",
    "    else:\n",
    "        print('We fail to reject the null hypothesis')"
   ]
  },
  {
   "cell_type": "code",
   "execution_count": 65,
   "metadata": {},
   "outputs": [
    {
     "name": "stdout",
     "output_type": "stream",
     "text": [
      "The average user rating for the Xbox is 6.521 and the average user rating for the PC is 7.066\n"
     ]
    }
   ],
   "source": [
    "# Calculation of average user ratings\n",
    "xbox1 = data[data.platform == 'XOne']['user_score'].mean()\n",
    "pc = data[data.platform == 'PC']['user_score'].mean()\n",
    "print('The average user rating for the Xbox is {:.3f}'.format(xbox1) + ' and ' + \\\n",
    "      'the average user rating for the PC is {:.3f}'.format(pc))"
   ]
  },
  {
   "cell_type": "code",
   "execution_count": 67,
   "metadata": {
    "scrolled": true
   },
   "outputs": [
    {
     "name": "stdout",
     "output_type": "stream",
     "text": [
      "We fail to reject the null hypothesis\n"
     ]
    }
   ],
   "source": [
    "# Hypothesis testing\n",
    "hypothesis_test(xbox1, pc, 0.05)"
   ]
  },
  {
   "cell_type": "markdown",
   "metadata": {},
   "source": [
    "#### FINAL CONCLUSION\n",
    "\n",
    "To know whether a game will succed or not, There are four major factors to consider: \n",
    "1. The genre of the game\n",
    "2. The platform the game will be played on \n",
    "3. The user score \n",
    "4. The location.\n",
    "\n",
    "Based on the data analyzed above, successful games have user score that ranges from 7 to 10 and critic score that ranges form 70-100.\n",
    "\n",
    "In North Amereica, The top 5 genres of games that will succeed include: Action, sport, shooter, Platform and Misc\n",
    "In North Amereica, The top 5 platforms for games that will succeed include: X360, PS2, Wii, PS3, DS\n",
    "\n",
    "In Europe, The top 5 genres of games that will succeed include: Action, sport, shooter, racing and Misc\n",
    "In Europe, The top 5 platforms for games that will succeed include: PS2, PS3, X360, Wii, PS\n",
    "\n",
    "In Japan, The top 5 genres of games that will succeed include: Role playing, action, sport, misc and Platform\n",
    "In Japan, The top 5 platforms for games that will succeed include: DS, PS, PS2, SNES, 3DS\n",
    "\n",
    "In Other Countries, The top 5 genres of games that will succeed include: Action, Sports, Shooter, Racing, Misc\n",
    "In Other Countries, The top 5 platforms for games that will succeed include: PS2, PS3, X360, Wii, DS"
   ]
  }
 ],
 "metadata": {
  "ExecuteTimeLog": [
   {
    "duration": 366,
    "start_time": "2021-06-09T15:27:56.666Z"
   },
   {
    "duration": 841,
    "start_time": "2021-06-09T15:28:01.661Z"
   },
   {
    "duration": 43,
    "start_time": "2021-06-09T15:28:06.052Z"
   },
   {
    "duration": 136,
    "start_time": "2021-06-09T17:12:35.247Z"
   },
   {
    "duration": 114,
    "start_time": "2021-06-09T17:12:40.548Z"
   },
   {
    "duration": 1399,
    "start_time": "2021-06-09T17:26:33.945Z"
   },
   {
    "duration": 20,
    "start_time": "2021-06-09T17:27:03.835Z"
   },
   {
    "duration": 357,
    "start_time": "2021-06-09T17:42:02.860Z"
   },
   {
    "duration": 443,
    "start_time": "2021-06-09T17:42:25.661Z"
   },
   {
    "duration": 815,
    "start_time": "2021-06-10T06:13:04.401Z"
   },
   {
    "duration": 20,
    "start_time": "2021-06-10T06:13:05.219Z"
   },
   {
    "duration": 500,
    "start_time": "2021-06-10T06:13:05.242Z"
   },
   {
    "duration": 17,
    "start_time": "2021-06-10T06:22:42.456Z"
   },
   {
    "duration": 12,
    "start_time": "2021-06-10T14:10:11.548Z"
   },
   {
    "duration": 23,
    "start_time": "2021-06-10T14:35:09.094Z"
   },
   {
    "duration": 752,
    "start_time": "2021-06-10T14:35:26.503Z"
   },
   {
    "duration": 18,
    "start_time": "2021-06-10T14:35:27.258Z"
   },
   {
    "duration": 13,
    "start_time": "2021-06-10T14:35:27.279Z"
   },
   {
    "duration": 20,
    "start_time": "2021-06-10T14:35:27.294Z"
   },
   {
    "duration": 21,
    "start_time": "2021-06-10T14:36:02.579Z"
   },
   {
    "duration": 12,
    "start_time": "2021-06-10T14:44:00.433Z"
   },
   {
    "duration": 22,
    "start_time": "2021-06-10T15:02:25.540Z"
   },
   {
    "duration": 774,
    "start_time": "2021-06-10T15:02:46.806Z"
   },
   {
    "duration": 912,
    "start_time": "2021-06-10T15:03:20.595Z"
   },
   {
    "duration": 6965,
    "start_time": "2021-06-10T15:03:27.027Z"
   },
   {
    "duration": 6182,
    "start_time": "2021-06-10T15:04:00.117Z"
   },
   {
    "duration": 5956,
    "start_time": "2021-06-10T15:04:53.156Z"
   },
   {
    "duration": 6365,
    "start_time": "2021-06-10T15:05:26.827Z"
   },
   {
    "duration": 809,
    "start_time": "2021-06-10T15:06:48.890Z"
   },
   {
    "duration": 19,
    "start_time": "2021-06-10T15:06:49.702Z"
   },
   {
    "duration": 31,
    "start_time": "2021-06-10T15:06:49.724Z"
   },
   {
    "duration": 20,
    "start_time": "2021-06-10T15:06:49.758Z"
   },
   {
    "duration": 12,
    "start_time": "2021-06-10T15:06:49.780Z"
   },
   {
    "duration": 347,
    "start_time": "2021-06-10T15:06:49.794Z"
   },
   {
    "duration": 23,
    "start_time": "2021-06-10T15:07:37.395Z"
   },
   {
    "duration": 12,
    "start_time": "2021-06-10T15:10:33.116Z"
   },
   {
    "duration": 278,
    "start_time": "2021-06-10T15:12:37.585Z"
   },
   {
    "duration": 807,
    "start_time": "2021-06-10T15:13:03.760Z"
   },
   {
    "duration": 21,
    "start_time": "2021-06-10T15:13:04.570Z"
   },
   {
    "duration": 20,
    "start_time": "2021-06-10T15:13:04.595Z"
   },
   {
    "duration": 51,
    "start_time": "2021-06-10T15:13:04.619Z"
   },
   {
    "duration": 12,
    "start_time": "2021-06-10T15:13:04.673Z"
   },
   {
    "duration": 25,
    "start_time": "2021-06-10T15:13:04.688Z"
   },
   {
    "duration": 381,
    "start_time": "2021-06-10T15:13:04.715Z"
   },
   {
    "duration": 26,
    "start_time": "2021-06-10T15:15:00.729Z"
   },
   {
    "duration": 23,
    "start_time": "2021-06-10T15:15:27.314Z"
   },
   {
    "duration": 24,
    "start_time": "2021-06-10T15:15:46.603Z"
   },
   {
    "duration": 14,
    "start_time": "2021-06-10T15:15:50.136Z"
   },
   {
    "duration": 300,
    "start_time": "2021-06-10T15:16:04.116Z"
   },
   {
    "duration": 30,
    "start_time": "2021-06-10T15:16:28.146Z"
   },
   {
    "duration": 18,
    "start_time": "2021-06-10T15:16:50.495Z"
   },
   {
    "duration": 274,
    "start_time": "2021-06-10T15:16:54.238Z"
   },
   {
    "duration": 20,
    "start_time": "2021-06-10T15:17:04.772Z"
   },
   {
    "duration": 75,
    "start_time": "2021-06-10T15:18:07.549Z"
   },
   {
    "duration": 791,
    "start_time": "2021-06-10T15:18:18.788Z"
   },
   {
    "duration": 20,
    "start_time": "2021-06-10T15:18:19.582Z"
   },
   {
    "duration": 29,
    "start_time": "2021-06-10T15:18:19.605Z"
   },
   {
    "duration": 33,
    "start_time": "2021-06-10T15:18:19.637Z"
   },
   {
    "duration": 12,
    "start_time": "2021-06-10T15:18:19.673Z"
   },
   {
    "duration": 38,
    "start_time": "2021-06-10T15:18:19.687Z"
   },
   {
    "duration": 358,
    "start_time": "2021-06-10T15:18:19.727Z"
   },
   {
    "duration": -918,
    "start_time": "2021-06-10T15:18:21.007Z"
   },
   {
    "duration": 21,
    "start_time": "2021-06-10T15:18:29.454Z"
   },
   {
    "duration": 242,
    "start_time": "2021-06-10T15:18:34.584Z"
   },
   {
    "duration": 31,
    "start_time": "2021-06-10T15:19:00.748Z"
   },
   {
    "duration": 18,
    "start_time": "2021-06-10T15:19:06.180Z"
   },
   {
    "duration": 14,
    "start_time": "2021-06-10T15:20:32.332Z"
   },
   {
    "duration": 28,
    "start_time": "2021-06-10T15:25:17.125Z"
   },
   {
    "duration": 13,
    "start_time": "2021-06-10T15:28:04.503Z"
   },
   {
    "duration": 24,
    "start_time": "2021-06-10T15:28:14.888Z"
   },
   {
    "duration": 1593,
    "start_time": "2021-06-10T15:30:12.963Z"
   },
   {
    "duration": 30,
    "start_time": "2021-06-10T15:30:14.559Z"
   },
   {
    "duration": 25,
    "start_time": "2021-06-10T15:30:14.592Z"
   },
   {
    "duration": 41,
    "start_time": "2021-06-10T15:30:14.621Z"
   },
   {
    "duration": 19,
    "start_time": "2021-06-10T15:30:14.665Z"
   },
   {
    "duration": 35,
    "start_time": "2021-06-10T15:30:14.687Z"
   },
   {
    "duration": 36,
    "start_time": "2021-06-10T15:30:14.724Z"
   },
   {
    "duration": 24,
    "start_time": "2021-06-10T15:30:14.764Z"
   },
   {
    "duration": 27,
    "start_time": "2021-06-10T15:30:14.791Z"
   },
   {
    "duration": 36,
    "start_time": "2021-06-10T15:30:14.821Z"
   },
   {
    "duration": 22,
    "start_time": "2021-06-10T15:30:19.055Z"
   },
   {
    "duration": 19,
    "start_time": "2021-06-10T15:30:24.363Z"
   },
   {
    "duration": 488,
    "start_time": "2021-06-10T15:39:13.090Z"
   },
   {
    "duration": 243,
    "start_time": "2021-06-10T15:39:30.792Z"
   },
   {
    "duration": 241,
    "start_time": "2021-06-10T15:40:07.604Z"
   },
   {
    "duration": 1520,
    "start_time": "2021-06-10T15:40:13.690Z"
   },
   {
    "duration": 21,
    "start_time": "2021-06-10T15:40:15.213Z"
   },
   {
    "duration": 28,
    "start_time": "2021-06-10T15:40:15.236Z"
   },
   {
    "duration": 33,
    "start_time": "2021-06-10T15:40:15.267Z"
   },
   {
    "duration": 14,
    "start_time": "2021-06-10T15:40:15.303Z"
   },
   {
    "duration": 37,
    "start_time": "2021-06-10T15:40:15.319Z"
   },
   {
    "duration": 17,
    "start_time": "2021-06-10T15:40:15.359Z"
   },
   {
    "duration": 27,
    "start_time": "2021-06-10T15:40:15.380Z"
   },
   {
    "duration": 24,
    "start_time": "2021-06-10T15:40:15.410Z"
   },
   {
    "duration": 503,
    "start_time": "2021-06-10T15:40:15.436Z"
   },
   {
    "duration": 22,
    "start_time": "2021-06-10T15:40:21.002Z"
   },
   {
    "duration": 16,
    "start_time": "2021-06-10T15:40:22.867Z"
   },
   {
    "duration": 20,
    "start_time": "2021-06-10T15:40:26.822Z"
   },
   {
    "duration": 75,
    "start_time": "2021-06-10T15:44:57.843Z"
   },
   {
    "duration": 289,
    "start_time": "2021-06-10T15:45:03.862Z"
   },
   {
    "duration": 257,
    "start_time": "2021-06-10T15:45:59.142Z"
   },
   {
    "duration": 6069,
    "start_time": "2021-06-10T15:47:36.992Z"
   },
   {
    "duration": 1547,
    "start_time": "2021-06-10T15:48:00.759Z"
   },
   {
    "duration": 20,
    "start_time": "2021-06-10T15:48:02.310Z"
   },
   {
    "duration": 25,
    "start_time": "2021-06-10T15:48:02.333Z"
   },
   {
    "duration": 20,
    "start_time": "2021-06-10T15:48:02.361Z"
   },
   {
    "duration": 12,
    "start_time": "2021-06-10T15:48:02.384Z"
   },
   {
    "duration": 61,
    "start_time": "2021-06-10T15:48:02.399Z"
   },
   {
    "duration": 19,
    "start_time": "2021-06-10T15:48:02.462Z"
   },
   {
    "duration": 27,
    "start_time": "2021-06-10T15:48:02.484Z"
   },
   {
    "duration": 54,
    "start_time": "2021-06-10T15:48:02.514Z"
   },
   {
    "duration": 347,
    "start_time": "2021-06-10T15:48:02.571Z"
   },
   {
    "duration": 22,
    "start_time": "2021-06-10T15:48:17.149Z"
   },
   {
    "duration": 21,
    "start_time": "2021-06-10T15:48:19.294Z"
   },
   {
    "duration": 311,
    "start_time": "2021-06-10T15:48:58.492Z"
   },
   {
    "duration": 281,
    "start_time": "2021-06-10T16:10:56.636Z"
   },
   {
    "duration": 293,
    "start_time": "2021-06-10T16:11:05.261Z"
   },
   {
    "duration": 311,
    "start_time": "2021-06-10T16:11:14.568Z"
   },
   {
    "duration": 397,
    "start_time": "2021-06-10T16:20:54.438Z"
   },
   {
    "duration": 252,
    "start_time": "2021-06-10T16:21:13.041Z"
   },
   {
    "duration": 265,
    "start_time": "2021-06-10T16:27:40.176Z"
   },
   {
    "duration": 1540,
    "start_time": "2021-06-10T16:32:47.954Z"
   },
   {
    "duration": 20,
    "start_time": "2021-06-10T16:32:49.497Z"
   },
   {
    "duration": 37,
    "start_time": "2021-06-10T16:32:49.521Z"
   },
   {
    "duration": 20,
    "start_time": "2021-06-10T16:32:49.561Z"
   },
   {
    "duration": 11,
    "start_time": "2021-06-10T16:32:49.583Z"
   },
   {
    "duration": 24,
    "start_time": "2021-06-10T16:32:49.596Z"
   },
   {
    "duration": 19,
    "start_time": "2021-06-10T16:32:49.655Z"
   },
   {
    "duration": 22,
    "start_time": "2021-06-10T16:32:49.677Z"
   },
   {
    "duration": 54,
    "start_time": "2021-06-10T16:32:49.702Z"
   },
   {
    "duration": 331,
    "start_time": "2021-06-10T16:32:49.758Z"
   },
   {
    "duration": 24,
    "start_time": "2021-06-10T16:32:50.091Z"
   },
   {
    "duration": 1478,
    "start_time": "2021-06-10T16:39:40.711Z"
   },
   {
    "duration": 19,
    "start_time": "2021-06-10T16:39:42.192Z"
   },
   {
    "duration": 16,
    "start_time": "2021-06-10T16:39:42.213Z"
   },
   {
    "duration": 41,
    "start_time": "2021-06-10T16:39:42.231Z"
   },
   {
    "duration": 13,
    "start_time": "2021-06-10T16:39:42.274Z"
   },
   {
    "duration": 48,
    "start_time": "2021-06-10T16:39:42.289Z"
   },
   {
    "duration": 42,
    "start_time": "2021-06-10T16:39:42.339Z"
   },
   {
    "duration": 22,
    "start_time": "2021-06-10T16:39:42.385Z"
   },
   {
    "duration": 25,
    "start_time": "2021-06-10T16:39:42.409Z"
   },
   {
    "duration": 347,
    "start_time": "2021-06-10T16:39:42.436Z"
   },
   {
    "duration": 18,
    "start_time": "2021-06-10T16:39:42.786Z"
   },
   {
    "duration": 17,
    "start_time": "2021-06-10T16:39:56.205Z"
   },
   {
    "duration": 17,
    "start_time": "2021-06-10T16:40:01.239Z"
   },
   {
    "duration": 17,
    "start_time": "2021-06-10T16:40:04.030Z"
   },
   {
    "duration": 316,
    "start_time": "2021-06-10T16:40:10.458Z"
   },
   {
    "duration": 22,
    "start_time": "2021-06-10T16:41:28.810Z"
   },
   {
    "duration": 20,
    "start_time": "2021-06-10T16:41:32.365Z"
   },
   {
    "duration": 320,
    "start_time": "2021-06-10T16:41:56.092Z"
   },
   {
    "duration": 25,
    "start_time": "2021-06-10T16:42:17.421Z"
   },
   {
    "duration": 7,
    "start_time": "2021-06-10T16:43:08.655Z"
   },
   {
    "duration": 24,
    "start_time": "2021-06-10T16:43:21.657Z"
   },
   {
    "duration": 22,
    "start_time": "2021-06-10T16:43:38.327Z"
   },
   {
    "duration": 1668,
    "start_time": "2021-06-10T16:43:58.024Z"
   },
   {
    "duration": 21,
    "start_time": "2021-06-10T16:43:59.695Z"
   },
   {
    "duration": 47,
    "start_time": "2021-06-10T16:43:59.719Z"
   },
   {
    "duration": 37,
    "start_time": "2021-06-10T16:43:59.769Z"
   },
   {
    "duration": 15,
    "start_time": "2021-06-10T16:43:59.810Z"
   },
   {
    "duration": 31,
    "start_time": "2021-06-10T16:43:59.828Z"
   },
   {
    "duration": 23,
    "start_time": "2021-06-10T16:43:59.861Z"
   },
   {
    "duration": 31,
    "start_time": "2021-06-10T16:43:59.888Z"
   },
   {
    "duration": 44,
    "start_time": "2021-06-10T16:43:59.922Z"
   },
   {
    "duration": 353,
    "start_time": "2021-06-10T16:43:59.969Z"
   },
   {
    "duration": 42,
    "start_time": "2021-06-10T16:44:00.324Z"
   },
   {
    "duration": 24,
    "start_time": "2021-06-10T16:44:00.368Z"
   },
   {
    "duration": 33,
    "start_time": "2021-06-10T16:44:17.900Z"
   },
   {
    "duration": 1648,
    "start_time": "2021-06-10T16:44:28.382Z"
   },
   {
    "duration": 21,
    "start_time": "2021-06-10T16:44:30.033Z"
   },
   {
    "duration": 30,
    "start_time": "2021-06-10T16:44:30.057Z"
   },
   {
    "duration": 28,
    "start_time": "2021-06-10T16:44:30.090Z"
   },
   {
    "duration": 12,
    "start_time": "2021-06-10T16:44:30.120Z"
   },
   {
    "duration": 42,
    "start_time": "2021-06-10T16:44:30.134Z"
   },
   {
    "duration": 18,
    "start_time": "2021-06-10T16:44:30.178Z"
   },
   {
    "duration": 23,
    "start_time": "2021-06-10T16:44:30.200Z"
   },
   {
    "duration": 50,
    "start_time": "2021-06-10T16:44:30.226Z"
   },
   {
    "duration": 352,
    "start_time": "2021-06-10T16:44:30.279Z"
   },
   {
    "duration": 34,
    "start_time": "2021-06-10T16:44:30.634Z"
   },
   {
    "duration": 33,
    "start_time": "2021-06-10T16:44:30.671Z"
   },
   {
    "duration": 10113,
    "start_time": "2021-06-10T16:46:55.136Z"
   },
   {
    "duration": 622,
    "start_time": "2021-06-10T16:47:06.006Z"
   },
   {
    "duration": 5967,
    "start_time": "2021-06-10T16:49:01.950Z"
   },
   {
    "duration": 572,
    "start_time": "2021-06-10T16:49:29.148Z"
   },
   {
    "duration": 4,
    "start_time": "2021-06-10T16:51:52.943Z"
   },
   {
    "duration": 4,
    "start_time": "2021-06-10T16:52:13.800Z"
   },
   {
    "duration": 91,
    "start_time": "2021-06-10T17:03:52.621Z"
   },
   {
    "duration": 1529,
    "start_time": "2021-06-10T17:19:59.899Z"
   },
   {
    "duration": 21,
    "start_time": "2021-06-10T17:20:01.431Z"
   },
   {
    "duration": 39,
    "start_time": "2021-06-10T17:20:01.457Z"
   },
   {
    "duration": 39,
    "start_time": "2021-06-10T17:20:01.499Z"
   },
   {
    "duration": 28,
    "start_time": "2021-06-10T17:20:01.540Z"
   },
   {
    "duration": 33,
    "start_time": "2021-06-10T17:20:01.571Z"
   },
   {
    "duration": 70,
    "start_time": "2021-06-10T17:20:01.606Z"
   },
   {
    "duration": 79,
    "start_time": "2021-06-10T17:20:01.680Z"
   },
   {
    "duration": 28,
    "start_time": "2021-06-10T17:20:01.763Z"
   },
   {
    "duration": 382,
    "start_time": "2021-06-10T17:20:01.794Z"
   },
   {
    "duration": 24,
    "start_time": "2021-06-10T17:20:02.178Z"
   },
   {
    "duration": 70,
    "start_time": "2021-06-10T17:20:02.204Z"
   },
   {
    "duration": 643,
    "start_time": "2021-06-10T17:20:02.277Z"
   },
   {
    "duration": 101,
    "start_time": "2021-06-10T17:20:02.922Z"
   },
   {
    "duration": 21,
    "start_time": "2021-06-10T17:20:08.983Z"
   },
   {
    "duration": 19,
    "start_time": "2021-06-10T17:20:11.184Z"
   },
   {
    "duration": 4140,
    "start_time": "2021-06-10T17:26:16.626Z"
   },
   {
    "duration": 1474,
    "start_time": "2021-06-11T07:13:13.760Z"
   },
   {
    "duration": 18,
    "start_time": "2021-06-11T07:13:15.237Z"
   },
   {
    "duration": 14,
    "start_time": "2021-06-11T07:13:15.258Z"
   },
   {
    "duration": 40,
    "start_time": "2021-06-11T07:13:15.274Z"
   },
   {
    "duration": 12,
    "start_time": "2021-06-11T07:13:15.316Z"
   },
   {
    "duration": 23,
    "start_time": "2021-06-11T07:13:15.330Z"
   },
   {
    "duration": 50,
    "start_time": "2021-06-11T07:13:15.356Z"
   },
   {
    "duration": 23,
    "start_time": "2021-06-11T07:13:15.411Z"
   },
   {
    "duration": 32,
    "start_time": "2021-06-11T07:13:15.436Z"
   },
   {
    "duration": 340,
    "start_time": "2021-06-11T07:13:15.471Z"
   },
   {
    "duration": 22,
    "start_time": "2021-06-11T07:13:15.814Z"
   },
   {
    "duration": 31,
    "start_time": "2021-06-11T07:13:15.839Z"
   },
   {
    "duration": 592,
    "start_time": "2021-06-11T07:13:15.901Z"
   },
   {
    "duration": 78,
    "start_time": "2021-06-11T07:13:16.500Z"
   },
   {
    "duration": 3879,
    "start_time": "2021-06-11T07:13:16.580Z"
   },
   {
    "duration": 22,
    "start_time": "2021-06-11T07:15:06.540Z"
   },
   {
    "duration": 20,
    "start_time": "2021-06-11T07:15:08.670Z"
   },
   {
    "duration": 6712,
    "start_time": "2021-06-11T07:24:04.088Z"
   },
   {
    "duration": 7005,
    "start_time": "2021-06-11T07:24:19.605Z"
   },
   {
    "duration": 1569,
    "start_time": "2021-06-11T07:30:43.870Z"
   },
   {
    "duration": 19,
    "start_time": "2021-06-11T07:30:45.442Z"
   },
   {
    "duration": 13,
    "start_time": "2021-06-11T07:30:45.464Z"
   },
   {
    "duration": 20,
    "start_time": "2021-06-11T07:30:45.501Z"
   },
   {
    "duration": 12,
    "start_time": "2021-06-11T07:30:45.524Z"
   },
   {
    "duration": 26,
    "start_time": "2021-06-11T07:30:45.539Z"
   },
   {
    "duration": 47,
    "start_time": "2021-06-11T07:30:45.567Z"
   },
   {
    "duration": 23,
    "start_time": "2021-06-11T07:30:45.617Z"
   },
   {
    "duration": 59,
    "start_time": "2021-06-11T07:30:45.643Z"
   },
   {
    "duration": 326,
    "start_time": "2021-06-11T07:30:45.705Z"
   },
   {
    "duration": 24,
    "start_time": "2021-06-11T07:30:46.033Z"
   },
   {
    "duration": 55,
    "start_time": "2021-06-11T07:30:46.060Z"
   },
   {
    "duration": 519,
    "start_time": "2021-06-11T07:30:46.117Z"
   },
   {
    "duration": 90,
    "start_time": "2021-06-11T07:30:46.639Z"
   },
   {
    "duration": 3886,
    "start_time": "2021-06-11T07:30:46.732Z"
   },
   {
    "duration": 6791,
    "start_time": "2021-06-11T07:30:50.621Z"
   },
   {
    "duration": 18,
    "start_time": "2021-06-11T07:40:38.292Z"
   },
   {
    "duration": 211,
    "start_time": "2021-06-11T07:42:35.791Z"
   },
   {
    "duration": 1542,
    "start_time": "2021-06-11T07:43:23.291Z"
   },
   {
    "duration": 20,
    "start_time": "2021-06-11T07:43:24.837Z"
   },
   {
    "duration": 17,
    "start_time": "2021-06-11T07:43:24.860Z"
   },
   {
    "duration": 25,
    "start_time": "2021-06-11T07:43:24.900Z"
   },
   {
    "duration": 11,
    "start_time": "2021-06-11T07:43:24.927Z"
   },
   {
    "duration": 28,
    "start_time": "2021-06-11T07:43:24.940Z"
   },
   {
    "duration": 42,
    "start_time": "2021-06-11T07:43:24.970Z"
   },
   {
    "duration": 34,
    "start_time": "2021-06-11T07:43:25.016Z"
   },
   {
    "duration": 23,
    "start_time": "2021-06-11T07:43:25.054Z"
   },
   {
    "duration": 324,
    "start_time": "2021-06-11T07:43:25.101Z"
   },
   {
    "duration": 23,
    "start_time": "2021-06-11T07:43:25.428Z"
   },
   {
    "duration": 53,
    "start_time": "2021-06-11T07:43:25.453Z"
   },
   {
    "duration": 540,
    "start_time": "2021-06-11T07:43:25.508Z"
   },
   {
    "duration": 94,
    "start_time": "2021-06-11T07:43:26.050Z"
   },
   {
    "duration": 4061,
    "start_time": "2021-06-11T07:43:26.146Z"
   },
   {
    "duration": 16,
    "start_time": "2021-06-11T07:43:30.209Z"
   },
   {
    "duration": 238,
    "start_time": "2021-06-11T07:43:30.228Z"
   },
   {
    "duration": 549,
    "start_time": "2021-06-11T07:52:01.991Z"
   },
   {
    "duration": 525,
    "start_time": "2021-06-11T07:52:08.482Z"
   },
   {
    "duration": 50,
    "start_time": "2021-06-11T07:52:52.156Z"
   },
   {
    "duration": 21,
    "start_time": "2021-06-11T07:55:36.766Z"
   },
   {
    "duration": 20,
    "start_time": "2021-06-11T07:55:40.009Z"
   },
   {
    "duration": 422,
    "start_time": "2021-06-11T07:56:33.578Z"
   },
   {
    "duration": 574,
    "start_time": "2021-06-11T08:01:51.141Z"
   },
   {
    "duration": 7,
    "start_time": "2021-06-11T08:03:16.221Z"
   },
   {
    "duration": 412,
    "start_time": "2021-06-11T08:03:58.397Z"
   },
   {
    "duration": 11,
    "start_time": "2021-06-11T08:06:56.638Z"
   },
   {
    "duration": 657,
    "start_time": "2021-06-11T08:18:35.564Z"
   },
   {
    "duration": 529,
    "start_time": "2021-06-11T08:19:20.840Z"
   },
   {
    "duration": 10,
    "start_time": "2021-06-11T08:32:58.590Z"
   },
   {
    "duration": 227,
    "start_time": "2021-06-11T08:34:36.993Z"
   },
   {
    "duration": 26,
    "start_time": "2021-06-11T08:39:58.030Z"
   },
   {
    "duration": 682,
    "start_time": "2021-06-11T08:40:37.724Z"
   },
   {
    "duration": 511,
    "start_time": "2021-06-11T08:42:18.984Z"
   },
   {
    "duration": 3,
    "start_time": "2021-06-11T08:43:00.771Z"
   },
   {
    "duration": 4,
    "start_time": "2021-06-11T08:43:03.378Z"
   },
   {
    "duration": 399,
    "start_time": "2021-06-11T08:43:18.264Z"
   },
   {
    "duration": 16,
    "start_time": "2021-06-11T08:43:33.035Z"
   },
   {
    "duration": 398,
    "start_time": "2021-06-11T08:43:40.454Z"
   },
   {
    "duration": 391,
    "start_time": "2021-06-11T08:43:53.412Z"
   },
   {
    "duration": 641,
    "start_time": "2021-06-11T08:44:27.816Z"
   },
   {
    "duration": 15,
    "start_time": "2021-06-11T08:45:49.101Z"
   },
   {
    "duration": 394,
    "start_time": "2021-06-11T08:46:05.130Z"
   },
   {
    "duration": 16,
    "start_time": "2021-06-11T08:46:49.763Z"
   },
   {
    "duration": 389,
    "start_time": "2021-06-11T08:47:06.520Z"
   },
   {
    "duration": 16,
    "start_time": "2021-06-11T08:48:21.420Z"
   },
   {
    "duration": 497,
    "start_time": "2021-06-11T08:49:06.189Z"
   },
   {
    "duration": 399,
    "start_time": "2021-06-11T08:49:25.325Z"
   },
   {
    "duration": 17,
    "start_time": "2021-06-11T08:52:08.897Z"
   },
   {
    "duration": 413,
    "start_time": "2021-06-11T08:52:22.980Z"
   },
   {
    "duration": 439,
    "start_time": "2021-06-11T08:52:42.394Z"
   },
   {
    "duration": 394,
    "start_time": "2021-06-11T08:53:24.853Z"
   },
   {
    "duration": 401,
    "start_time": "2021-06-11T08:53:52.922Z"
   },
   {
    "duration": 404,
    "start_time": "2021-06-11T08:54:08.842Z"
   },
   {
    "duration": 397,
    "start_time": "2021-06-11T08:54:19.414Z"
   },
   {
    "duration": 398,
    "start_time": "2021-06-11T08:54:30.302Z"
   },
   {
    "duration": 409,
    "start_time": "2021-06-11T08:54:39.864Z"
   },
   {
    "duration": 16,
    "start_time": "2021-06-11T08:55:09.593Z"
   },
   {
    "duration": 385,
    "start_time": "2021-06-11T08:55:43.035Z"
   },
   {
    "duration": 16,
    "start_time": "2021-06-11T08:56:10.286Z"
   },
   {
    "duration": 402,
    "start_time": "2021-06-11T08:56:22.058Z"
   },
   {
    "duration": 454,
    "start_time": "2021-06-11T08:56:30.961Z"
   },
   {
    "duration": 5,
    "start_time": "2021-06-11T09:04:07.289Z"
   },
   {
    "duration": 12,
    "start_time": "2021-06-11T09:04:11.764Z"
   },
   {
    "duration": 7,
    "start_time": "2021-06-11T09:04:41.195Z"
   },
   {
    "duration": 5,
    "start_time": "2021-06-11T09:04:44.454Z"
   },
   {
    "duration": 18,
    "start_time": "2021-06-11T09:10:12.697Z"
   },
   {
    "duration": 403,
    "start_time": "2021-06-11T09:11:03.300Z"
   }
  ],
  "kernelspec": {
   "display_name": "Python 3",
   "language": "python",
   "name": "python3"
  },
  "language_info": {
   "codemirror_mode": {
    "name": "ipython",
    "version": 3
   },
   "file_extension": ".py",
   "mimetype": "text/x-python",
   "name": "python",
   "nbconvert_exporter": "python",
   "pygments_lexer": "ipython3",
   "version": "3.6.4"
  },
  "toc": {
   "base_numbering": 1,
   "nav_menu": {},
   "number_sections": true,
   "sideBar": true,
   "skip_h1_title": true,
   "title_cell": "Table of Contents",
   "title_sidebar": "Contents",
   "toc_cell": false,
   "toc_position": {},
   "toc_section_display": true,
   "toc_window_display": false
  }
 },
 "nbformat": 4,
 "nbformat_minor": 2
}
